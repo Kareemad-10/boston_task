{
 "cells": [
  {
   "cell_type": "markdown",
   "metadata": {},
   "source": [
    "### Let's start to gather our dataset ` boston`"
   ]
  },
  {
   "cell_type": "code",
   "execution_count": 1,
   "metadata": {},
   "outputs": [],
   "source": [
    "import numpy as np, pandas as pd, matplotlib as mpl\n",
    "import matplotlib.pyplot as plt, seaborn as sns\n",
    "import os\n",
    "import zipfile, tarfile\n",
    "import urllib"
   ]
  },
  {
   "cell_type": "code",
   "execution_count": 2,
   "metadata": {},
   "outputs": [],
   "source": [
    "url = 'http://lib.stat.cmu.edu/datasets/boston'\n",
    "path = os.path.join('datasets', 'boston', '')\n",
    "file_name = 'boston.csv'\n",
    "file_path = os.path.join(path, file_name)"
   ]
  },
  {
   "cell_type": "code",
   "execution_count": 3,
   "metadata": {},
   "outputs": [],
   "source": [
    "def gather_data(url=url, path=path):\n",
    "    if not os.path.isdir(path):\n",
    "        os.makedirs(path)\n",
    "    urllib.request.urlretrieve(url, file_path)"
   ]
  },
  {
   "cell_type": "code",
   "execution_count": 4,
   "metadata": {},
   "outputs": [],
   "source": [
    "gather_data()"
   ]
  },
  {
   "cell_type": "markdown",
   "metadata": {},
   "source": [
    "### Load data"
   ]
  },
  {
   "cell_type": "markdown",
   "metadata": {},
   "source": [
    "Let's slice and dice our data so that we can prepare it for our research."
   ]
  },
  {
   "cell_type": "code",
   "execution_count": 71,
   "metadata": {},
   "outputs": [],
   "source": [
    "def load_data(path=path):\n",
    "    df = pd.read_csv(file_path, skiprows=22, header=None)\n",
    "    return df"
   ]
  },
  {
   "cell_type": "code",
   "execution_count": 72,
   "metadata": {},
   "outputs": [
    {
     "data": {
      "text/html": [
       "<div>\n",
       "<style scoped>\n",
       "    .dataframe tbody tr th:only-of-type {\n",
       "        vertical-align: middle;\n",
       "    }\n",
       "\n",
       "    .dataframe tbody tr th {\n",
       "        vertical-align: top;\n",
       "    }\n",
       "\n",
       "    .dataframe thead th {\n",
       "        text-align: right;\n",
       "    }\n",
       "</style>\n",
       "<table border=\"1\" class=\"dataframe\">\n",
       "  <thead>\n",
       "    <tr style=\"text-align: right;\">\n",
       "      <th></th>\n",
       "      <th>0</th>\n",
       "    </tr>\n",
       "  </thead>\n",
       "  <tbody>\n",
       "    <tr>\n",
       "      <th>0</th>\n",
       "      <td>0.00632  18.00   2.310  0  0.5380  6.5750  65...</td>\n",
       "    </tr>\n",
       "    <tr>\n",
       "      <th>1</th>\n",
       "      <td>396.90   4.98  24.00</td>\n",
       "    </tr>\n",
       "    <tr>\n",
       "      <th>2</th>\n",
       "      <td>0.02731   0.00   7.070  0  0.4690  6.4210  78...</td>\n",
       "    </tr>\n",
       "    <tr>\n",
       "      <th>3</th>\n",
       "      <td>396.90   9.14  21.60</td>\n",
       "    </tr>\n",
       "    <tr>\n",
       "      <th>4</th>\n",
       "      <td>0.02729   0.00   7.070  0  0.4690  7.1850  61...</td>\n",
       "    </tr>\n",
       "  </tbody>\n",
       "</table>\n",
       "</div>"
      ],
      "text/plain": [
       "                                                   0\n",
       "0   0.00632  18.00   2.310  0  0.5380  6.5750  65...\n",
       "1                               396.90   4.98  24.00\n",
       "2   0.02731   0.00   7.070  0  0.4690  6.4210  78...\n",
       "3                               396.90   9.14  21.60\n",
       "4   0.02729   0.00   7.070  0  0.4690  7.1850  61..."
      ]
     },
     "execution_count": 72,
     "metadata": {},
     "output_type": "execute_result"
    }
   ],
   "source": [
    "df = load_data()\n",
    "df.head()"
   ]
  },
  {
   "cell_type": "code",
   "execution_count": 73,
   "metadata": {},
   "outputs": [
    {
     "data": {
      "text/plain": [
       "(1012, 1)"
      ]
     },
     "execution_count": 73,
     "metadata": {},
     "output_type": "execute_result"
    }
   ],
   "source": [
    "df.shape"
   ]
  },
  {
   "cell_type": "code",
   "execution_count": 74,
   "metadata": {},
   "outputs": [],
   "source": [
    "import regex as re"
   ]
  },
  {
   "cell_type": "code",
   "execution_count": 75,
   "metadata": {},
   "outputs": [],
   "source": [
    "# let's define a function to clean our dataframe and change it's structure\n",
    "list_cols = []\n",
    "def clean_df(df):\n",
    "    df_ = df.copy()\n",
    "    concat = np.zeros((14,))\n",
    "    for idx in range(int(df_.shape[0])):\n",
    "        if idx%2==0:\n",
    "             list_ = (df_.iloc[idx, 0]+df_.iloc[idx+1, 0])\n",
    "             list_ = re.split(r' ', list_)\n",
    "             list_= np.array([i for i in list_ if not i==''])\n",
    "             concat = np.r_['0,2', concat, list_]\n",
    "    df_ = pd.DataFrame(concat, columns=['CRIM', 'ZN', 'INDUS', 'CHAS', 'NOX', 'RM', 'AGE', 'DIS', 'RAD', 'TAX', 'PTRATIO', 'B', 'LSTAT', 'MEDV'], dtype=np.float)\n",
    "    df_.drop([0], axis=0, inplace=True)\n",
    "    df_cleaned = df_.reset_index(drop=True)\n",
    "    return df_cleaned"
   ]
  },
  {
   "cell_type": "code",
   "execution_count": 76,
   "metadata": {
    "scrolled": true
   },
   "outputs": [],
   "source": [
    "df_org = clean_df(df) # 1st cleaning step is Done!"
   ]
  },
  {
   "cell_type": "markdown",
   "metadata": {},
   "source": [
    "### We could clean|repair our dataframe structure into a size of (506 rows, 14 attributes), like this:"
   ]
  },
  {
   "cell_type": "code",
   "execution_count": 77,
   "metadata": {
    "scrolled": true
   },
   "outputs": [
    {
     "data": {
      "text/html": [
       "<div>\n",
       "<style scoped>\n",
       "    .dataframe tbody tr th:only-of-type {\n",
       "        vertical-align: middle;\n",
       "    }\n",
       "\n",
       "    .dataframe tbody tr th {\n",
       "        vertical-align: top;\n",
       "    }\n",
       "\n",
       "    .dataframe thead th {\n",
       "        text-align: right;\n",
       "    }\n",
       "</style>\n",
       "<table border=\"1\" class=\"dataframe\">\n",
       "  <thead>\n",
       "    <tr style=\"text-align: right;\">\n",
       "      <th></th>\n",
       "      <th>CRIM</th>\n",
       "      <th>ZN</th>\n",
       "      <th>INDUS</th>\n",
       "      <th>CHAS</th>\n",
       "      <th>NOX</th>\n",
       "      <th>RM</th>\n",
       "      <th>AGE</th>\n",
       "      <th>DIS</th>\n",
       "      <th>RAD</th>\n",
       "      <th>TAX</th>\n",
       "      <th>PTRATIO</th>\n",
       "      <th>B</th>\n",
       "      <th>LSTAT</th>\n",
       "      <th>MEDV</th>\n",
       "    </tr>\n",
       "  </thead>\n",
       "  <tbody>\n",
       "    <tr>\n",
       "      <th>0</th>\n",
       "      <td>0.00632</td>\n",
       "      <td>18.0</td>\n",
       "      <td>2.31</td>\n",
       "      <td>0.0</td>\n",
       "      <td>0.538</td>\n",
       "      <td>6.575</td>\n",
       "      <td>65.2</td>\n",
       "      <td>4.0900</td>\n",
       "      <td>1.0</td>\n",
       "      <td>296.0</td>\n",
       "      <td>15.3</td>\n",
       "      <td>396.90</td>\n",
       "      <td>4.98</td>\n",
       "      <td>24.0</td>\n",
       "    </tr>\n",
       "    <tr>\n",
       "      <th>1</th>\n",
       "      <td>0.02731</td>\n",
       "      <td>0.0</td>\n",
       "      <td>7.07</td>\n",
       "      <td>0.0</td>\n",
       "      <td>0.469</td>\n",
       "      <td>6.421</td>\n",
       "      <td>78.9</td>\n",
       "      <td>4.9671</td>\n",
       "      <td>2.0</td>\n",
       "      <td>242.0</td>\n",
       "      <td>17.8</td>\n",
       "      <td>396.90</td>\n",
       "      <td>9.14</td>\n",
       "      <td>21.6</td>\n",
       "    </tr>\n",
       "    <tr>\n",
       "      <th>2</th>\n",
       "      <td>0.02729</td>\n",
       "      <td>0.0</td>\n",
       "      <td>7.07</td>\n",
       "      <td>0.0</td>\n",
       "      <td>0.469</td>\n",
       "      <td>7.185</td>\n",
       "      <td>61.1</td>\n",
       "      <td>4.9671</td>\n",
       "      <td>2.0</td>\n",
       "      <td>242.0</td>\n",
       "      <td>17.8</td>\n",
       "      <td>392.83</td>\n",
       "      <td>4.03</td>\n",
       "      <td>34.7</td>\n",
       "    </tr>\n",
       "    <tr>\n",
       "      <th>3</th>\n",
       "      <td>0.03237</td>\n",
       "      <td>0.0</td>\n",
       "      <td>2.18</td>\n",
       "      <td>0.0</td>\n",
       "      <td>0.458</td>\n",
       "      <td>6.998</td>\n",
       "      <td>45.8</td>\n",
       "      <td>6.0622</td>\n",
       "      <td>3.0</td>\n",
       "      <td>222.0</td>\n",
       "      <td>18.7</td>\n",
       "      <td>394.63</td>\n",
       "      <td>2.94</td>\n",
       "      <td>33.4</td>\n",
       "    </tr>\n",
       "    <tr>\n",
       "      <th>4</th>\n",
       "      <td>0.06905</td>\n",
       "      <td>0.0</td>\n",
       "      <td>2.18</td>\n",
       "      <td>0.0</td>\n",
       "      <td>0.458</td>\n",
       "      <td>7.147</td>\n",
       "      <td>54.2</td>\n",
       "      <td>6.0622</td>\n",
       "      <td>3.0</td>\n",
       "      <td>222.0</td>\n",
       "      <td>18.7</td>\n",
       "      <td>396.90</td>\n",
       "      <td>5.33</td>\n",
       "      <td>36.2</td>\n",
       "    </tr>\n",
       "  </tbody>\n",
       "</table>\n",
       "</div>"
      ],
      "text/plain": [
       "      CRIM    ZN  INDUS  CHAS    NOX     RM   AGE     DIS  RAD    TAX  \\\n",
       "0  0.00632  18.0   2.31   0.0  0.538  6.575  65.2  4.0900  1.0  296.0   \n",
       "1  0.02731   0.0   7.07   0.0  0.469  6.421  78.9  4.9671  2.0  242.0   \n",
       "2  0.02729   0.0   7.07   0.0  0.469  7.185  61.1  4.9671  2.0  242.0   \n",
       "3  0.03237   0.0   2.18   0.0  0.458  6.998  45.8  6.0622  3.0  222.0   \n",
       "4  0.06905   0.0   2.18   0.0  0.458  7.147  54.2  6.0622  3.0  222.0   \n",
       "\n",
       "   PTRATIO       B  LSTAT  MEDV  \n",
       "0     15.3  396.90   4.98  24.0  \n",
       "1     17.8  396.90   9.14  21.6  \n",
       "2     17.8  392.83   4.03  34.7  \n",
       "3     18.7  394.63   2.94  33.4  \n",
       "4     18.7  396.90   5.33  36.2  "
      ]
     },
     "execution_count": 77,
     "metadata": {},
     "output_type": "execute_result"
    }
   ],
   "source": [
    "df_org.head()"
   ]
  },
  {
   "cell_type": "code",
   "execution_count": 78,
   "metadata": {},
   "outputs": [
    {
     "data": {
      "text/plain": [
       "(506, 14)"
      ]
     },
     "execution_count": 78,
     "metadata": {},
     "output_type": "execute_result"
    }
   ],
   "source": [
    "df_org.shape"
   ]
  },
  {
   "cell_type": "code",
   "execution_count": 79,
   "metadata": {},
   "outputs": [
    {
     "name": "stdout",
     "output_type": "stream",
     "text": [
      "<class 'pandas.core.frame.DataFrame'>\n",
      "RangeIndex: 506 entries, 0 to 505\n",
      "Data columns (total 14 columns):\n",
      " #   Column   Non-Null Count  Dtype  \n",
      "---  ------   --------------  -----  \n",
      " 0   CRIM     506 non-null    float64\n",
      " 1   ZN       506 non-null    float64\n",
      " 2   INDUS    506 non-null    float64\n",
      " 3   CHAS     506 non-null    float64\n",
      " 4   NOX      506 non-null    float64\n",
      " 5   RM       506 non-null    float64\n",
      " 6   AGE      506 non-null    float64\n",
      " 7   DIS      506 non-null    float64\n",
      " 8   RAD      506 non-null    float64\n",
      " 9   TAX      506 non-null    float64\n",
      " 10  PTRATIO  506 non-null    float64\n",
      " 11  B        506 non-null    float64\n",
      " 12  LSTAT    506 non-null    float64\n",
      " 13  MEDV     506 non-null    float64\n",
      "dtypes: float64(14)\n",
      "memory usage: 55.5 KB\n"
     ]
    }
   ],
   "source": [
    "df_org.info()"
   ]
  },
  {
   "cell_type": "markdown",
   "metadata": {},
   "source": [
    "### let's convert the data type of the the two attributes `CHAS`, `RAD` into integer instead of float"
   ]
  },
  {
   "cell_type": "code",
   "execution_count": 80,
   "metadata": {},
   "outputs": [],
   "source": [
    "df_org.CHAS = df_org.CHAS.values.astype('int64')\n",
    "df_org.RAD = df_org.RAD.values.astype('int64')"
   ]
  },
  {
   "cell_type": "code",
   "execution_count": 81,
   "metadata": {},
   "outputs": [
    {
     "name": "stdout",
     "output_type": "stream",
     "text": [
      "<class 'pandas.core.frame.DataFrame'>\n",
      "RangeIndex: 506 entries, 0 to 505\n",
      "Data columns (total 14 columns):\n",
      " #   Column   Non-Null Count  Dtype  \n",
      "---  ------   --------------  -----  \n",
      " 0   CRIM     506 non-null    float64\n",
      " 1   ZN       506 non-null    float64\n",
      " 2   INDUS    506 non-null    float64\n",
      " 3   CHAS     506 non-null    int64  \n",
      " 4   NOX      506 non-null    float64\n",
      " 5   RM       506 non-null    float64\n",
      " 6   AGE      506 non-null    float64\n",
      " 7   DIS      506 non-null    float64\n",
      " 8   RAD      506 non-null    int64  \n",
      " 9   TAX      506 non-null    float64\n",
      " 10  PTRATIO  506 non-null    float64\n",
      " 11  B        506 non-null    float64\n",
      " 12  LSTAT    506 non-null    float64\n",
      " 13  MEDV     506 non-null    float64\n",
      "dtypes: float64(12), int64(2)\n",
      "memory usage: 55.5 KB\n"
     ]
    }
   ],
   "source": [
    "df_org.info()"
   ]
  },
  {
   "cell_type": "code",
   "execution_count": 82,
   "metadata": {},
   "outputs": [
    {
     "data": {
      "text/plain": [
       "24    132\n",
       "5     115\n",
       "4     110\n",
       "3      38\n",
       "6      26\n",
       "8      24\n",
       "2      24\n",
       "1      20\n",
       "7      17\n",
       "Name: RAD, dtype: int64"
      ]
     },
     "execution_count": 82,
     "metadata": {},
     "output_type": "execute_result"
    }
   ],
   "source": [
    "df_org.CHAS.value_counts()\n",
    "df_org.RAD.value_counts() # Done!"
   ]
  },
  {
   "cell_type": "markdown",
   "metadata": {},
   "source": [
    "### We could prepare our data for the research by preparing the data structure very well and cleaning data types <br>\n",
    "It's the time to start our research: to predict both the nitrous oxide concentration `NOX`, the median value of home `MEDV`"
   ]
  },
  {
   "cell_type": "code",
   "execution_count": 299,
   "metadata": {},
   "outputs": [
    {
     "data": {
      "text/html": [
       "<div>\n",
       "<style scoped>\n",
       "    .dataframe tbody tr th:only-of-type {\n",
       "        vertical-align: middle;\n",
       "    }\n",
       "\n",
       "    .dataframe tbody tr th {\n",
       "        vertical-align: top;\n",
       "    }\n",
       "\n",
       "    .dataframe thead th {\n",
       "        text-align: right;\n",
       "    }\n",
       "</style>\n",
       "<table border=\"1\" class=\"dataframe\">\n",
       "  <thead>\n",
       "    <tr style=\"text-align: right;\">\n",
       "      <th></th>\n",
       "      <th>CRIM</th>\n",
       "      <th>ZN</th>\n",
       "      <th>INDUS</th>\n",
       "      <th>CHAS</th>\n",
       "      <th>NOX</th>\n",
       "      <th>RM</th>\n",
       "      <th>AGE</th>\n",
       "      <th>DIS</th>\n",
       "      <th>RAD</th>\n",
       "      <th>TAX</th>\n",
       "      <th>PTRATIO</th>\n",
       "      <th>B</th>\n",
       "      <th>LSTAT</th>\n",
       "      <th>MEDV</th>\n",
       "    </tr>\n",
       "  </thead>\n",
       "  <tbody>\n",
       "    <tr>\n",
       "      <th>0</th>\n",
       "      <td>0.00632</td>\n",
       "      <td>18.0</td>\n",
       "      <td>2.31</td>\n",
       "      <td>0</td>\n",
       "      <td>0.538</td>\n",
       "      <td>6.575</td>\n",
       "      <td>65.2</td>\n",
       "      <td>4.0900</td>\n",
       "      <td>1</td>\n",
       "      <td>296.0</td>\n",
       "      <td>15.3</td>\n",
       "      <td>396.90</td>\n",
       "      <td>4.98</td>\n",
       "      <td>24.0</td>\n",
       "    </tr>\n",
       "    <tr>\n",
       "      <th>1</th>\n",
       "      <td>0.02731</td>\n",
       "      <td>0.0</td>\n",
       "      <td>7.07</td>\n",
       "      <td>0</td>\n",
       "      <td>0.469</td>\n",
       "      <td>6.421</td>\n",
       "      <td>78.9</td>\n",
       "      <td>4.9671</td>\n",
       "      <td>2</td>\n",
       "      <td>242.0</td>\n",
       "      <td>17.8</td>\n",
       "      <td>396.90</td>\n",
       "      <td>9.14</td>\n",
       "      <td>21.6</td>\n",
       "    </tr>\n",
       "    <tr>\n",
       "      <th>2</th>\n",
       "      <td>0.02729</td>\n",
       "      <td>0.0</td>\n",
       "      <td>7.07</td>\n",
       "      <td>0</td>\n",
       "      <td>0.469</td>\n",
       "      <td>7.185</td>\n",
       "      <td>61.1</td>\n",
       "      <td>4.9671</td>\n",
       "      <td>2</td>\n",
       "      <td>242.0</td>\n",
       "      <td>17.8</td>\n",
       "      <td>392.83</td>\n",
       "      <td>4.03</td>\n",
       "      <td>34.7</td>\n",
       "    </tr>\n",
       "    <tr>\n",
       "      <th>3</th>\n",
       "      <td>0.03237</td>\n",
       "      <td>0.0</td>\n",
       "      <td>2.18</td>\n",
       "      <td>0</td>\n",
       "      <td>0.458</td>\n",
       "      <td>6.998</td>\n",
       "      <td>45.8</td>\n",
       "      <td>6.0622</td>\n",
       "      <td>3</td>\n",
       "      <td>222.0</td>\n",
       "      <td>18.7</td>\n",
       "      <td>394.63</td>\n",
       "      <td>2.94</td>\n",
       "      <td>33.4</td>\n",
       "    </tr>\n",
       "    <tr>\n",
       "      <th>4</th>\n",
       "      <td>0.06905</td>\n",
       "      <td>0.0</td>\n",
       "      <td>2.18</td>\n",
       "      <td>0</td>\n",
       "      <td>0.458</td>\n",
       "      <td>7.147</td>\n",
       "      <td>54.2</td>\n",
       "      <td>6.0622</td>\n",
       "      <td>3</td>\n",
       "      <td>222.0</td>\n",
       "      <td>18.7</td>\n",
       "      <td>396.90</td>\n",
       "      <td>5.33</td>\n",
       "      <td>36.2</td>\n",
       "    </tr>\n",
       "    <tr>\n",
       "      <th>...</th>\n",
       "      <td>...</td>\n",
       "      <td>...</td>\n",
       "      <td>...</td>\n",
       "      <td>...</td>\n",
       "      <td>...</td>\n",
       "      <td>...</td>\n",
       "      <td>...</td>\n",
       "      <td>...</td>\n",
       "      <td>...</td>\n",
       "      <td>...</td>\n",
       "      <td>...</td>\n",
       "      <td>...</td>\n",
       "      <td>...</td>\n",
       "      <td>...</td>\n",
       "    </tr>\n",
       "    <tr>\n",
       "      <th>501</th>\n",
       "      <td>0.06263</td>\n",
       "      <td>0.0</td>\n",
       "      <td>11.93</td>\n",
       "      <td>0</td>\n",
       "      <td>0.573</td>\n",
       "      <td>6.593</td>\n",
       "      <td>69.1</td>\n",
       "      <td>2.4786</td>\n",
       "      <td>1</td>\n",
       "      <td>273.0</td>\n",
       "      <td>21.0</td>\n",
       "      <td>391.99</td>\n",
       "      <td>9.67</td>\n",
       "      <td>22.4</td>\n",
       "    </tr>\n",
       "    <tr>\n",
       "      <th>502</th>\n",
       "      <td>0.04527</td>\n",
       "      <td>0.0</td>\n",
       "      <td>11.93</td>\n",
       "      <td>0</td>\n",
       "      <td>0.573</td>\n",
       "      <td>6.120</td>\n",
       "      <td>76.7</td>\n",
       "      <td>2.2875</td>\n",
       "      <td>1</td>\n",
       "      <td>273.0</td>\n",
       "      <td>21.0</td>\n",
       "      <td>396.90</td>\n",
       "      <td>9.08</td>\n",
       "      <td>20.6</td>\n",
       "    </tr>\n",
       "    <tr>\n",
       "      <th>503</th>\n",
       "      <td>0.06076</td>\n",
       "      <td>0.0</td>\n",
       "      <td>11.93</td>\n",
       "      <td>0</td>\n",
       "      <td>0.573</td>\n",
       "      <td>6.976</td>\n",
       "      <td>91.0</td>\n",
       "      <td>2.1675</td>\n",
       "      <td>1</td>\n",
       "      <td>273.0</td>\n",
       "      <td>21.0</td>\n",
       "      <td>396.90</td>\n",
       "      <td>5.64</td>\n",
       "      <td>23.9</td>\n",
       "    </tr>\n",
       "    <tr>\n",
       "      <th>504</th>\n",
       "      <td>0.10959</td>\n",
       "      <td>0.0</td>\n",
       "      <td>11.93</td>\n",
       "      <td>0</td>\n",
       "      <td>0.573</td>\n",
       "      <td>6.794</td>\n",
       "      <td>89.3</td>\n",
       "      <td>2.3889</td>\n",
       "      <td>1</td>\n",
       "      <td>273.0</td>\n",
       "      <td>21.0</td>\n",
       "      <td>393.45</td>\n",
       "      <td>6.48</td>\n",
       "      <td>22.0</td>\n",
       "    </tr>\n",
       "    <tr>\n",
       "      <th>505</th>\n",
       "      <td>0.04741</td>\n",
       "      <td>0.0</td>\n",
       "      <td>11.93</td>\n",
       "      <td>0</td>\n",
       "      <td>0.573</td>\n",
       "      <td>6.030</td>\n",
       "      <td>80.8</td>\n",
       "      <td>2.5050</td>\n",
       "      <td>1</td>\n",
       "      <td>273.0</td>\n",
       "      <td>21.0</td>\n",
       "      <td>396.90</td>\n",
       "      <td>7.88</td>\n",
       "      <td>11.9</td>\n",
       "    </tr>\n",
       "  </tbody>\n",
       "</table>\n",
       "<p>506 rows × 14 columns</p>\n",
       "</div>"
      ],
      "text/plain": [
       "        CRIM    ZN  INDUS  CHAS    NOX     RM   AGE     DIS  RAD    TAX  \\\n",
       "0    0.00632  18.0   2.31     0  0.538  6.575  65.2  4.0900    1  296.0   \n",
       "1    0.02731   0.0   7.07     0  0.469  6.421  78.9  4.9671    2  242.0   \n",
       "2    0.02729   0.0   7.07     0  0.469  7.185  61.1  4.9671    2  242.0   \n",
       "3    0.03237   0.0   2.18     0  0.458  6.998  45.8  6.0622    3  222.0   \n",
       "4    0.06905   0.0   2.18     0  0.458  7.147  54.2  6.0622    3  222.0   \n",
       "..       ...   ...    ...   ...    ...    ...   ...     ...  ...    ...   \n",
       "501  0.06263   0.0  11.93     0  0.573  6.593  69.1  2.4786    1  273.0   \n",
       "502  0.04527   0.0  11.93     0  0.573  6.120  76.7  2.2875    1  273.0   \n",
       "503  0.06076   0.0  11.93     0  0.573  6.976  91.0  2.1675    1  273.0   \n",
       "504  0.10959   0.0  11.93     0  0.573  6.794  89.3  2.3889    1  273.0   \n",
       "505  0.04741   0.0  11.93     0  0.573  6.030  80.8  2.5050    1  273.0   \n",
       "\n",
       "     PTRATIO       B  LSTAT  MEDV  \n",
       "0       15.3  396.90   4.98  24.0  \n",
       "1       17.8  396.90   9.14  21.6  \n",
       "2       17.8  392.83   4.03  34.7  \n",
       "3       18.7  394.63   2.94  33.4  \n",
       "4       18.7  396.90   5.33  36.2  \n",
       "..       ...     ...    ...   ...  \n",
       "501     21.0  391.99   9.67  22.4  \n",
       "502     21.0  396.90   9.08  20.6  \n",
       "503     21.0  396.90   5.64  23.9  \n",
       "504     21.0  393.45   6.48  22.0  \n",
       "505     21.0  396.90   7.88  11.9  \n",
       "\n",
       "[506 rows x 14 columns]"
      ]
     },
     "execution_count": 299,
     "metadata": {},
     "output_type": "execute_result"
    }
   ],
   "source": [
    "df_org"
   ]
  },
  {
   "cell_type": "code",
   "execution_count": 298,
   "metadata": {},
   "outputs": [
    {
     "data": {
      "image/png": "[encoded data removed]",
      "text/plain": [
       "<Figure size 432x288 with 2 Axes>"
      ]
     },
     "metadata": {
      "needs_background": "light"
     },
     "output_type": "display_data"
    }
   ],
   "source": [
    "# let's investigate the correlation matrix\n",
    "cor_mat = df_org.corr()\n",
    "sns.heatmap(cor_mat, linewidths=1.5)\n",
    "plt.show()"
   ]
  },
  {
   "cell_type": "code",
   "execution_count": 20,
   "metadata": {
    "scrolled": true
   },
   "outputs": [
    {
     "data": {
      "text/plain": [
       "MEDV       1.000000\n",
       "RM         0.695360\n",
       "ZN         0.360445\n",
       "B          0.333461\n",
       "DIS        0.249929\n",
       "CHAS       0.175260\n",
       "AGE       -0.376955\n",
       "RAD       -0.381626\n",
       "CRIM      -0.388305\n",
       "NOX       -0.427321\n",
       "TAX       -0.468536\n",
       "INDUS     -0.483725\n",
       "PTRATIO   -0.507787\n",
       "LSTAT     -0.737663\n",
       "Name: MEDV, dtype: float64"
      ]
     },
     "execution_count": 20,
     "metadata": {},
     "output_type": "execute_result"
    }
   ],
   "source": [
    "# let's investigate the highly -ve, +ve correlated attributes with the median house value attribute\n",
    "cor_mat.MEDV.sort_values(ascending=False)"
   ]
  },
  {
   "cell_type": "markdown",
   "metadata": {},
   "source": [
    "### It's obvious the high positive correlation between the average number of rooms per home with the median house value -> the bigger size, the median house value.\n",
    "Also, **there is a very high negative correlation between the median house value and %lower status of population as well.**"
   ]
  },
  {
   "cell_type": "code",
   "execution_count": 21,
   "metadata": {
    "scrolled": false
   },
   "outputs": [
    {
     "data": {
      "text/plain": [
       "<matplotlib.axes._subplots.AxesSubplot at 0x2f2e33423a0>"
      ]
     },
     "execution_count": 21,
     "metadata": {},
     "output_type": "execute_result"
    },
    {
     "data": {
      "image/png": "[encoded data removed]",
      "text/plain": [
       "<Figure size 432x288 with 1 Axes>"
      ]
     },
     "metadata": {
      "needs_background": "light"
     },
     "output_type": "display_data"
    }
   ],
   "source": [
    "df_org.plot(kind='scatter', x='RM', y='MEDV')"
   ]
  },
  {
   "cell_type": "code",
   "execution_count": 22,
   "metadata": {
    "scrolled": true
   },
   "outputs": [
    {
     "data": {
      "text/plain": [
       "<matplotlib.axes._subplots.AxesSubplot at 0x2f2e3342430>"
      ]
     },
     "execution_count": 22,
     "metadata": {},
     "output_type": "execute_result"
    },
    {
     "data": {
      "image/png": "[encoded data removed]",
      "text/plain": [
       "<Figure size 432x288 with 1 Axes>"
      ]
     },
     "metadata": {
      "needs_background": "light"
     },
     "output_type": "display_data"
    }
   ],
   "source": [
    "df_org.plot(kind='scatter', x='LSTAT', y='MEDV')"
   ]
  },
  {
   "cell_type": "code",
   "execution_count": 36,
   "metadata": {
    "scrolled": true
   },
   "outputs": [
    {
     "data": {
      "image/png": "[encoded data removed]",
      "text/plain": [
       "<Figure size 432x288 with 1 Axes>"
      ]
     },
     "metadata": {
      "needs_background": "light"
     },
     "output_type": "display_data"
    }
   ],
   "source": [
    "df_org.RM.plot(kind='hist', bins=20)\n",
    "plt.grid()\n",
    "plt.title('Histogram of the avg. num of rooms per home')\n",
    "plt.xlabel('RM: AvgRoomPerRoom')\n",
    "plt.show() # Symmetric data"
   ]
  },
  {
   "cell_type": "markdown",
   "metadata": {},
   "source": [
    "### It's obvious that the % lower status is decreasing so the population income in boston is good|high."
   ]
  },
  {
   "cell_type": "code",
   "execution_count": 37,
   "metadata": {
    "scrolled": true
   },
   "outputs": [
    {
     "data": {
      "image/png": "[encoded data removed]",
      "text/plain": [
       "<Figure size 432x288 with 1 Axes>"
      ]
     },
     "metadata": {
      "needs_background": "light"
     },
     "output_type": "display_data"
    }
   ],
   "source": [
    "df_org.LSTAT.plot(kind='hist', bins=20)\n",
    "plt.grid()\n",
    "plt.title('Histogram of the %Lower status of population')\n",
    "plt.xlabel('LSTAT: %LowerStatusOfPopulation')\n",
    "plt.show() # Positively skewed."
   ]
  },
  {
   "cell_type": "code",
   "execution_count": 645,
   "metadata": {},
   "outputs": [],
   "source": [
    "# We aim here to categorize the %lower status attribute to help us split our dataframe securely.\n",
    "df_ = df_org.copy()\n",
    "lower_status_cut = pd.cut(df_.LSTAT, bins=[0, 5, 10, 15, 20, 25, 30, np.inf], labels=[1, 2, 3, 4, 5, 6, 7])\n",
    "df_['LSTAT_cut'] = lower_status_cut"
   ]
  },
  {
   "cell_type": "code",
   "execution_count": 646,
   "metadata": {
    "scrolled": true
   },
   "outputs": [
    {
     "name": "stdout",
     "output_type": "stream",
     "text": [
      "<class 'pandas.core.frame.DataFrame'>\n",
      "RangeIndex: 506 entries, 0 to 505\n",
      "Data columns (total 15 columns):\n",
      " #   Column     Non-Null Count  Dtype   \n",
      "---  ------     --------------  -----   \n",
      " 0   CRIM       506 non-null    float64 \n",
      " 1   ZN         506 non-null    float64 \n",
      " 2   INDUS      506 non-null    float64 \n",
      " 3   CHAS       506 non-null    int64   \n",
      " 4   NOX        506 non-null    float64 \n",
      " 5   RM         506 non-null    float64 \n",
      " 6   AGE        506 non-null    float64 \n",
      " 7   DIS        506 non-null    float64 \n",
      " 8   RAD        506 non-null    int64   \n",
      " 9   TAX        506 non-null    float64 \n",
      " 10  PTRATIO    506 non-null    float64 \n",
      " 11  B          506 non-null    float64 \n",
      " 12  LSTAT      506 non-null    float64 \n",
      " 13  MEDV       506 non-null    float64 \n",
      " 14  LSTAT_cut  506 non-null    category\n",
      "dtypes: category(1), float64(12), int64(2)\n",
      "memory usage: 56.3 KB\n"
     ]
    }
   ],
   "source": [
    "df_.info() # Done!"
   ]
  },
  {
   "cell_type": "markdown",
   "metadata": {},
   "source": [
    "### Let's split our dataframe into training and testing sets based on all stratas of the %LowerStaus of population attribute because it shows us the strongest linear correlation with the target attribute MEDV"
   ]
  },
  {
   "cell_type": "code",
   "execution_count": 647,
   "metadata": {},
   "outputs": [],
   "source": [
    "from sklearn.model_selection import StratifiedShuffleSplit\n",
    "\n",
    "splitting_obj = StratifiedShuffleSplit(n_splits=1, test_size=0.2, random_state=42)"
   ]
  },
  {
   "cell_type": "code",
   "execution_count": 648,
   "metadata": {},
   "outputs": [],
   "source": [
    "for train_idx, test_idx in splitting_obj.split(df_, df_.LSTAT_cut):\n",
    "    train_df = df_.loc[train_idx]\n",
    "    test_df = df_.loc[test_idx]"
   ]
  },
  {
   "cell_type": "code",
   "execution_count": 649,
   "metadata": {},
   "outputs": [
    {
     "data": {
      "text/plain": [
       "((404, 15), (102, 15))"
      ]
     },
     "execution_count": 649,
     "metadata": {},
     "output_type": "execute_result"
    }
   ],
   "source": [
    "train_df.shape, test_df.shape"
   ]
  },
  {
   "cell_type": "code",
   "execution_count": 650,
   "metadata": {},
   "outputs": [
    {
     "data": {
      "text/html": [
       "<div>\n",
       "<style scoped>\n",
       "    .dataframe tbody tr th:only-of-type {\n",
       "        vertical-align: middle;\n",
       "    }\n",
       "\n",
       "    .dataframe tbody tr th {\n",
       "        vertical-align: top;\n",
       "    }\n",
       "\n",
       "    .dataframe thead th {\n",
       "        text-align: right;\n",
       "    }\n",
       "</style>\n",
       "<table border=\"1\" class=\"dataframe\">\n",
       "  <thead>\n",
       "    <tr style=\"text-align: right;\">\n",
       "      <th></th>\n",
       "      <th>CRIM</th>\n",
       "      <th>ZN</th>\n",
       "      <th>INDUS</th>\n",
       "      <th>CHAS</th>\n",
       "      <th>NOX</th>\n",
       "      <th>RM</th>\n",
       "      <th>AGE</th>\n",
       "      <th>DIS</th>\n",
       "      <th>RAD</th>\n",
       "      <th>TAX</th>\n",
       "      <th>PTRATIO</th>\n",
       "      <th>B</th>\n",
       "      <th>LSTAT</th>\n",
       "      <th>MEDV</th>\n",
       "      <th>LSTAT_cut</th>\n",
       "    </tr>\n",
       "  </thead>\n",
       "  <tbody>\n",
       "    <tr>\n",
       "      <th>123</th>\n",
       "      <td>0.15038</td>\n",
       "      <td>0.0</td>\n",
       "      <td>25.65</td>\n",
       "      <td>0</td>\n",
       "      <td>0.581</td>\n",
       "      <td>5.856</td>\n",
       "      <td>97.0</td>\n",
       "      <td>1.9444</td>\n",
       "      <td>2</td>\n",
       "      <td>188.0</td>\n",
       "      <td>19.1</td>\n",
       "      <td>370.31</td>\n",
       "      <td>25.41</td>\n",
       "      <td>17.3</td>\n",
       "      <td>6</td>\n",
       "    </tr>\n",
       "    <tr>\n",
       "      <th>323</th>\n",
       "      <td>0.28392</td>\n",
       "      <td>0.0</td>\n",
       "      <td>7.38</td>\n",
       "      <td>0</td>\n",
       "      <td>0.493</td>\n",
       "      <td>5.708</td>\n",
       "      <td>74.3</td>\n",
       "      <td>4.7211</td>\n",
       "      <td>5</td>\n",
       "      <td>287.0</td>\n",
       "      <td>19.6</td>\n",
       "      <td>391.13</td>\n",
       "      <td>11.74</td>\n",
       "      <td>18.5</td>\n",
       "      <td>3</td>\n",
       "    </tr>\n",
       "    <tr>\n",
       "      <th>166</th>\n",
       "      <td>2.01019</td>\n",
       "      <td>0.0</td>\n",
       "      <td>19.58</td>\n",
       "      <td>0</td>\n",
       "      <td>0.605</td>\n",
       "      <td>7.929</td>\n",
       "      <td>96.2</td>\n",
       "      <td>2.0459</td>\n",
       "      <td>5</td>\n",
       "      <td>403.0</td>\n",
       "      <td>14.7</td>\n",
       "      <td>369.30</td>\n",
       "      <td>3.70</td>\n",
       "      <td>50.0</td>\n",
       "      <td>1</td>\n",
       "    </tr>\n",
       "    <tr>\n",
       "      <th>214</th>\n",
       "      <td>0.28955</td>\n",
       "      <td>0.0</td>\n",
       "      <td>10.59</td>\n",
       "      <td>0</td>\n",
       "      <td>0.489</td>\n",
       "      <td>5.412</td>\n",
       "      <td>9.8</td>\n",
       "      <td>3.5875</td>\n",
       "      <td>4</td>\n",
       "      <td>277.0</td>\n",
       "      <td>18.6</td>\n",
       "      <td>348.93</td>\n",
       "      <td>29.55</td>\n",
       "      <td>23.7</td>\n",
       "      <td>6</td>\n",
       "    </tr>\n",
       "    <tr>\n",
       "      <th>94</th>\n",
       "      <td>0.04294</td>\n",
       "      <td>28.0</td>\n",
       "      <td>15.04</td>\n",
       "      <td>0</td>\n",
       "      <td>0.464</td>\n",
       "      <td>6.249</td>\n",
       "      <td>77.3</td>\n",
       "      <td>3.6150</td>\n",
       "      <td>4</td>\n",
       "      <td>270.0</td>\n",
       "      <td>18.2</td>\n",
       "      <td>396.90</td>\n",
       "      <td>10.59</td>\n",
       "      <td>20.6</td>\n",
       "      <td>3</td>\n",
       "    </tr>\n",
       "  </tbody>\n",
       "</table>\n",
       "</div>"
      ],
      "text/plain": [
       "        CRIM    ZN  INDUS  CHAS    NOX     RM   AGE     DIS  RAD    TAX  \\\n",
       "123  0.15038   0.0  25.65     0  0.581  5.856  97.0  1.9444    2  188.0   \n",
       "323  0.28392   0.0   7.38     0  0.493  5.708  74.3  4.7211    5  287.0   \n",
       "166  2.01019   0.0  19.58     0  0.605  7.929  96.2  2.0459    5  403.0   \n",
       "214  0.28955   0.0  10.59     0  0.489  5.412   9.8  3.5875    4  277.0   \n",
       "94   0.04294  28.0  15.04     0  0.464  6.249  77.3  3.6150    4  270.0   \n",
       "\n",
       "     PTRATIO       B  LSTAT  MEDV LSTAT_cut  \n",
       "123     19.1  370.31  25.41  17.3         6  \n",
       "323     19.6  391.13  11.74  18.5         3  \n",
       "166     14.7  369.30   3.70  50.0         1  \n",
       "214     18.6  348.93  29.55  23.7         6  \n",
       "94      18.2  396.90  10.59  20.6         3  "
      ]
     },
     "execution_count": 650,
     "metadata": {},
     "output_type": "execute_result"
    }
   ],
   "source": [
    "train_df.head()"
   ]
  },
  {
   "cell_type": "markdown",
   "metadata": {},
   "source": [
    "the contribution of the LSTAT categories in the dataframe of both the training and testing is equally represented so as not to have **sampling bias**"
   ]
  },
  {
   "cell_type": "code",
   "execution_count": 651,
   "metadata": {},
   "outputs": [
    {
     "data": {
      "text/plain": [
       "2    0.309406\n",
       "3    0.247525\n",
       "4    0.173267\n",
       "1    0.121287\n",
       "5    0.079208\n",
       "6    0.044554\n",
       "7    0.024752\n",
       "Name: LSTAT_cut, dtype: float64"
      ]
     },
     "execution_count": 651,
     "metadata": {},
     "output_type": "execute_result"
    }
   ],
   "source": [
    "train_df.LSTAT_cut.value_counts()/train_df.shape[0]"
   ]
  },
  {
   "cell_type": "code",
   "execution_count": 652,
   "metadata": {},
   "outputs": [
    {
     "data": {
      "text/plain": [
       "<matplotlib.axes._subplots.AxesSubplot at 0x2f2f72a27f0>"
      ]
     },
     "execution_count": 652,
     "metadata": {},
     "output_type": "execute_result"
    },
    {
     "data": {
      "image/png": "[encoded data removed]",
      "text/plain": [
       "<Figure size 432x288 with 1 Axes>"
      ]
     },
     "metadata": {
      "needs_background": "light"
     },
     "output_type": "display_data"
    }
   ],
   "source": [
    "train_df.LSTAT_cut.hist()"
   ]
  },
  {
   "cell_type": "code",
   "execution_count": 653,
   "metadata": {},
   "outputs": [
    {
     "data": {
      "text/html": [
       "<div>\n",
       "<style scoped>\n",
       "    .dataframe tbody tr th:only-of-type {\n",
       "        vertical-align: middle;\n",
       "    }\n",
       "\n",
       "    .dataframe tbody tr th {\n",
       "        vertical-align: top;\n",
       "    }\n",
       "\n",
       "    .dataframe thead th {\n",
       "        text-align: right;\n",
       "    }\n",
       "</style>\n",
       "<table border=\"1\" class=\"dataframe\">\n",
       "  <thead>\n",
       "    <tr style=\"text-align: right;\">\n",
       "      <th></th>\n",
       "      <th>CRIM</th>\n",
       "      <th>ZN</th>\n",
       "      <th>INDUS</th>\n",
       "      <th>CHAS</th>\n",
       "      <th>NOX</th>\n",
       "      <th>RM</th>\n",
       "      <th>AGE</th>\n",
       "      <th>DIS</th>\n",
       "      <th>RAD</th>\n",
       "      <th>TAX</th>\n",
       "      <th>PTRATIO</th>\n",
       "      <th>B</th>\n",
       "      <th>LSTAT</th>\n",
       "      <th>MEDV</th>\n",
       "      <th>LSTAT_cut</th>\n",
       "    </tr>\n",
       "  </thead>\n",
       "  <tbody>\n",
       "    <tr>\n",
       "      <th>266</th>\n",
       "      <td>0.78570</td>\n",
       "      <td>20.0</td>\n",
       "      <td>3.97</td>\n",
       "      <td>0</td>\n",
       "      <td>0.647</td>\n",
       "      <td>7.014</td>\n",
       "      <td>84.6</td>\n",
       "      <td>2.1329</td>\n",
       "      <td>5</td>\n",
       "      <td>264.0</td>\n",
       "      <td>13.0</td>\n",
       "      <td>384.07</td>\n",
       "      <td>14.79</td>\n",
       "      <td>30.7</td>\n",
       "      <td>3</td>\n",
       "    </tr>\n",
       "    <tr>\n",
       "      <th>263</th>\n",
       "      <td>0.82526</td>\n",
       "      <td>20.0</td>\n",
       "      <td>3.97</td>\n",
       "      <td>0</td>\n",
       "      <td>0.647</td>\n",
       "      <td>7.327</td>\n",
       "      <td>94.5</td>\n",
       "      <td>2.0788</td>\n",
       "      <td>5</td>\n",
       "      <td>264.0</td>\n",
       "      <td>13.0</td>\n",
       "      <td>393.42</td>\n",
       "      <td>11.25</td>\n",
       "      <td>31.0</td>\n",
       "      <td>3</td>\n",
       "    </tr>\n",
       "    <tr>\n",
       "      <th>192</th>\n",
       "      <td>0.08664</td>\n",
       "      <td>45.0</td>\n",
       "      <td>3.44</td>\n",
       "      <td>0</td>\n",
       "      <td>0.437</td>\n",
       "      <td>7.178</td>\n",
       "      <td>26.3</td>\n",
       "      <td>6.4798</td>\n",
       "      <td>5</td>\n",
       "      <td>398.0</td>\n",
       "      <td>15.2</td>\n",
       "      <td>390.49</td>\n",
       "      <td>2.87</td>\n",
       "      <td>36.4</td>\n",
       "      <td>1</td>\n",
       "    </tr>\n",
       "    <tr>\n",
       "      <th>53</th>\n",
       "      <td>0.04981</td>\n",
       "      <td>21.0</td>\n",
       "      <td>5.64</td>\n",
       "      <td>0</td>\n",
       "      <td>0.439</td>\n",
       "      <td>5.998</td>\n",
       "      <td>21.4</td>\n",
       "      <td>6.8147</td>\n",
       "      <td>4</td>\n",
       "      <td>243.0</td>\n",
       "      <td>16.8</td>\n",
       "      <td>396.90</td>\n",
       "      <td>8.43</td>\n",
       "      <td>23.4</td>\n",
       "      <td>2</td>\n",
       "    </tr>\n",
       "    <tr>\n",
       "      <th>42</th>\n",
       "      <td>0.14150</td>\n",
       "      <td>0.0</td>\n",
       "      <td>6.91</td>\n",
       "      <td>0</td>\n",
       "      <td>0.448</td>\n",
       "      <td>6.169</td>\n",
       "      <td>6.6</td>\n",
       "      <td>5.7209</td>\n",
       "      <td>3</td>\n",
       "      <td>233.0</td>\n",
       "      <td>17.9</td>\n",
       "      <td>383.37</td>\n",
       "      <td>5.81</td>\n",
       "      <td>25.3</td>\n",
       "      <td>2</td>\n",
       "    </tr>\n",
       "  </tbody>\n",
       "</table>\n",
       "</div>"
      ],
      "text/plain": [
       "        CRIM    ZN  INDUS  CHAS    NOX     RM   AGE     DIS  RAD    TAX  \\\n",
       "266  0.78570  20.0   3.97     0  0.647  7.014  84.6  2.1329    5  264.0   \n",
       "263  0.82526  20.0   3.97     0  0.647  7.327  94.5  2.0788    5  264.0   \n",
       "192  0.08664  45.0   3.44     0  0.437  7.178  26.3  6.4798    5  398.0   \n",
       "53   0.04981  21.0   5.64     0  0.439  5.998  21.4  6.8147    4  243.0   \n",
       "42   0.14150   0.0   6.91     0  0.448  6.169   6.6  5.7209    3  233.0   \n",
       "\n",
       "     PTRATIO       B  LSTAT  MEDV LSTAT_cut  \n",
       "266     13.0  384.07  14.79  30.7         3  \n",
       "263     13.0  393.42  11.25  31.0         3  \n",
       "192     15.2  390.49   2.87  36.4         1  \n",
       "53      16.8  396.90   8.43  23.4         2  \n",
       "42      17.9  383.37   5.81  25.3         2  "
      ]
     },
     "execution_count": 653,
     "metadata": {},
     "output_type": "execute_result"
    }
   ],
   "source": [
    "test_df.head()"
   ]
  },
  {
   "cell_type": "code",
   "execution_count": 319,
   "metadata": {},
   "outputs": [
    {
     "data": {
      "text/plain": [
       "2    0.313725\n",
       "3    0.245098\n",
       "4    0.176471\n",
       "1    0.127451\n",
       "5    0.078431\n",
       "6    0.039216\n",
       "7    0.019608\n",
       "Name: LSTAT_cut, dtype: float64"
      ]
     },
     "execution_count": 319,
     "metadata": {},
     "output_type": "execute_result"
    }
   ],
   "source": [
    "test_df.LSTAT_cut.value_counts()/test_df.shape[0] # Great Job!"
   ]
  },
  {
   "cell_type": "code",
   "execution_count": 324,
   "metadata": {},
   "outputs": [
    {
     "data": {
      "text/plain": [
       "<matplotlib.axes._subplots.AxesSubplot at 0x2f2f26542e0>"
      ]
     },
     "execution_count": 324,
     "metadata": {},
     "output_type": "execute_result"
    },
    {
     "data": {
      "image/png": "[encoded data removed]",
      "text/plain": [
       "<Figure size 432x288 with 1 Axes>"
      ]
     },
     "metadata": {
      "needs_background": "light"
     },
     "output_type": "display_data"
    }
   ],
   "source": [
    "test_df.LSTAT_cut.hist()"
   ]
  },
  {
   "cell_type": "code",
   "execution_count": 325,
   "metadata": {},
   "outputs": [
    {
     "data": {
      "image/png": "[encoded data removed]",
      "text/plain": [
       "<Figure size 2520x1800 with 16 Axes>"
      ]
     },
     "metadata": {
      "needs_background": "light"
     },
     "output_type": "display_data"
    }
   ],
   "source": [
    "train_df.hist(bins=10, figsize=(35, 25))\n",
    "plt.show()"
   ]
  },
  {
   "cell_type": "markdown",
   "metadata": {},
   "source": [
    "### We detected a line in the scatter plot with about 50k median house value which indicates some kind of capping for data that may generate a kind of limitation in the model predictions"
   ]
  },
  {
   "cell_type": "code",
   "execution_count": 326,
   "metadata": {},
   "outputs": [
    {
     "name": "stderr",
     "output_type": "stream",
     "text": [
      "<ipython-input-326-a7f1a4cf0a69>:1: UserWarning: Boolean Series key will be reindexed to match DataFrame index.\n",
      "  train_df[df_org.MEDV==50].MEDV\n"
     ]
    },
    {
     "data": {
      "text/plain": [
       "166    50.0\n",
       "186    50.0\n",
       "371    50.0\n",
       "267    50.0\n",
       "225    50.0\n",
       "368    50.0\n",
       "161    50.0\n",
       "162    50.0\n",
       "283    50.0\n",
       "257    50.0\n",
       "Name: MEDV, dtype: float64"
      ]
     },
     "execution_count": 326,
     "metadata": {},
     "output_type": "execute_result"
    }
   ],
   "source": [
    "train_df[df_org.MEDV==50].MEDV"
   ]
  },
  {
   "cell_type": "code",
   "execution_count": 338,
   "metadata": {},
   "outputs": [],
   "source": [
    "df_ = train_df.copy()\n",
    "df_.drop(['LSTAT_cut'], axis=1, inplace=True)"
   ]
  },
  {
   "cell_type": "markdown",
   "metadata": {},
   "source": [
    "### Let's start our feature extraction process to investigate if this process may have an impact on the MEDV or not."
   ]
  },
  {
   "cell_type": "code",
   "execution_count": 339,
   "metadata": {},
   "outputs": [
    {
     "data": {
      "text/html": [
       "<div>\n",
       "<style scoped>\n",
       "    .dataframe tbody tr th:only-of-type {\n",
       "        vertical-align: middle;\n",
       "    }\n",
       "\n",
       "    .dataframe tbody tr th {\n",
       "        vertical-align: top;\n",
       "    }\n",
       "\n",
       "    .dataframe thead th {\n",
       "        text-align: right;\n",
       "    }\n",
       "</style>\n",
       "<table border=\"1\" class=\"dataframe\">\n",
       "  <thead>\n",
       "    <tr style=\"text-align: right;\">\n",
       "      <th></th>\n",
       "      <th>CRIM</th>\n",
       "      <th>ZN</th>\n",
       "      <th>INDUS</th>\n",
       "      <th>CHAS</th>\n",
       "      <th>NOX</th>\n",
       "      <th>RM</th>\n",
       "      <th>AGE</th>\n",
       "      <th>DIS</th>\n",
       "      <th>RAD</th>\n",
       "      <th>TAX</th>\n",
       "      <th>PTRATIO</th>\n",
       "      <th>B</th>\n",
       "      <th>LSTAT</th>\n",
       "      <th>MEDV</th>\n",
       "    </tr>\n",
       "  </thead>\n",
       "  <tbody>\n",
       "    <tr>\n",
       "      <th>123</th>\n",
       "      <td>0.15038</td>\n",
       "      <td>0.0</td>\n",
       "      <td>25.65</td>\n",
       "      <td>0</td>\n",
       "      <td>0.581</td>\n",
       "      <td>5.856</td>\n",
       "      <td>97.0</td>\n",
       "      <td>1.9444</td>\n",
       "      <td>2</td>\n",
       "      <td>188.0</td>\n",
       "      <td>19.1</td>\n",
       "      <td>370.31</td>\n",
       "      <td>25.41</td>\n",
       "      <td>17.3</td>\n",
       "    </tr>\n",
       "    <tr>\n",
       "      <th>323</th>\n",
       "      <td>0.28392</td>\n",
       "      <td>0.0</td>\n",
       "      <td>7.38</td>\n",
       "      <td>0</td>\n",
       "      <td>0.493</td>\n",
       "      <td>5.708</td>\n",
       "      <td>74.3</td>\n",
       "      <td>4.7211</td>\n",
       "      <td>5</td>\n",
       "      <td>287.0</td>\n",
       "      <td>19.6</td>\n",
       "      <td>391.13</td>\n",
       "      <td>11.74</td>\n",
       "      <td>18.5</td>\n",
       "    </tr>\n",
       "    <tr>\n",
       "      <th>166</th>\n",
       "      <td>2.01019</td>\n",
       "      <td>0.0</td>\n",
       "      <td>19.58</td>\n",
       "      <td>0</td>\n",
       "      <td>0.605</td>\n",
       "      <td>7.929</td>\n",
       "      <td>96.2</td>\n",
       "      <td>2.0459</td>\n",
       "      <td>5</td>\n",
       "      <td>403.0</td>\n",
       "      <td>14.7</td>\n",
       "      <td>369.30</td>\n",
       "      <td>3.70</td>\n",
       "      <td>50.0</td>\n",
       "    </tr>\n",
       "    <tr>\n",
       "      <th>214</th>\n",
       "      <td>0.28955</td>\n",
       "      <td>0.0</td>\n",
       "      <td>10.59</td>\n",
       "      <td>0</td>\n",
       "      <td>0.489</td>\n",
       "      <td>5.412</td>\n",
       "      <td>9.8</td>\n",
       "      <td>3.5875</td>\n",
       "      <td>4</td>\n",
       "      <td>277.0</td>\n",
       "      <td>18.6</td>\n",
       "      <td>348.93</td>\n",
       "      <td>29.55</td>\n",
       "      <td>23.7</td>\n",
       "    </tr>\n",
       "    <tr>\n",
       "      <th>94</th>\n",
       "      <td>0.04294</td>\n",
       "      <td>28.0</td>\n",
       "      <td>15.04</td>\n",
       "      <td>0</td>\n",
       "      <td>0.464</td>\n",
       "      <td>6.249</td>\n",
       "      <td>77.3</td>\n",
       "      <td>3.6150</td>\n",
       "      <td>4</td>\n",
       "      <td>270.0</td>\n",
       "      <td>18.2</td>\n",
       "      <td>396.90</td>\n",
       "      <td>10.59</td>\n",
       "      <td>20.6</td>\n",
       "    </tr>\n",
       "    <tr>\n",
       "      <th>...</th>\n",
       "      <td>...</td>\n",
       "      <td>...</td>\n",
       "      <td>...</td>\n",
       "      <td>...</td>\n",
       "      <td>...</td>\n",
       "      <td>...</td>\n",
       "      <td>...</td>\n",
       "      <td>...</td>\n",
       "      <td>...</td>\n",
       "      <td>...</td>\n",
       "      <td>...</td>\n",
       "      <td>...</td>\n",
       "      <td>...</td>\n",
       "      <td>...</td>\n",
       "    </tr>\n",
       "    <tr>\n",
       "      <th>60</th>\n",
       "      <td>0.14932</td>\n",
       "      <td>25.0</td>\n",
       "      <td>5.13</td>\n",
       "      <td>0</td>\n",
       "      <td>0.453</td>\n",
       "      <td>5.741</td>\n",
       "      <td>66.2</td>\n",
       "      <td>7.2254</td>\n",
       "      <td>8</td>\n",
       "      <td>284.0</td>\n",
       "      <td>19.7</td>\n",
       "      <td>395.11</td>\n",
       "      <td>13.15</td>\n",
       "      <td>18.7</td>\n",
       "    </tr>\n",
       "    <tr>\n",
       "      <th>465</th>\n",
       "      <td>3.16360</td>\n",
       "      <td>0.0</td>\n",
       "      <td>18.10</td>\n",
       "      <td>0</td>\n",
       "      <td>0.655</td>\n",
       "      <td>5.759</td>\n",
       "      <td>48.2</td>\n",
       "      <td>3.0665</td>\n",
       "      <td>24</td>\n",
       "      <td>666.0</td>\n",
       "      <td>20.2</td>\n",
       "      <td>334.40</td>\n",
       "      <td>14.13</td>\n",
       "      <td>19.9</td>\n",
       "    </tr>\n",
       "    <tr>\n",
       "      <th>145</th>\n",
       "      <td>2.37934</td>\n",
       "      <td>0.0</td>\n",
       "      <td>19.58</td>\n",
       "      <td>0</td>\n",
       "      <td>0.871</td>\n",
       "      <td>6.130</td>\n",
       "      <td>100.0</td>\n",
       "      <td>1.4191</td>\n",
       "      <td>5</td>\n",
       "      <td>403.0</td>\n",
       "      <td>14.7</td>\n",
       "      <td>172.91</td>\n",
       "      <td>27.80</td>\n",
       "      <td>13.8</td>\n",
       "    </tr>\n",
       "    <tr>\n",
       "      <th>12</th>\n",
       "      <td>0.09378</td>\n",
       "      <td>12.5</td>\n",
       "      <td>7.87</td>\n",
       "      <td>0</td>\n",
       "      <td>0.524</td>\n",
       "      <td>5.889</td>\n",
       "      <td>39.0</td>\n",
       "      <td>5.4509</td>\n",
       "      <td>5</td>\n",
       "      <td>311.0</td>\n",
       "      <td>15.2</td>\n",
       "      <td>390.50</td>\n",
       "      <td>15.71</td>\n",
       "      <td>21.7</td>\n",
       "    </tr>\n",
       "    <tr>\n",
       "      <th>273</th>\n",
       "      <td>0.22188</td>\n",
       "      <td>20.0</td>\n",
       "      <td>6.96</td>\n",
       "      <td>1</td>\n",
       "      <td>0.464</td>\n",
       "      <td>7.691</td>\n",
       "      <td>51.8</td>\n",
       "      <td>4.3665</td>\n",
       "      <td>3</td>\n",
       "      <td>223.0</td>\n",
       "      <td>18.6</td>\n",
       "      <td>390.77</td>\n",
       "      <td>6.58</td>\n",
       "      <td>35.2</td>\n",
       "    </tr>\n",
       "  </tbody>\n",
       "</table>\n",
       "<p>404 rows × 14 columns</p>\n",
       "</div>"
      ],
      "text/plain": [
       "        CRIM    ZN  INDUS  CHAS    NOX     RM    AGE     DIS  RAD    TAX  \\\n",
       "123  0.15038   0.0  25.65     0  0.581  5.856   97.0  1.9444    2  188.0   \n",
       "323  0.28392   0.0   7.38     0  0.493  5.708   74.3  4.7211    5  287.0   \n",
       "166  2.01019   0.0  19.58     0  0.605  7.929   96.2  2.0459    5  403.0   \n",
       "214  0.28955   0.0  10.59     0  0.489  5.412    9.8  3.5875    4  277.0   \n",
       "94   0.04294  28.0  15.04     0  0.464  6.249   77.3  3.6150    4  270.0   \n",
       "..       ...   ...    ...   ...    ...    ...    ...     ...  ...    ...   \n",
       "60   0.14932  25.0   5.13     0  0.453  5.741   66.2  7.2254    8  284.0   \n",
       "465  3.16360   0.0  18.10     0  0.655  5.759   48.2  3.0665   24  666.0   \n",
       "145  2.37934   0.0  19.58     0  0.871  6.130  100.0  1.4191    5  403.0   \n",
       "12   0.09378  12.5   7.87     0  0.524  5.889   39.0  5.4509    5  311.0   \n",
       "273  0.22188  20.0   6.96     1  0.464  7.691   51.8  4.3665    3  223.0   \n",
       "\n",
       "     PTRATIO       B  LSTAT  MEDV  \n",
       "123     19.1  370.31  25.41  17.3  \n",
       "323     19.6  391.13  11.74  18.5  \n",
       "166     14.7  369.30   3.70  50.0  \n",
       "214     18.6  348.93  29.55  23.7  \n",
       "94      18.2  396.90  10.59  20.6  \n",
       "..       ...     ...    ...   ...  \n",
       "60      19.7  395.11  13.15  18.7  \n",
       "465     20.2  334.40  14.13  19.9  \n",
       "145     14.7  172.91  27.80  13.8  \n",
       "12      15.2  390.50  15.71  21.7  \n",
       "273     18.6  390.77   6.58  35.2  \n",
       "\n",
       "[404 rows x 14 columns]"
      ]
     },
     "execution_count": 339,
     "metadata": {},
     "output_type": "execute_result"
    }
   ],
   "source": [
    "df_"
   ]
  },
  {
   "cell_type": "code",
   "execution_count": 340,
   "metadata": {
    "scrolled": true
   },
   "outputs": [
    {
     "data": {
      "text/plain": [
       "MEDV                   1.000000\n",
       "rmperlowerstatus       0.803942\n",
       "blackperlowerstatus    0.794094\n",
       "rmperpt                0.756872\n",
       "RM                     0.705241\n",
       "rmpernox               0.663889\n",
       "distperlowerstatus     0.566444\n",
       "taxperblack            0.541901\n",
       "noretailperblack       0.501042\n",
       "zoneperlowerstatus     0.391024\n",
       "B                      0.353168\n",
       "ZN                     0.341978\n",
       "zoneperblack           0.339121\n",
       "noxperzone             0.325307\n",
       "taxpernonretail        0.312414\n",
       "ageperzone             0.292325\n",
       "crimeperblack          0.291577\n",
       "crimeperpt             0.277579\n",
       "DIS                    0.259195\n",
       "ageperpt               0.159415\n",
       "CHAS                   0.120139\n",
       "taxperage              0.079723\n",
       "noxperblack           -0.085964\n",
       "noxperage             -0.216859\n",
       "crimeperlowerstatus   -0.264770\n",
       "zonepernonretail      -0.270375\n",
       "AGE                   -0.373905\n",
       "ageperdist            -0.377496\n",
       "noxperdist            -0.389795\n",
       "noxpercrime           -0.415577\n",
       "rmpercrime            -0.421164\n",
       "rmpertax              -0.425354\n",
       "CRIM                  -0.425920\n",
       "RAD                   -0.426440\n",
       "distperradial         -0.433566\n",
       "NOX                   -0.443921\n",
       "noxpernonretail       -0.461168\n",
       "distpernonretail      -0.463079\n",
       "taxperdist            -0.469498\n",
       "INDUS                 -0.508702\n",
       "TAX                   -0.517907\n",
       "PTRATIO               -0.539198\n",
       "rmpernonretail        -0.547418\n",
       "LSTAT                 -0.734637\n",
       "Name: MEDV, dtype: float64"
      ]
     },
     "execution_count": 340,
     "metadata": {},
     "output_type": "execute_result"
    }
   ],
   "source": [
    "df_['zoneperblack'] = df_.ZN/df_.B\n",
    "df_['blackperlowerstatus'] = df_.B/df_.LSTAT\n",
    "df_['rmperlowerstatus'] = df_.RM/df_.LSTAT # very great!\n",
    "df_['distperlowerstatus'] = df_.DIS/df_.LSTAT # very great!\n",
    "df_['distperradial'] = df_.RAD/df_.DIS # very great!\n",
    "df_['zoneperlowerstatus'] = df_.ZN/df_.LSTAT # weak!\n",
    "df_['zonepernonretail'] = df_org.INDUS/df_.ZN\n",
    "df_['distpernonretail'] = df_.INDUS/df_org.DIS\n",
    "df_['rmpernonretail'] = df_.INDUS/df_.RM # great!\n",
    "df_['crimeperblack'] = df_.B/df_.CRIM\n",
    "df_['taxperblack'] = df_.B/df_.TAX\n",
    "df_['noxperblack'] = df_.NOX/df_.B\n",
    "df_['noretailperblack'] = df_.B/df_.INDUS\n",
    "df_['taxperdist'] = df_.TAX/df_.DIS\n",
    "df_['crimeperpt'] = df_.PTRATIO/df_.CRIM\n",
    "df_['crimeperlowerstatus'] = df_.CRIM/df_.LSTAT\n",
    "df_['ageperpt'] = df_.PTRATIO/df_.AGE\n",
    "df_['ageperdist'] = df_.AGE/df_.DIS\n",
    "df_['ageperzone'] = df_.ZN/df_.AGE\n",
    "df_['noxperdist'] = df_.NOX/df_.DIS\n",
    "df_['noxpercrime'] = df_.CRIM/df_.NOX\n",
    "df_['noxperage'] = df_.AGE/df_.NOX\n",
    "df_['noxperzone'] = df_.ZN/df_.NOX\n",
    "df_['noxpernonretail'] = df_.INDUS/df_.NOX\n",
    "df_['rmpernox'] = df_.RM/df_.NOX # great.\n",
    "df_['rmperpt'] = df_.RM/df_.PTRATIO # great.\n",
    "df_['rmpercrime'] = df_.CRIM/df_.RM \n",
    "df_['rmpertax'] = df_.CRIM/df_.TAX\n",
    "df_['taxpernonretail'] = df_.TAX/df_.INDUS # very weak.\n",
    "df_['taxperage'] = df_.TAX/df_.AGE # very weak.\n",
    "cor_mat = df_.corr()\n",
    "cor_mat.MEDV.sort_values(ascending=False)"
   ]
  },
  {
   "cell_type": "markdown",
   "metadata": {},
   "source": [
    "### Now, We have a very strong +ve relationship for the extracted attribute black proportion / % lower-status of the population\n",
    "Let's investigate the distribution of the black people per town more in depth."
   ]
  },
  {
   "cell_type": "code",
   "execution_count": 342,
   "metadata": {
    "scrolled": false
   },
   "outputs": [
    {
     "data": {
      "image/png": "[encoded data removed]",
      "text/plain": [
       "<Figure size 432x288 with 1 Axes>"
      ]
     },
     "metadata": {
      "needs_background": "light"
     },
     "output_type": "display_data"
    }
   ],
   "source": [
    "df_.B.plot(kind='hist', bins=20)\n",
    "plt.title('Distribution of the black people ratio per town')\n",
    "plt.grid()\n",
    "plt.xlabel('B: black people index: 1000(bk-0.63)^2: bk=black people proportion per town')\n",
    "plt.show() # Negatively-skewed distribution -> we can deduce that the most values"
   ]
  },
  {
   "cell_type": "code",
   "execution_count": 343,
   "metadata": {
    "scrolled": false
   },
   "outputs": [
    {
     "data": {
      "image/png": "[encoded data removed]",
      "text/plain": [
       "<Figure size 432x288 with 1 Axes>"
      ]
     },
     "metadata": {
      "needs_background": "light"
     },
     "output_type": "display_data"
    }
   ],
   "source": [
    "df_.plot(kind='scatter', x='blackperlowerstatus', y='MEDV')\n",
    "plt.show()"
   ]
  },
  {
   "cell_type": "code",
   "execution_count": 345,
   "metadata": {
    "scrolled": false
   },
   "outputs": [
    {
     "data": {
      "image/png": "[encoded data removed]",
      "text/plain": [
       "<Figure size 432x288 with 1 Axes>"
      ]
     },
     "metadata": {
      "needs_background": "light"
     },
     "output_type": "display_data"
    }
   ],
   "source": [
    "df_.plot(kind='scatter', x='rmperlowerstatus', y='MEDV')\n",
    "plt.show()"
   ]
  },
  {
   "cell_type": "code",
   "execution_count": 346,
   "metadata": {
    "scrolled": true
   },
   "outputs": [
    {
     "data": {
      "text/plain": [
       "<matplotlib.axes._subplots.AxesSubplot at 0x2f2f46d0d30>"
      ]
     },
     "execution_count": 346,
     "metadata": {},
     "output_type": "execute_result"
    },
    {
     "data": {
      "image/png": "[encoded data removed]",
      "text/plain": [
       "<Figure size 432x288 with 1 Axes>"
      ]
     },
     "metadata": {
      "needs_background": "light"
     },
     "output_type": "display_data"
    }
   ],
   "source": [
    "df_.rmperlowerstatus.hist(bins=50)"
   ]
  },
  {
   "cell_type": "code",
   "execution_count": 347,
   "metadata": {
    "scrolled": true
   },
   "outputs": [
    {
     "data": {
      "text/plain": [
       "<matplotlib.axes._subplots.AxesSubplot at 0x2f2f47f25b0>"
      ]
     },
     "execution_count": 347,
     "metadata": {},
     "output_type": "execute_result"
    },
    {
     "data": {
      "image/png": "[encoded data removed]",
      "text/plain": [
       "<Figure size 432x288 with 1 Axes>"
      ]
     },
     "metadata": {
      "needs_background": "light"
     },
     "output_type": "display_data"
    }
   ],
   "source": [
    "df_.blackperlowerstatus.hist(bins=50)"
   ]
  },
  {
   "cell_type": "code",
   "execution_count": 344,
   "metadata": {
    "scrolled": false
   },
   "outputs": [
    {
     "data": {
      "text/plain": [
       "<matplotlib.axes._subplots.AxesSubplot at 0x2f2f46904c0>"
      ]
     },
     "execution_count": 344,
     "metadata": {},
     "output_type": "execute_result"
    },
    {
     "data": {
      "image/png": "[encoded data removed]",
      "text/plain": [
       "<Figure size 432x288 with 1 Axes>"
      ]
     },
     "metadata": {
      "needs_background": "light"
     },
     "output_type": "display_data"
    }
   ],
   "source": [
    "df_.plot(kind='scatter', x='ZN', y='MEDV')"
   ]
  },
  {
   "cell_type": "code",
   "execution_count": 348,
   "metadata": {},
   "outputs": [
    {
     "data": {
      "image/png": "[encoded data removed]",
      "text/plain": [
       "<Figure size 432x288 with 1 Axes>"
      ]
     },
     "metadata": {
      "needs_background": "light"
     },
     "output_type": "display_data"
    }
   ],
   "source": [
    "df_.plot(kind='scatter', x='rmpernonretail', y='MEDV')\n",
    "plt.show()"
   ]
  },
  {
   "cell_type": "markdown",
   "metadata": {},
   "source": [
    "### Let's investigate the relationship between the B: attribute and the bk: black proportion per town where:\n",
    "bk = sqrt(B)/31.62 + 0.63"
   ]
  },
  {
   "cell_type": "markdown",
   "metadata": {},
   "source": [
    "### By increasing of the B: attribute index of black people, we conclude an increment in the black people proportion bk."
   ]
  },
  {
   "cell_type": "code",
   "execution_count": 349,
   "metadata": {
    "scrolled": true
   },
   "outputs": [
    {
     "data": {
      "image/png": "[encoded data removed]",
      "text/plain": [
       "<Figure size 432x288 with 1 Axes>"
      ]
     },
     "metadata": {
      "needs_background": "light"
     },
     "output_type": "display_data"
    }
   ],
   "source": [
    "bk = np.sqrt(df_.B/1000) + 0.63 # y\n",
    "plt.plot(df_.B, bk, 'r-') # +ve-relationship\n",
    "plt.grid()\n",
    "plt.show()"
   ]
  },
  {
   "cell_type": "code",
   "execution_count": 352,
   "metadata": {},
   "outputs": [
    {
     "data": {
      "text/plain": [
       "MEDV                   1.000000\n",
       "rmperlowerstatus       0.803942\n",
       "blackperlowerstatus    0.794094\n",
       "rmperpt                0.756872\n",
       "RM                     0.705241\n",
       "rmpernox               0.663889\n",
       "distperlowerstatus     0.566444\n",
       "taxperblack            0.541901\n",
       "noretailperblack       0.501042\n",
       "zoneperlowerstatus     0.391024\n",
       "B                      0.353168\n",
       "ZN                     0.341978\n",
       "zoneperblack           0.339121\n",
       "noxperzone             0.325307\n",
       "taxpernonretail        0.312414\n",
       "ageperzone             0.292325\n",
       "crimeperblack          0.291577\n",
       "crimeperpt             0.277579\n",
       "DIS                    0.259195\n",
       "ageperpt               0.159415\n",
       "CHAS                   0.120139\n",
       "taxperage              0.079723\n",
       "noxperblack           -0.085964\n",
       "noxperage             -0.216859\n",
       "crimeperlowerstatus   -0.264770\n",
       "zonepernonretail      -0.270375\n",
       "AGE                   -0.373905\n",
       "ageperdist            -0.377496\n",
       "noxperdist            -0.389795\n",
       "noxpercrime           -0.415577\n",
       "rmpercrime            -0.421164\n",
       "rmpertax              -0.425354\n",
       "CRIM                  -0.425920\n",
       "RAD                   -0.426440\n",
       "distperradial         -0.433566\n",
       "NOX                   -0.443921\n",
       "noxpernonretail       -0.461168\n",
       "distpernonretail      -0.463079\n",
       "taxperdist            -0.469498\n",
       "INDUS                 -0.508702\n",
       "TAX                   -0.517907\n",
       "PTRATIO               -0.539198\n",
       "rmpernonretail        -0.547418\n",
       "LSTAT                 -0.734637\n",
       "Name: MEDV, dtype: float64"
      ]
     },
     "execution_count": 352,
     "metadata": {},
     "output_type": "execute_result"
    }
   ],
   "source": [
    "cor_mat.MEDV.sort_values(ascending=False)"
   ]
  },
  {
   "cell_type": "code",
   "execution_count": 351,
   "metadata": {},
   "outputs": [
    {
     "data": {
      "text/plain": [
       "<matplotlib.axes._subplots.AxesSubplot at 0x2f2f4979c40>"
      ]
     },
     "execution_count": 351,
     "metadata": {},
     "output_type": "execute_result"
    },
    {
     "data": {
      "image/png": "[encoded data removed]",
      "text/plain": [
       "<Figure size 432x288 with 1 Axes>"
      ]
     },
     "metadata": {
      "needs_background": "light"
     },
     "output_type": "display_data"
    }
   ],
   "source": [
    "df_.plot(kind='scatter', x='B', y='LSTAT') # weak-relationship"
   ]
  },
  {
   "cell_type": "markdown",
   "metadata": {},
   "source": [
    "* Note about the extracted attributes that will be created due to the detected high(+ve, -ve) relationship\n",
    "1.  RM/LSTAT\n",
    "2.  B/LSTAT\n",
    "3.  RM/PTRATIO\n",
    "4.  RM/NOX\n",
    "5.  DIST/LSTAT\n",
    "6.  TAX/B\n",
    "7.  INDUS/B\n",
    "8.  ZN/LSTAT\n",
    "9.  RM/INDUS\n",
    "10. NOX/INDUS\n",
    "11. DIST/INDUS\n",
    "12. TAX/DIST\n",
    "\n",
    "the used attributes: `LSTAT`, `RM`, `B`, `PTRATIO`, `NOX`, `DIST`, `INDUS`, `TAX`, `ZN` = 9 attributes/14"
   ]
  },
  {
   "cell_type": "code",
   "execution_count": 362,
   "metadata": {},
   "outputs": [],
   "source": [
    "train_df.drop(['LSTAT_cut'], axis=1, inplace=True)"
   ]
  },
  {
   "cell_type": "code",
   "execution_count": 379,
   "metadata": {},
   "outputs": [],
   "source": [
    "# Drop the target attribute from the training dataset\n",
    "X_train = train_df.drop(['MEDV'], axis=1)\n",
    "\n",
    "# Extract the target label\n",
    "y_train = train_df.MEDV.copy()"
   ]
  },
  {
   "cell_type": "code",
   "execution_count": 397,
   "metadata": {},
   "outputs": [
    {
     "data": {
      "text/html": [
       "<div>\n",
       "<style scoped>\n",
       "    .dataframe tbody tr th:only-of-type {\n",
       "        vertical-align: middle;\n",
       "    }\n",
       "\n",
       "    .dataframe tbody tr th {\n",
       "        vertical-align: top;\n",
       "    }\n",
       "\n",
       "    .dataframe thead th {\n",
       "        text-align: right;\n",
       "    }\n",
       "</style>\n",
       "<table border=\"1\" class=\"dataframe\">\n",
       "  <thead>\n",
       "    <tr style=\"text-align: right;\">\n",
       "      <th></th>\n",
       "      <th>CRIM</th>\n",
       "      <th>ZN</th>\n",
       "      <th>INDUS</th>\n",
       "      <th>CHAS</th>\n",
       "      <th>NOX</th>\n",
       "      <th>RM</th>\n",
       "      <th>AGE</th>\n",
       "      <th>DIS</th>\n",
       "      <th>RAD</th>\n",
       "      <th>TAX</th>\n",
       "      <th>PTRATIO</th>\n",
       "      <th>B</th>\n",
       "      <th>LSTAT</th>\n",
       "    </tr>\n",
       "  </thead>\n",
       "  <tbody>\n",
       "    <tr>\n",
       "      <th>123</th>\n",
       "      <td>0.15038</td>\n",
       "      <td>0.0</td>\n",
       "      <td>25.65</td>\n",
       "      <td>0</td>\n",
       "      <td>0.581</td>\n",
       "      <td>5.856</td>\n",
       "      <td>97.0</td>\n",
       "      <td>1.9444</td>\n",
       "      <td>2</td>\n",
       "      <td>188.0</td>\n",
       "      <td>19.1</td>\n",
       "      <td>370.31</td>\n",
       "      <td>25.41</td>\n",
       "    </tr>\n",
       "  </tbody>\n",
       "</table>\n",
       "</div>"
      ],
      "text/plain": [
       "        CRIM   ZN  INDUS  CHAS    NOX     RM   AGE     DIS  RAD    TAX  \\\n",
       "123  0.15038  0.0  25.65     0  0.581  5.856  97.0  1.9444    2  188.0   \n",
       "\n",
       "     PTRATIO       B  LSTAT  \n",
       "123     19.1  370.31  25.41  "
      ]
     },
     "execution_count": 397,
     "metadata": {},
     "output_type": "execute_result"
    }
   ],
   "source": [
    "X_train.head(1)"
   ]
  },
  {
   "cell_type": "code",
   "execution_count": 380,
   "metadata": {},
   "outputs": [],
   "source": [
    "from sklearn.base import BaseEstimator, TransformerMixin"
   ]
  },
  {
   "cell_type": "code",
   "execution_count": 398,
   "metadata": {},
   "outputs": [],
   "source": [
    "idx_ZN, idx_INDUS, idx_NOX, idx_RM, idx_DIS, idx_TAX, idx_PTRATIO, idx_B, idx_LSTAT = (1, 2, 4, 5, 7, 9, 10, 11, 12)\n",
    "\n",
    "class attr_combiner_scaler(BaseEstimator, TransformerMixin):\n",
    "      def __init__(self):\n",
    "          pass  \n",
    "      def fit(self, X, y=None):\n",
    "          return self\n",
    "      def transform(self, X, y=None):\n",
    "          # to be sure that our data is in the numpy 2d array format not, a dataframe  \n",
    "          np_array = X.values\n",
    "          # start too combine our attributes\n",
    "          rmperstat        = np_array[:, idx_RM]   / np_array[:, idx_LSTAT]\n",
    "          bperstat         = np_array[:, idx_B]    / np_array[:, idx_LSTAT]\n",
    "          rmperpt          = np_array[:, idx_RM]   / np_array[:, idx_PTRATIO]\n",
    "          rmpernox         = np_array[:, idx_RM]   / np_array[:, idx_NOX]\n",
    "          distperstat      = np_array[:, idx_DIS]  / np_array[:, idx_LSTAT]\n",
    "          bpertax          = np_array[:, idx_B]    / np_array[:, idx_TAX]  \n",
    "          bpernonretail    = np_array[:, idx_B]    / np_array[:, idx_INDUS]\n",
    "          zperstat         = np_array[:, idx_ZN]   / np_array[:, idx_LSTAT]  \n",
    "          nonretailperrm   = np_array[:, idx_INDUS]/ np_array[:, idx_RM]\n",
    "          nonretailpernox  = np_array[:, idx_INDUS]/ np_array[:, idx_NOX]\n",
    "          nonretailperdist = np_array[:, idx_INDUS]/ np_array[:, idx_DIS]\n",
    "          taxperdist       = np_array[:, idx_TAX]  / np_array[:, idx_DIS]\n",
    "          np_array = np.c_[np_array, rmperstat, bperstat, rmperpt, rmpernox, distperstat, bpertax, bpernonretail, zperstat, nonretailperrm, nonretailpernox, nonretailperdist, taxperdist]\n",
    "          return np_array  "
   ]
  },
  {
   "cell_type": "code",
   "execution_count": 399,
   "metadata": {},
   "outputs": [
    {
     "data": {
      "text/plain": [
       "(404, 13)"
      ]
     },
     "execution_count": 399,
     "metadata": {},
     "output_type": "execute_result"
    }
   ],
   "source": [
    "X_train.shape"
   ]
  },
  {
   "cell_type": "code",
   "execution_count": 400,
   "metadata": {},
   "outputs": [],
   "source": [
    "obj_trans = attr_combiner_scaler()"
   ]
  },
  {
   "cell_type": "code",
   "execution_count": 401,
   "metadata": {},
   "outputs": [
    {
     "data": {
      "text/plain": [
       "array([1.50380000e-01, 0.00000000e+00, 2.56500000e+01, 0.00000000e+00,\n",
       "       5.81000000e-01, 5.85600000e+00, 9.70000000e+01, 1.94440000e+00,\n",
       "       2.00000000e+00, 1.88000000e+02, 1.91000000e+01, 3.70310000e+02,\n",
       "       2.54100000e+01, 2.30460449e-01, 1.45733963e+01, 3.06596859e-01,\n",
       "       1.00791738e+01, 7.65210547e-02, 1.96973404e+00, 1.44370370e+01,\n",
       "       0.00000000e+00, 4.38012295e+00, 4.41480207e+01, 1.31917301e+01,\n",
       "       9.66879243e+01])"
      ]
     },
     "execution_count": 401,
     "metadata": {},
     "output_type": "execute_result"
    }
   ],
   "source": [
    "obj_trans.fit_transform(X_train)[:1, :][0] # Done!"
   ]
  },
  {
   "cell_type": "code",
   "execution_count": 402,
   "metadata": {},
   "outputs": [],
   "source": [
    "### Let's integrate all our data preprocessing steps together wth a pipeline"
   ]
  },
  {
   "cell_type": "code",
   "execution_count": 403,
   "metadata": {},
   "outputs": [],
   "source": [
    "from sklearn.pipeline import Pipeline\n",
    "from sklearn.preprocessing import StandardScaler\n",
    "\n",
    "full_pipeline = Pipeline([\n",
    "    ('est1', attr_combiner_scaler()),\n",
    "    ('est2', StandardScaler())\n",
    "])"
   ]
  },
  {
   "cell_type": "code",
   "execution_count": 406,
   "metadata": {},
   "outputs": [
    {
     "data": {
      "text/html": [
       "<div>\n",
       "<style scoped>\n",
       "    .dataframe tbody tr th:only-of-type {\n",
       "        vertical-align: middle;\n",
       "    }\n",
       "\n",
       "    .dataframe tbody tr th {\n",
       "        vertical-align: top;\n",
       "    }\n",
       "\n",
       "    .dataframe thead th {\n",
       "        text-align: right;\n",
       "    }\n",
       "</style>\n",
       "<table border=\"1\" class=\"dataframe\">\n",
       "  <thead>\n",
       "    <tr style=\"text-align: right;\">\n",
       "      <th></th>\n",
       "      <th>CRIM</th>\n",
       "      <th>ZN</th>\n",
       "      <th>INDUS</th>\n",
       "      <th>CHAS</th>\n",
       "      <th>NOX</th>\n",
       "      <th>RM</th>\n",
       "      <th>AGE</th>\n",
       "      <th>DIS</th>\n",
       "      <th>RAD</th>\n",
       "      <th>TAX</th>\n",
       "      <th>...</th>\n",
       "      <th>rmperpt</th>\n",
       "      <th>rmpernox</th>\n",
       "      <th>distperstat</th>\n",
       "      <th>bpertax</th>\n",
       "      <th>bpernonretail</th>\n",
       "      <th>zperstat</th>\n",
       "      <th>nonretailperrm</th>\n",
       "      <th>nonretailpernox</th>\n",
       "      <th>nonretailperdist</th>\n",
       "      <th>taxperdist</th>\n",
       "    </tr>\n",
       "  </thead>\n",
       "  <tbody>\n",
       "    <tr>\n",
       "      <th>0</th>\n",
       "      <td>-0.412680</td>\n",
       "      <td>-0.485693</td>\n",
       "      <td>2.182822</td>\n",
       "      <td>-0.256833</td>\n",
       "      <td>0.253422</td>\n",
       "      <td>-0.616375</td>\n",
       "      <td>1.023992</td>\n",
       "      <td>-0.892818</td>\n",
       "      <td>-0.863563</td>\n",
       "      <td>-1.308812</td>\n",
       "      <td>...</td>\n",
       "      <td>-0.566364</td>\n",
       "      <td>-0.629657</td>\n",
       "      <td>-0.854990</td>\n",
       "      <td>1.868132</td>\n",
       "      <td>-0.786923</td>\n",
       "      <td>-0.407060</td>\n",
       "      <td>2.164712</td>\n",
       "      <td>2.650165</td>\n",
       "      <td>1.942527</td>\n",
       "      <td>-0.473915</td>\n",
       "    </tr>\n",
       "    <tr>\n",
       "      <th>1</th>\n",
       "      <td>-0.396573</td>\n",
       "      <td>-0.485693</td>\n",
       "      <td>-0.535455</td>\n",
       "      <td>-0.256833</td>\n",
       "      <td>-0.518124</td>\n",
       "      <td>-0.829224</td>\n",
       "      <td>0.221241</td>\n",
       "      <td>0.432608</td>\n",
       "      <td>-0.515958</td>\n",
       "      <td>-0.716078</td>\n",
       "      <td>...</td>\n",
       "      <td>-0.785253</td>\n",
       "      <td>-0.115629</td>\n",
       "      <td>-0.178163</td>\n",
       "      <td>0.627242</td>\n",
       "      <td>-0.108385</td>\n",
       "      <td>-0.407060</td>\n",
       "      <td>-0.440832</td>\n",
       "      <td>-0.395454</td>\n",
       "      <td>-0.707740</td>\n",
       "      <td>-0.748675</td>\n",
       "    </tr>\n",
       "    <tr>\n",
       "      <th>2</th>\n",
       "      <td>-0.188349</td>\n",
       "      <td>-0.485693</td>\n",
       "      <td>1.279705</td>\n",
       "      <td>-0.256833</td>\n",
       "      <td>0.463844</td>\n",
       "      <td>2.364943</td>\n",
       "      <td>0.995701</td>\n",
       "      <td>-0.844368</td>\n",
       "      <td>-0.515958</td>\n",
       "      <td>-0.021563</td>\n",
       "      <td>...</td>\n",
       "      <td>2.748370</td>\n",
       "      <td>0.408265</td>\n",
       "      <td>0.135307</td>\n",
       "      <td>-0.285558</td>\n",
       "      <td>-0.709077</td>\n",
       "      <td>-0.407060</td>\n",
       "      <td>0.552109</td>\n",
       "      <td>1.420122</td>\n",
       "      <td>1.117178</td>\n",
       "      <td>0.293726</td>\n",
       "    </tr>\n",
       "    <tr>\n",
       "      <th>3</th>\n",
       "      <td>-0.395894</td>\n",
       "      <td>-0.485693</td>\n",
       "      <td>-0.057860</td>\n",
       "      <td>-0.256833</td>\n",
       "      <td>-0.553195</td>\n",
       "      <td>-1.254921</td>\n",
       "      <td>-2.059705</td>\n",
       "      <td>-0.108503</td>\n",
       "      <td>-0.631826</td>\n",
       "      <td>-0.775950</td>\n",
       "      <td>...</td>\n",
       "      <td>-0.788909</td>\n",
       "      <td>-0.290733</td>\n",
       "      <td>-0.761696</td>\n",
       "      <td>0.416348</td>\n",
       "      <td>-0.461182</td>\n",
       "      <td>-0.407060</td>\n",
       "      <td>0.119438</td>\n",
       "      <td>0.302515</td>\n",
       "      <td>-0.391236</td>\n",
       "      <td>-0.622982</td>\n",
       "    </tr>\n",
       "    <tr>\n",
       "      <th>4</th>\n",
       "      <td>-0.425640</td>\n",
       "      <td>0.727413</td>\n",
       "      <td>0.604227</td>\n",
       "      <td>-0.256833</td>\n",
       "      <td>-0.772384</td>\n",
       "      <td>-0.051176</td>\n",
       "      <td>0.327331</td>\n",
       "      <td>-0.095376</td>\n",
       "      <td>-0.631826</td>\n",
       "      <td>-0.817861</td>\n",
       "      <td>...</td>\n",
       "      <td>-0.043009</td>\n",
       "      <td>0.532368</td>\n",
       "      <td>-0.304496</td>\n",
       "      <td>0.846377</td>\n",
       "      <td>-0.576603</td>\n",
       "      <td>0.122868</td>\n",
       "      <td>0.499249</td>\n",
       "      <td>1.425357</td>\n",
       "      <td>-0.115800</td>\n",
       "      <td>-0.642299</td>\n",
       "    </tr>\n",
       "    <tr>\n",
       "      <th>...</th>\n",
       "      <td>...</td>\n",
       "      <td>...</td>\n",
       "      <td>...</td>\n",
       "      <td>...</td>\n",
       "      <td>...</td>\n",
       "      <td>...</td>\n",
       "      <td>...</td>\n",
       "      <td>...</td>\n",
       "      <td>...</td>\n",
       "      <td>...</td>\n",
       "      <td>...</td>\n",
       "      <td>...</td>\n",
       "      <td>...</td>\n",
       "      <td>...</td>\n",
       "      <td>...</td>\n",
       "      <td>...</td>\n",
       "      <td>...</td>\n",
       "      <td>...</td>\n",
       "      <td>...</td>\n",
       "      <td>...</td>\n",
       "      <td>...</td>\n",
       "    </tr>\n",
       "    <tr>\n",
       "      <th>399</th>\n",
       "      <td>-0.412808</td>\n",
       "      <td>0.597437</td>\n",
       "      <td>-0.870219</td>\n",
       "      <td>-0.256833</td>\n",
       "      <td>-0.868827</td>\n",
       "      <td>-0.781764</td>\n",
       "      <td>-0.065204</td>\n",
       "      <td>1.628007</td>\n",
       "      <td>-0.168353</td>\n",
       "      <td>-0.734040</td>\n",
       "      <td>...</td>\n",
       "      <td>-0.782450</td>\n",
       "      <td>0.259948</td>\n",
       "      <td>0.128061</td>\n",
       "      <td>0.685329</td>\n",
       "      <td>0.314291</td>\n",
       "      <td>-0.026021</td>\n",
       "      <td>-0.777876</td>\n",
       "      <td>-0.775923</td>\n",
       "      <td>-0.902194</td>\n",
       "      <td>-0.913125</td>\n",
       "    </tr>\n",
       "    <tr>\n",
       "      <th>400</th>\n",
       "      <td>-0.049225</td>\n",
       "      <td>-0.485693</td>\n",
       "      <td>1.059505</td>\n",
       "      <td>-0.256833</td>\n",
       "      <td>0.902222</td>\n",
       "      <td>-0.755877</td>\n",
       "      <td>-0.701747</td>\n",
       "      <td>-0.357196</td>\n",
       "      <td>1.685539</td>\n",
       "      <td>1.553072</td>\n",
       "      <td>...</td>\n",
       "      <td>-0.872474</td>\n",
       "      <td>-1.070944</td>\n",
       "      <td>-0.562948</td>\n",
       "      <td>-1.132584</td>\n",
       "      <td>-0.715868</td>\n",
       "      <td>-0.407060</td>\n",
       "      <td>1.120523</td>\n",
       "      <td>0.926404</td>\n",
       "      <td>0.281232</td>\n",
       "      <td>0.448388</td>\n",
       "    </tr>\n",
       "    <tr>\n",
       "      <th>401</th>\n",
       "      <td>-0.143822</td>\n",
       "      <td>-0.485693</td>\n",
       "      <td>1.279705</td>\n",
       "      <td>-0.256833</td>\n",
       "      <td>2.796017</td>\n",
       "      <td>-0.222318</td>\n",
       "      <td>1.130083</td>\n",
       "      <td>-1.143564</td>\n",
       "      <td>-0.515958</td>\n",
       "      <td>-0.021563</td>\n",
       "      <td>...</td>\n",
       "      <td>1.005775</td>\n",
       "      <td>-1.672611</td>\n",
       "      <td>-0.907941</td>\n",
       "      <td>-1.281932</td>\n",
       "      <td>-0.885569</td>\n",
       "      <td>-0.407060</td>\n",
       "      <td>1.163752</td>\n",
       "      <td>0.388468</td>\n",
       "      <td>2.080583</td>\n",
       "      <td>0.959661</td>\n",
       "    </tr>\n",
       "    <tr>\n",
       "      <th>402</th>\n",
       "      <td>-0.419507</td>\n",
       "      <td>0.055872</td>\n",
       "      <td>-0.462551</td>\n",
       "      <td>-0.256833</td>\n",
       "      <td>-0.246330</td>\n",
       "      <td>-0.568916</td>\n",
       "      <td>-1.027091</td>\n",
       "      <td>0.780970</td>\n",
       "      <td>-0.515958</td>\n",
       "      <td>-0.572386</td>\n",
       "      <td>...</td>\n",
       "      <td>0.584687</td>\n",
       "      <td>-0.232070</td>\n",
       "      <td>-0.292835</td>\n",
       "      <td>0.408071</td>\n",
       "      <td>-0.167857</td>\n",
       "      <td>-0.247586</td>\n",
       "      <td>-0.404146</td>\n",
       "      <td>-0.390286</td>\n",
       "      <td>-0.734952</td>\n",
       "      <td>-0.777272</td>\n",
       "    </tr>\n",
       "    <tr>\n",
       "      <th>403</th>\n",
       "      <td>-0.404056</td>\n",
       "      <td>0.380811</td>\n",
       "      <td>-0.597945</td>\n",
       "      <td>3.893584</td>\n",
       "      <td>-0.772384</td>\n",
       "      <td>2.022660</td>\n",
       "      <td>-0.574438</td>\n",
       "      <td>0.263344</td>\n",
       "      <td>-0.747694</td>\n",
       "      <td>-1.099259</td>\n",
       "      <td>...</td>\n",
       "      <td>0.955764</td>\n",
       "      <td>1.598118</td>\n",
       "      <td>0.365317</td>\n",
       "      <td>1.423632</td>\n",
       "      <td>-0.053019</td>\n",
       "      <td>0.202139</td>\n",
       "      <td>-0.768270</td>\n",
       "      <td>-0.392278</td>\n",
       "      <td>-0.700730</td>\n",
       "      <td>-0.823075</td>\n",
       "    </tr>\n",
       "  </tbody>\n",
       "</table>\n",
       "<p>404 rows × 25 columns</p>\n",
       "</div>"
      ],
      "text/plain": [
       "         CRIM        ZN     INDUS      CHAS       NOX        RM       AGE  \\\n",
       "0   -0.412680 -0.485693  2.182822 -0.256833  0.253422 -0.616375  1.023992   \n",
       "1   -0.396573 -0.485693 -0.535455 -0.256833 -0.518124 -0.829224  0.221241   \n",
       "2   -0.188349 -0.485693  1.279705 -0.256833  0.463844  2.364943  0.995701   \n",
       "3   -0.395894 -0.485693 -0.057860 -0.256833 -0.553195 -1.254921 -2.059705   \n",
       "4   -0.425640  0.727413  0.604227 -0.256833 -0.772384 -0.051176  0.327331   \n",
       "..        ...       ...       ...       ...       ...       ...       ...   \n",
       "399 -0.412808  0.597437 -0.870219 -0.256833 -0.868827 -0.781764 -0.065204   \n",
       "400 -0.049225 -0.485693  1.059505 -0.256833  0.902222 -0.755877 -0.701747   \n",
       "401 -0.143822 -0.485693  1.279705 -0.256833  2.796017 -0.222318  1.130083   \n",
       "402 -0.419507  0.055872 -0.462551 -0.256833 -0.246330 -0.568916 -1.027091   \n",
       "403 -0.404056  0.380811 -0.597945  3.893584 -0.772384  2.022660 -0.574438   \n",
       "\n",
       "          DIS       RAD       TAX  ...   rmperpt  rmpernox  distperstat  \\\n",
       "0   -0.892818 -0.863563 -1.308812  ... -0.566364 -0.629657    -0.854990   \n",
       "1    0.432608 -0.515958 -0.716078  ... -0.785253 -0.115629    -0.178163   \n",
       "2   -0.844368 -0.515958 -0.021563  ...  2.748370  0.408265     0.135307   \n",
       "3   -0.108503 -0.631826 -0.775950  ... -0.788909 -0.290733    -0.761696   \n",
       "4   -0.095376 -0.631826 -0.817861  ... -0.043009  0.532368    -0.304496   \n",
       "..        ...       ...       ...  ...       ...       ...          ...   \n",
       "399  1.628007 -0.168353 -0.734040  ... -0.782450  0.259948     0.128061   \n",
       "400 -0.357196  1.685539  1.553072  ... -0.872474 -1.070944    -0.562948   \n",
       "401 -1.143564 -0.515958 -0.021563  ...  1.005775 -1.672611    -0.907941   \n",
       "402  0.780970 -0.515958 -0.572386  ...  0.584687 -0.232070    -0.292835   \n",
       "403  0.263344 -0.747694 -1.099259  ...  0.955764  1.598118     0.365317   \n",
       "\n",
       "      bpertax  bpernonretail  zperstat  nonretailperrm  nonretailpernox  \\\n",
       "0    1.868132      -0.786923 -0.407060        2.164712         2.650165   \n",
       "1    0.627242      -0.108385 -0.407060       -0.440832        -0.395454   \n",
       "2   -0.285558      -0.709077 -0.407060        0.552109         1.420122   \n",
       "3    0.416348      -0.461182 -0.407060        0.119438         0.302515   \n",
       "4    0.846377      -0.576603  0.122868        0.499249         1.425357   \n",
       "..        ...            ...       ...             ...              ...   \n",
       "399  0.685329       0.314291 -0.026021       -0.777876        -0.775923   \n",
       "400 -1.132584      -0.715868 -0.407060        1.120523         0.926404   \n",
       "401 -1.281932      -0.885569 -0.407060        1.163752         0.388468   \n",
       "402  0.408071      -0.167857 -0.247586       -0.404146        -0.390286   \n",
       "403  1.423632      -0.053019  0.202139       -0.768270        -0.392278   \n",
       "\n",
       "     nonretailperdist  taxperdist  \n",
       "0            1.942527   -0.473915  \n",
       "1           -0.707740   -0.748675  \n",
       "2            1.117178    0.293726  \n",
       "3           -0.391236   -0.622982  \n",
       "4           -0.115800   -0.642299  \n",
       "..                ...         ...  \n",
       "399         -0.902194   -0.913125  \n",
       "400          0.281232    0.448388  \n",
       "401          2.080583    0.959661  \n",
       "402         -0.734952   -0.777272  \n",
       "403         -0.700730   -0.823075  \n",
       "\n",
       "[404 rows x 25 columns]"
      ]
     },
     "execution_count": 406,
     "metadata": {},
     "output_type": "execute_result"
    }
   ],
   "source": [
    "list_combined_attr = ['rmperstat', 'bperstat', 'rmperpt', 'rmpernox', 'distperstat', 'bpertax', 'bpernonretail', 'zperstat', 'nonretailperrm', 'nonretailpernox', 'nonretailperdist', 'taxperdist']\n",
    "np_array = full_pipeline.fit_transform(X_train)\n",
    "df_final = pd.DataFrame(np_array, columns=list(X_train)+list_combined_attr)\n",
    "df_final # Great Job!"
   ]
  },
  {
   "cell_type": "code",
   "execution_count": 407,
   "metadata": {},
   "outputs": [
    {
     "data": {
      "text/plain": [
       "array([[-0.41268031, -0.48569276,  2.18282186, ...,  2.65016461,\n",
       "         1.94252696, -0.47391518],\n",
       "       [-0.39657266, -0.48569276, -0.53545541, ..., -0.39545405,\n",
       "        -0.7077405 , -0.74867489],\n",
       "       [-0.18834934, -0.48569276,  1.27970511, ...,  1.42012172,\n",
       "         1.11717806,  0.29372643],\n",
       "       ...,\n",
       "       [-0.14382233, -0.48569276,  1.27970511, ...,  0.38846752,\n",
       "         2.08058322,  0.95966083],\n",
       "       [-0.41950742,  0.05587236, -0.46255143, ..., -0.39028625,\n",
       "        -0.73495229, -0.77727156],\n",
       "       [-0.40405595,  0.38081144, -0.59794455, ..., -0.39227822,\n",
       "        -0.7007302 , -0.82307489]])"
      ]
     },
     "execution_count": 407,
     "metadata": {},
     "output_type": "execute_result"
    }
   ],
   "source": [
    "np_array"
   ]
  },
  {
   "cell_type": "markdown",
   "metadata": {},
   "source": [
    "### Let's start the machin learning process"
   ]
  },
  {
   "cell_type": "markdown",
   "metadata": {},
   "source": [
    "#### let's try the stochastic gradient descent regressor first"
   ]
  },
  {
   "cell_type": "code",
   "execution_count": 411,
   "metadata": {},
   "outputs": [
    {
     "data": {
      "text/plain": [
       "(404, 25)"
      ]
     },
     "execution_count": 411,
     "metadata": {},
     "output_type": "execute_result"
    }
   ],
   "source": [
    "df_final.values.shape"
   ]
  },
  {
   "cell_type": "code",
   "execution_count": 412,
   "metadata": {},
   "outputs": [
    {
     "data": {
      "text/html": [
       "<div>\n",
       "<style scoped>\n",
       "    .dataframe tbody tr th:only-of-type {\n",
       "        vertical-align: middle;\n",
       "    }\n",
       "\n",
       "    .dataframe tbody tr th {\n",
       "        vertical-align: top;\n",
       "    }\n",
       "\n",
       "    .dataframe thead th {\n",
       "        text-align: right;\n",
       "    }\n",
       "</style>\n",
       "<table border=\"1\" class=\"dataframe\">\n",
       "  <thead>\n",
       "    <tr style=\"text-align: right;\">\n",
       "      <th></th>\n",
       "      <th>CRIM</th>\n",
       "      <th>ZN</th>\n",
       "      <th>INDUS</th>\n",
       "      <th>CHAS</th>\n",
       "      <th>NOX</th>\n",
       "      <th>RM</th>\n",
       "      <th>AGE</th>\n",
       "      <th>DIS</th>\n",
       "      <th>RAD</th>\n",
       "      <th>TAX</th>\n",
       "      <th>...</th>\n",
       "      <th>rmperpt</th>\n",
       "      <th>rmpernox</th>\n",
       "      <th>distperstat</th>\n",
       "      <th>bpertax</th>\n",
       "      <th>bpernonretail</th>\n",
       "      <th>zperstat</th>\n",
       "      <th>nonretailperrm</th>\n",
       "      <th>nonretailpernox</th>\n",
       "      <th>nonretailperdist</th>\n",
       "      <th>taxperdist</th>\n",
       "    </tr>\n",
       "  </thead>\n",
       "  <tbody>\n",
       "    <tr>\n",
       "      <th>0</th>\n",
       "      <td>-0.412680</td>\n",
       "      <td>-0.485693</td>\n",
       "      <td>2.182822</td>\n",
       "      <td>-0.256833</td>\n",
       "      <td>0.253422</td>\n",
       "      <td>-0.616375</td>\n",
       "      <td>1.023992</td>\n",
       "      <td>-0.892818</td>\n",
       "      <td>-0.863563</td>\n",
       "      <td>-1.308812</td>\n",
       "      <td>...</td>\n",
       "      <td>-0.566364</td>\n",
       "      <td>-0.629657</td>\n",
       "      <td>-0.854990</td>\n",
       "      <td>1.868132</td>\n",
       "      <td>-0.786923</td>\n",
       "      <td>-0.407060</td>\n",
       "      <td>2.164712</td>\n",
       "      <td>2.650165</td>\n",
       "      <td>1.942527</td>\n",
       "      <td>-0.473915</td>\n",
       "    </tr>\n",
       "    <tr>\n",
       "      <th>1</th>\n",
       "      <td>-0.396573</td>\n",
       "      <td>-0.485693</td>\n",
       "      <td>-0.535455</td>\n",
       "      <td>-0.256833</td>\n",
       "      <td>-0.518124</td>\n",
       "      <td>-0.829224</td>\n",
       "      <td>0.221241</td>\n",
       "      <td>0.432608</td>\n",
       "      <td>-0.515958</td>\n",
       "      <td>-0.716078</td>\n",
       "      <td>...</td>\n",
       "      <td>-0.785253</td>\n",
       "      <td>-0.115629</td>\n",
       "      <td>-0.178163</td>\n",
       "      <td>0.627242</td>\n",
       "      <td>-0.108385</td>\n",
       "      <td>-0.407060</td>\n",
       "      <td>-0.440832</td>\n",
       "      <td>-0.395454</td>\n",
       "      <td>-0.707740</td>\n",
       "      <td>-0.748675</td>\n",
       "    </tr>\n",
       "    <tr>\n",
       "      <th>2</th>\n",
       "      <td>-0.188349</td>\n",
       "      <td>-0.485693</td>\n",
       "      <td>1.279705</td>\n",
       "      <td>-0.256833</td>\n",
       "      <td>0.463844</td>\n",
       "      <td>2.364943</td>\n",
       "      <td>0.995701</td>\n",
       "      <td>-0.844368</td>\n",
       "      <td>-0.515958</td>\n",
       "      <td>-0.021563</td>\n",
       "      <td>...</td>\n",
       "      <td>2.748370</td>\n",
       "      <td>0.408265</td>\n",
       "      <td>0.135307</td>\n",
       "      <td>-0.285558</td>\n",
       "      <td>-0.709077</td>\n",
       "      <td>-0.407060</td>\n",
       "      <td>0.552109</td>\n",
       "      <td>1.420122</td>\n",
       "      <td>1.117178</td>\n",
       "      <td>0.293726</td>\n",
       "    </tr>\n",
       "    <tr>\n",
       "      <th>3</th>\n",
       "      <td>-0.395894</td>\n",
       "      <td>-0.485693</td>\n",
       "      <td>-0.057860</td>\n",
       "      <td>-0.256833</td>\n",
       "      <td>-0.553195</td>\n",
       "      <td>-1.254921</td>\n",
       "      <td>-2.059705</td>\n",
       "      <td>-0.108503</td>\n",
       "      <td>-0.631826</td>\n",
       "      <td>-0.775950</td>\n",
       "      <td>...</td>\n",
       "      <td>-0.788909</td>\n",
       "      <td>-0.290733</td>\n",
       "      <td>-0.761696</td>\n",
       "      <td>0.416348</td>\n",
       "      <td>-0.461182</td>\n",
       "      <td>-0.407060</td>\n",
       "      <td>0.119438</td>\n",
       "      <td>0.302515</td>\n",
       "      <td>-0.391236</td>\n",
       "      <td>-0.622982</td>\n",
       "    </tr>\n",
       "    <tr>\n",
       "      <th>4</th>\n",
       "      <td>-0.425640</td>\n",
       "      <td>0.727413</td>\n",
       "      <td>0.604227</td>\n",
       "      <td>-0.256833</td>\n",
       "      <td>-0.772384</td>\n",
       "      <td>-0.051176</td>\n",
       "      <td>0.327331</td>\n",
       "      <td>-0.095376</td>\n",
       "      <td>-0.631826</td>\n",
       "      <td>-0.817861</td>\n",
       "      <td>...</td>\n",
       "      <td>-0.043009</td>\n",
       "      <td>0.532368</td>\n",
       "      <td>-0.304496</td>\n",
       "      <td>0.846377</td>\n",
       "      <td>-0.576603</td>\n",
       "      <td>0.122868</td>\n",
       "      <td>0.499249</td>\n",
       "      <td>1.425357</td>\n",
       "      <td>-0.115800</td>\n",
       "      <td>-0.642299</td>\n",
       "    </tr>\n",
       "  </tbody>\n",
       "</table>\n",
       "<p>5 rows × 25 columns</p>\n",
       "</div>"
      ],
      "text/plain": [
       "       CRIM        ZN     INDUS      CHAS       NOX        RM       AGE  \\\n",
       "0 -0.412680 -0.485693  2.182822 -0.256833  0.253422 -0.616375  1.023992   \n",
       "1 -0.396573 -0.485693 -0.535455 -0.256833 -0.518124 -0.829224  0.221241   \n",
       "2 -0.188349 -0.485693  1.279705 -0.256833  0.463844  2.364943  0.995701   \n",
       "3 -0.395894 -0.485693 -0.057860 -0.256833 -0.553195 -1.254921 -2.059705   \n",
       "4 -0.425640  0.727413  0.604227 -0.256833 -0.772384 -0.051176  0.327331   \n",
       "\n",
       "        DIS       RAD       TAX  ...   rmperpt  rmpernox  distperstat  \\\n",
       "0 -0.892818 -0.863563 -1.308812  ... -0.566364 -0.629657    -0.854990   \n",
       "1  0.432608 -0.515958 -0.716078  ... -0.785253 -0.115629    -0.178163   \n",
       "2 -0.844368 -0.515958 -0.021563  ...  2.748370  0.408265     0.135307   \n",
       "3 -0.108503 -0.631826 -0.775950  ... -0.788909 -0.290733    -0.761696   \n",
       "4 -0.095376 -0.631826 -0.817861  ... -0.043009  0.532368    -0.304496   \n",
       "\n",
       "    bpertax  bpernonretail  zperstat  nonretailperrm  nonretailpernox  \\\n",
       "0  1.868132      -0.786923 -0.407060        2.164712         2.650165   \n",
       "1  0.627242      -0.108385 -0.407060       -0.440832        -0.395454   \n",
       "2 -0.285558      -0.709077 -0.407060        0.552109         1.420122   \n",
       "3  0.416348      -0.461182 -0.407060        0.119438         0.302515   \n",
       "4  0.846377      -0.576603  0.122868        0.499249         1.425357   \n",
       "\n",
       "   nonretailperdist  taxperdist  \n",
       "0          1.942527   -0.473915  \n",
       "1         -0.707740   -0.748675  \n",
       "2          1.117178    0.293726  \n",
       "3         -0.391236   -0.622982  \n",
       "4         -0.115800   -0.642299  \n",
       "\n",
       "[5 rows x 25 columns]"
      ]
     },
     "execution_count": 412,
     "metadata": {},
     "output_type": "execute_result"
    }
   ],
   "source": [
    "df_final.head()"
   ]
  },
  {
   "cell_type": "code",
   "execution_count": 414,
   "metadata": {},
   "outputs": [],
   "source": [
    "X_train = np_array.copy()"
   ]
  },
  {
   "cell_type": "code",
   "execution_count": 415,
   "metadata": {},
   "outputs": [
    {
     "data": {
      "text/plain": [
       "array([[-0.41268031, -0.48569276,  2.18282186, ...,  2.65016461,\n",
       "         1.94252696, -0.47391518],\n",
       "       [-0.39657266, -0.48569276, -0.53545541, ..., -0.39545405,\n",
       "        -0.7077405 , -0.74867489],\n",
       "       [-0.18834934, -0.48569276,  1.27970511, ...,  1.42012172,\n",
       "         1.11717806,  0.29372643],\n",
       "       ...,\n",
       "       [-0.14382233, -0.48569276,  1.27970511, ...,  0.38846752,\n",
       "         2.08058322,  0.95966083],\n",
       "       [-0.41950742,  0.05587236, -0.46255143, ..., -0.39028625,\n",
       "        -0.73495229, -0.77727156],\n",
       "       [-0.40405595,  0.38081144, -0.59794455, ..., -0.39227822,\n",
       "        -0.7007302 , -0.82307489]])"
      ]
     },
     "execution_count": 415,
     "metadata": {},
     "output_type": "execute_result"
    }
   ],
   "source": [
    "X_train"
   ]
  },
  {
   "cell_type": "code",
   "execution_count": 597,
   "metadata": {},
   "outputs": [],
   "source": [
    "from sklearn.linear_model import SGDRegressor\n",
    "\n",
    "model_SGD = SGDRegressor()"
   ]
  },
  {
   "cell_type": "code",
   "execution_count": 598,
   "metadata": {},
   "outputs": [
    {
     "data": {
      "text/plain": [
       "SGDRegressor()"
      ]
     },
     "execution_count": 598,
     "metadata": {},
     "output_type": "execute_result"
    }
   ],
   "source": [
    "model_SGD.fit(X_train, y_train.values)"
   ]
  },
  {
   "cell_type": "code",
   "execution_count": 599,
   "metadata": {},
   "outputs": [],
   "source": [
    "train_pred = model_SGD.predict(X_train)"
   ]
  },
  {
   "cell_type": "code",
   "execution_count": 600,
   "metadata": {},
   "outputs": [
    {
     "data": {
      "text/plain": [
       "array([17.3, 18.5, 50. , 23.7, 20.6, 21.7, 29.1, 32.2, 13.1, 18.4])"
      ]
     },
     "execution_count": 600,
     "metadata": {},
     "output_type": "execute_result"
    }
   ],
   "source": [
    "y_train.values[:10]"
   ]
  },
  {
   "cell_type": "code",
   "execution_count": 601,
   "metadata": {},
   "outputs": [
    {
     "data": {
      "text/plain": [
       "array([18.61477893, 18.98580606, 40.48325854, 13.84895388, 23.92615677,\n",
       "       20.4383443 , 27.98506974, 29.26785392, 15.87819941, 18.45247674])"
      ]
     },
     "execution_count": 601,
     "metadata": {},
     "output_type": "execute_result"
    }
   ],
   "source": [
    "train_pred[:10]"
   ]
  },
  {
   "cell_type": "markdown",
   "metadata": {},
   "source": [
    "### Let's evaluate our SGD model performance on the training dataset"
   ]
  },
  {
   "cell_type": "code",
   "execution_count": 602,
   "metadata": {},
   "outputs": [
    {
     "data": {
      "text/plain": [
       "3.7165486099485876"
      ]
     },
     "execution_count": 602,
     "metadata": {},
     "output_type": "execute_result"
    }
   ],
   "source": [
    "from sklearn.metrics import mean_squared_error\n",
    "\n",
    "SGD_error_train = mean_squared_error(y_train.values, train_pred)\n",
    "np.sqrt(SGD_error_train)"
   ]
  },
  {
   "cell_type": "markdown",
   "metadata": {},
   "source": [
    "Our model may have overfitted the training dataset, so we will evaluate for multiple training rounds"
   ]
  },
  {
   "cell_type": "code",
   "execution_count": 603,
   "metadata": {},
   "outputs": [
    {
     "data": {
      "text/plain": [
       "3.9487521299561337"
      ]
     },
     "execution_count": 603,
     "metadata": {},
     "output_type": "execute_result"
    }
   ],
   "source": [
    "from sklearn.model_selection import cross_val_score\n",
    "\n",
    "cross_SGD = cross_val_score(model_SGD, X_train, y_train.values, cv=10, scoring='neg_mean_squared_error')\n",
    "\n",
    "np.sqrt(-cross_SGD).mean() # Great Job!"
   ]
  },
  {
   "cell_type": "markdown",
   "metadata": {},
   "source": [
    "We realized that the average error on multiple training rounds is approx. the same as the single training round on the training dataset so our model hasn't overfitted our data"
   ]
  },
  {
   "cell_type": "markdown",
   "metadata": {},
   "source": [
    "### Let's train a random forest regressor! a much more powerful model"
   ]
  },
  {
   "cell_type": "code",
   "execution_count": 480,
   "metadata": {},
   "outputs": [],
   "source": [
    "from sklearn.ensemble import RandomForestRegressor\n",
    "\n",
    "model_RFR = RandomForestRegressor()"
   ]
  },
  {
   "cell_type": "code",
   "execution_count": 481,
   "metadata": {},
   "outputs": [
    {
     "data": {
      "text/plain": [
       "RandomForestRegressor()"
      ]
     },
     "execution_count": 481,
     "metadata": {},
     "output_type": "execute_result"
    }
   ],
   "source": [
    "model_RFR.fit(X_train, y_train)"
   ]
  },
  {
   "cell_type": "code",
   "execution_count": 482,
   "metadata": {},
   "outputs": [],
   "source": [
    "# evaluate on the training dataset.\n",
    "train_pred_RFR = model_RFR.predict(X_train)"
   ]
  },
  {
   "cell_type": "code",
   "execution_count": 507,
   "metadata": {},
   "outputs": [
    {
     "data": {
      "text/plain": [
       "1.274512913171767"
      ]
     },
     "execution_count": 507,
     "metadata": {},
     "output_type": "execute_result"
    }
   ],
   "source": [
    "np.sqrt(mean_squared_error(y_train.values, train_pred_RFR))"
   ]
  },
  {
   "cell_type": "code",
   "execution_count": 510,
   "metadata": {},
   "outputs": [],
   "source": [
    "# evaluate on multiple training rounds\n",
    "cross_RFR = cross_val_score(model_RFR, X_train, y_train.values, cv=10, scoring='neg_mean_squared_error')"
   ]
  },
  {
   "cell_type": "code",
   "execution_count": 511,
   "metadata": {},
   "outputs": [
    {
     "data": {
      "text/plain": [
       "3.4209854601195415"
      ]
     },
     "execution_count": 511,
     "metadata": {},
     "output_type": "execute_result"
    }
   ],
   "source": [
    "np.sqrt(-cross_RFR).mean() # much better performance"
   ]
  },
  {
   "cell_type": "code",
   "execution_count": 512,
   "metadata": {},
   "outputs": [
    {
     "data": {
      "text/plain": [
       "array([17.3, 18.5, 50. , 23.7, 20.6, 21.7, 29.1, 32.2, 13.1, 18.4])"
      ]
     },
     "execution_count": 512,
     "metadata": {},
     "output_type": "execute_result"
    }
   ],
   "source": [
    "y_train.values[:10]"
   ]
  },
  {
   "cell_type": "code",
   "execution_count": 513,
   "metadata": {},
   "outputs": [
    {
     "data": {
      "text/plain": [
       "array([17.216, 19.097, 48.333, 21.558, 21.251, 20.305, 27.591, 31.37 ,\n",
       "       12.276, 19.036])"
      ]
     },
     "execution_count": 513,
     "metadata": {},
     "output_type": "execute_result"
    }
   ],
   "source": [
    "train_pred_RFR[:10]"
   ]
  },
  {
   "cell_type": "markdown",
   "metadata": {},
   "source": [
    "### Let's try to fine-tune our model"
   ]
  },
  {
   "cell_type": "code",
   "execution_count": 526,
   "metadata": {},
   "outputs": [],
   "source": [
    "from sklearn.model_selection import GridSearchCV\n",
    "\n",
    "grid_param = [\n",
    "    {'n_estimators':[2, 4, 6, 8, 10, 12, 14, 16, 20], 'max_features':[5, 6, 7,  8, 9, 10, 11, 12, 13]}\n",
    "]"
   ]
  },
  {
   "cell_type": "code",
   "execution_count": 527,
   "metadata": {},
   "outputs": [],
   "source": [
    "grid_cv = GridSearchCV(model_RFR, grid_param, cv=5, verbose=2, scoring='neg_mean_squared_error', return_train_score=True)"
   ]
  },
  {
   "cell_type": "code",
   "execution_count": 528,
   "metadata": {},
   "outputs": [
    {
     "name": "stdout",
     "output_type": "stream",
     "text": [
      "Fitting 5 folds for each of 81 candidates, totalling 405 fits\n",
      "[CV] max_features=5, n_estimators=2 ..................................\n",
      "[CV] ................... max_features=5, n_estimators=2, total=   0.0s\n",
      "[CV] max_features=5, n_estimators=2 ..................................\n",
      "[CV] ................... max_features=5, n_estimators=2, total=   0.0s\n",
      "[CV] max_features=5, n_estimators=2 ..................................\n",
      "[CV] ................... max_features=5, n_estimators=2, total=   0.0s\n",
      "[CV] max_features=5, n_estimators=2 ..................................\n",
      "[CV] ................... max_features=5, n_estimators=2, total=   0.0s\n",
      "[CV] max_features=5, n_estimators=2 ..................................\n",
      "[CV] ................... max_features=5, n_estimators=2, total=   0.0s\n",
      "[CV] max_features=5, n_estimators=4 ..................................\n",
      "[CV] ................... max_features=5, n_estimators=4, total=   0.0s\n",
      "[CV] max_features=5, n_estimators=4 ..................................\n",
      "[CV] ................... max_features=5, n_estimators=4, total=   0.0s\n",
      "[CV] max_features=5, n_estimators=4 ..................................\n",
      "[CV] ................... max_features=5, n_estimators=4, total=   0.0s\n",
      "[CV] max_features=5, n_estimators=4 ..................................\n",
      "[CV] ................... max_features=5, n_estimators=4, total=   0.0s\n",
      "[CV] max_features=5, n_estimators=4 ..................................\n",
      "[CV] ................... max_features=5, n_estimators=4, total=   0.0s\n",
      "[CV] max_features=5, n_estimators=6 ..................................\n",
      "[CV] ................... max_features=5, n_estimators=6, total=   0.0s\n",
      "[CV] max_features=5, n_estimators=6 ..................................\n",
      "[CV] ................... max_features=5, n_estimators=6, total=   0.0s\n",
      "[CV] max_features=5, n_estimators=6 ..................................\n",
      "[CV] ................... max_features=5, n_estimators=6, total=   0.0s"
     ]
    },
    {
     "name": "stderr",
     "output_type": "stream",
     "text": [
      "[Parallel(n_jobs=1)]: Using backend SequentialBackend with 1 concurrent workers.\n",
      "[Parallel(n_jobs=1)]: Done   1 out of   1 | elapsed:    0.0s remaining:    0.0s\n"
     ]
    },
    {
     "name": "stdout",
     "output_type": "stream",
     "text": [
      "\n",
      "[CV] max_features=5, n_estimators=6 ..................................\n",
      "[CV] ................... max_features=5, n_estimators=6, total=   0.0s\n",
      "[CV] max_features=5, n_estimators=6 ..................................\n",
      "[CV] ................... max_features=5, n_estimators=6, total=   0.0s\n",
      "[CV] max_features=5, n_estimators=8 ..................................\n",
      "[CV] ................... max_features=5, n_estimators=8, total=   0.0s\n",
      "[CV] max_features=5, n_estimators=8 ..................................\n",
      "[CV] ................... max_features=5, n_estimators=8, total=   0.0s\n",
      "[CV] max_features=5, n_estimators=8 ..................................\n",
      "[CV] ................... max_features=5, n_estimators=8, total=   0.0s\n",
      "[CV] max_features=5, n_estimators=8 ..................................\n",
      "[CV] ................... max_features=5, n_estimators=8, total=   0.0s\n",
      "[CV] max_features=5, n_estimators=8 ..................................\n",
      "[CV] ................... max_features=5, n_estimators=8, total=   0.0s\n",
      "[CV] max_features=5, n_estimators=10 .................................\n",
      "[CV] .................. max_features=5, n_estimators=10, total=   0.0s\n",
      "[CV] max_features=5, n_estimators=10 .................................\n",
      "[CV] .................. max_features=5, n_estimators=10, total=   0.0s\n",
      "[CV] max_features=5, n_estimators=10 .................................\n",
      "[CV] .................. max_features=5, n_estimators=10, total=   0.0s\n",
      "[CV] max_features=5, n_estimators=10 .................................\n",
      "[CV] .................. max_features=5, n_estimators=10, total=   0.0s\n",
      "[CV] max_features=5, n_estimators=10 .................................\n",
      "[CV] .................. max_features=5, n_estimators=10, total=   0.0s\n",
      "[CV] max_features=5, n_estimators=12 .................................\n",
      "[CV] .................. max_features=5, n_estimators=12, total=   0.0s\n",
      "[CV] max_features=5, n_estimators=12 .................................\n",
      "[CV] .................. max_features=5, n_estimators=12, total=   0.0s\n",
      "[CV] max_features=5, n_estimators=12 .................................\n",
      "[CV] .................. max_features=5, n_estimators=12, total=   0.0s\n",
      "[CV] max_features=5, n_estimators=12 .................................\n",
      "[CV] .................. max_features=5, n_estimators=12, total=   0.0s\n",
      "[CV] max_features=5, n_estimators=12 .................................\n",
      "[CV] .................. max_features=5, n_estimators=12, total=   0.0s\n",
      "[CV] max_features=5, n_estimators=14 .................................\n",
      "[CV] .................. max_features=5, n_estimators=14, total=   0.0s\n",
      "[CV] max_features=5, n_estimators=14 .................................\n",
      "[CV] .................. max_features=5, n_estimators=14, total=   0.0s\n",
      "[CV] max_features=5, n_estimators=14 .................................\n",
      "[CV] .................. max_features=5, n_estimators=14, total=   0.0s\n",
      "[CV] max_features=5, n_estimators=14 .................................\n",
      "[CV] .................. max_features=5, n_estimators=14, total=   0.0s\n",
      "[CV] max_features=5, n_estimators=14 .................................\n",
      "[CV] .................. max_features=5, n_estimators=14, total=   0.0s\n",
      "[CV] max_features=5, n_estimators=16 .................................\n",
      "[CV] .................. max_features=5, n_estimators=16, total=   0.0s\n",
      "[CV] max_features=5, n_estimators=16 .................................\n",
      "[CV] .................. max_features=5, n_estimators=16, total=   0.0s\n",
      "[CV] max_features=5, n_estimators=16 .................................\n",
      "[CV] .................. max_features=5, n_estimators=16, total=   0.0s\n",
      "[CV] max_features=5, n_estimators=16 .................................\n",
      "[CV] .................. max_features=5, n_estimators=16, total=   0.0s\n",
      "[CV] max_features=5, n_estimators=16 .................................\n",
      "[CV] .................. max_features=5, n_estimators=16, total=   0.0s\n",
      "[CV] max_features=5, n_estimators=20 .................................\n",
      "[CV] .................. max_features=5, n_estimators=20, total=   0.1s\n",
      "[CV] max_features=5, n_estimators=20 .................................\n",
      "[CV] .................. max_features=5, n_estimators=20, total=   0.1s\n",
      "[CV] max_features=5, n_estimators=20 .................................\n",
      "[CV] .................. max_features=5, n_estimators=20, total=   0.1s\n",
      "[CV] max_features=5, n_estimators=20 .................................\n",
      "[CV] .................. max_features=5, n_estimators=20, total=   0.0s\n",
      "[CV] max_features=5, n_estimators=20 .................................\n",
      "[CV] .................. max_features=5, n_estimators=20, total=   0.0s\n",
      "[CV] max_features=6, n_estimators=2 ..................................\n",
      "[CV] ................... max_features=6, n_estimators=2, total=   0.0s\n",
      "[CV] max_features=6, n_estimators=2 ..................................\n",
      "[CV] ................... max_features=6, n_estimators=2, total=   0.0s\n",
      "[CV] max_features=6, n_estimators=2 ..................................\n",
      "[CV] ................... max_features=6, n_estimators=2, total=   0.0s\n",
      "[CV] max_features=6, n_estimators=2 ..................................\n",
      "[CV] ................... max_features=6, n_estimators=2, total=   0.0s\n",
      "[CV] max_features=6, n_estimators=2 ..................................\n",
      "[CV] ................... max_features=6, n_estimators=2, total=   0.0s\n",
      "[CV] max_features=6, n_estimators=4 ..................................\n",
      "[CV] ................... max_features=6, n_estimators=4, total=   0.0s\n",
      "[CV] max_features=6, n_estimators=4 ..................................\n",
      "[CV] ................... max_features=6, n_estimators=4, total=   0.0s\n",
      "[CV] max_features=6, n_estimators=4 ..................................\n",
      "[CV] ................... max_features=6, n_estimators=4, total=   0.0s\n",
      "[CV] max_features=6, n_estimators=4 ..................................\n",
      "[CV] ................... max_features=6, n_estimators=4, total=   0.0s\n",
      "[CV] max_features=6, n_estimators=4 ..................................\n",
      "[CV] ................... max_features=6, n_estimators=4, total=   0.0s\n",
      "[CV] max_features=6, n_estimators=6 ..................................\n",
      "[CV] ................... max_features=6, n_estimators=6, total=   0.0s\n",
      "[CV] max_features=6, n_estimators=6 ..................................\n",
      "[CV] ................... max_features=6, n_estimators=6, total=   0.0s\n",
      "[CV] max_features=6, n_estimators=6 ..................................\n",
      "[CV] ................... max_features=6, n_estimators=6, total=   0.0s\n",
      "[CV] max_features=6, n_estimators=6 ..................................\n",
      "[CV] ................... max_features=6, n_estimators=6, total=   0.0s\n",
      "[CV] max_features=6, n_estimators=6 ..................................\n",
      "[CV] ................... max_features=6, n_estimators=6, total=   0.0s\n",
      "[CV] max_features=6, n_estimators=8 ..................................\n",
      "[CV] ................... max_features=6, n_estimators=8, total=   0.0s\n",
      "[CV] max_features=6, n_estimators=8 ..................................\n",
      "[CV] ................... max_features=6, n_estimators=8, total=   0.0s\n",
      "[CV] max_features=6, n_estimators=8 ..................................\n",
      "[CV] ................... max_features=6, n_estimators=8, total=   0.0s\n",
      "[CV] max_features=6, n_estimators=8 ..................................\n",
      "[CV] ................... max_features=6, n_estimators=8, total=   0.0s\n",
      "[CV] max_features=6, n_estimators=8 ..................................\n",
      "[CV] ................... max_features=6, n_estimators=8, total=   0.0s\n",
      "[CV] max_features=6, n_estimators=10 .................................\n",
      "[CV] .................. max_features=6, n_estimators=10, total=   0.0s\n",
      "[CV] max_features=6, n_estimators=10 .................................\n",
      "[CV] .................. max_features=6, n_estimators=10, total=   0.0s\n",
      "[CV] max_features=6, n_estimators=10 .................................\n",
      "[CV] .................. max_features=6, n_estimators=10, total=   0.0s\n",
      "[CV] max_features=6, n_estimators=10 .................................\n",
      "[CV] .................. max_features=6, n_estimators=10, total=   0.0s\n",
      "[CV] max_features=6, n_estimators=10 .................................\n",
      "[CV] .................. max_features=6, n_estimators=10, total=   0.0s\n",
      "[CV] max_features=6, n_estimators=12 .................................\n",
      "[CV] .................. max_features=6, n_estimators=12, total=   0.0s\n",
      "[CV] max_features=6, n_estimators=12 .................................\n",
      "[CV] .................. max_features=6, n_estimators=12, total=   0.0s\n",
      "[CV] max_features=6, n_estimators=12 .................................\n"
     ]
    },
    {
     "name": "stdout",
     "output_type": "stream",
     "text": [
      "[CV] .................. max_features=6, n_estimators=12, total=   0.0s\n",
      "[CV] max_features=6, n_estimators=12 .................................\n",
      "[CV] .................. max_features=6, n_estimators=12, total=   0.0s\n",
      "[CV] max_features=6, n_estimators=12 .................................\n",
      "[CV] .................. max_features=6, n_estimators=12, total=   0.0s\n",
      "[CV] max_features=6, n_estimators=14 .................................\n",
      "[CV] .................. max_features=6, n_estimators=14, total=   0.0s\n",
      "[CV] max_features=6, n_estimators=14 .................................\n",
      "[CV] .................. max_features=6, n_estimators=14, total=   0.0s\n",
      "[CV] max_features=6, n_estimators=14 .................................\n",
      "[CV] .................. max_features=6, n_estimators=14, total=   0.0s\n",
      "[CV] max_features=6, n_estimators=14 .................................\n",
      "[CV] .................. max_features=6, n_estimators=14, total=   0.0s\n",
      "[CV] max_features=6, n_estimators=14 .................................\n",
      "[CV] .................. max_features=6, n_estimators=14, total=   0.0s\n",
      "[CV] max_features=6, n_estimators=16 .................................\n",
      "[CV] .................. max_features=6, n_estimators=16, total=   0.0s\n",
      "[CV] max_features=6, n_estimators=16 .................................\n",
      "[CV] .................. max_features=6, n_estimators=16, total=   0.0s\n",
      "[CV] max_features=6, n_estimators=16 .................................\n",
      "[CV] .................. max_features=6, n_estimators=16, total=   0.0s\n",
      "[CV] max_features=6, n_estimators=16 .................................\n",
      "[CV] .................. max_features=6, n_estimators=16, total=   0.1s\n",
      "[CV] max_features=6, n_estimators=16 .................................\n",
      "[CV] .................. max_features=6, n_estimators=16, total=   0.0s\n",
      "[CV] max_features=6, n_estimators=20 .................................\n",
      "[CV] .................. max_features=6, n_estimators=20, total=   0.0s\n",
      "[CV] max_features=6, n_estimators=20 .................................\n",
      "[CV] .................. max_features=6, n_estimators=20, total=   0.0s\n",
      "[CV] max_features=6, n_estimators=20 .................................\n",
      "[CV] .................. max_features=6, n_estimators=20, total=   0.0s\n",
      "[CV] max_features=6, n_estimators=20 .................................\n",
      "[CV] .................. max_features=6, n_estimators=20, total=   0.0s\n",
      "[CV] max_features=6, n_estimators=20 .................................\n",
      "[CV] .................. max_features=6, n_estimators=20, total=   0.0s\n",
      "[CV] max_features=7, n_estimators=2 ..................................\n",
      "[CV] ................... max_features=7, n_estimators=2, total=   0.0s\n",
      "[CV] max_features=7, n_estimators=2 ..................................\n",
      "[CV] ................... max_features=7, n_estimators=2, total=   0.0s\n",
      "[CV] max_features=7, n_estimators=2 ..................................\n",
      "[CV] ................... max_features=7, n_estimators=2, total=   0.0s\n",
      "[CV] max_features=7, n_estimators=2 ..................................\n",
      "[CV] ................... max_features=7, n_estimators=2, total=   0.0s\n",
      "[CV] max_features=7, n_estimators=2 ..................................\n",
      "[CV] ................... max_features=7, n_estimators=2, total=   0.0s\n",
      "[CV] max_features=7, n_estimators=4 ..................................\n",
      "[CV] ................... max_features=7, n_estimators=4, total=   0.0s\n",
      "[CV] max_features=7, n_estimators=4 ..................................\n",
      "[CV] ................... max_features=7, n_estimators=4, total=   0.0s\n",
      "[CV] max_features=7, n_estimators=4 ..................................\n",
      "[CV] ................... max_features=7, n_estimators=4, total=   0.0s\n",
      "[CV] max_features=7, n_estimators=4 ..................................\n",
      "[CV] ................... max_features=7, n_estimators=4, total=   0.0s\n",
      "[CV] max_features=7, n_estimators=4 ..................................\n",
      "[CV] ................... max_features=7, n_estimators=4, total=   0.0s\n",
      "[CV] max_features=7, n_estimators=6 ..................................\n",
      "[CV] ................... max_features=7, n_estimators=6, total=   0.0s\n",
      "[CV] max_features=7, n_estimators=6 ..................................\n",
      "[CV] ................... max_features=7, n_estimators=6, total=   0.0s\n",
      "[CV] max_features=7, n_estimators=6 ..................................\n",
      "[CV] ................... max_features=7, n_estimators=6, total=   0.0s\n",
      "[CV] max_features=7, n_estimators=6 ..................................\n",
      "[CV] ................... max_features=7, n_estimators=6, total=   0.0s\n",
      "[CV] max_features=7, n_estimators=6 ..................................\n",
      "[CV] ................... max_features=7, n_estimators=6, total=   0.0s\n",
      "[CV] max_features=7, n_estimators=8 ..................................\n",
      "[CV] ................... max_features=7, n_estimators=8, total=   0.0s\n",
      "[CV] max_features=7, n_estimators=8 ..................................\n",
      "[CV] ................... max_features=7, n_estimators=8, total=   0.0s\n",
      "[CV] max_features=7, n_estimators=8 ..................................\n",
      "[CV] ................... max_features=7, n_estimators=8, total=   0.0s\n",
      "[CV] max_features=7, n_estimators=8 ..................................\n",
      "[CV] ................... max_features=7, n_estimators=8, total=   0.0s\n",
      "[CV] max_features=7, n_estimators=8 ..................................\n",
      "[CV] ................... max_features=7, n_estimators=8, total=   0.0s\n",
      "[CV] max_features=7, n_estimators=10 .................................\n",
      "[CV] .................. max_features=7, n_estimators=10, total=   0.0s\n",
      "[CV] max_features=7, n_estimators=10 .................................\n",
      "[CV] .................. max_features=7, n_estimators=10, total=   0.0s\n",
      "[CV] max_features=7, n_estimators=10 .................................\n",
      "[CV] .................. max_features=7, n_estimators=10, total=   0.0s\n",
      "[CV] max_features=7, n_estimators=10 .................................\n",
      "[CV] .................. max_features=7, n_estimators=10, total=   0.0s\n",
      "[CV] max_features=7, n_estimators=10 .................................\n",
      "[CV] .................. max_features=7, n_estimators=10, total=   0.0s\n",
      "[CV] max_features=7, n_estimators=12 .................................\n",
      "[CV] .................. max_features=7, n_estimators=12, total=   0.0s\n",
      "[CV] max_features=7, n_estimators=12 .................................\n",
      "[CV] .................. max_features=7, n_estimators=12, total=   0.0s\n",
      "[CV] max_features=7, n_estimators=12 .................................\n",
      "[CV] .................. max_features=7, n_estimators=12, total=   0.0s\n",
      "[CV] max_features=7, n_estimators=12 .................................\n",
      "[CV] .................. max_features=7, n_estimators=12, total=   0.0s\n",
      "[CV] max_features=7, n_estimators=12 .................................\n",
      "[CV] .................. max_features=7, n_estimators=12, total=   0.0s\n",
      "[CV] max_features=7, n_estimators=14 .................................\n",
      "[CV] .................. max_features=7, n_estimators=14, total=   0.1s\n",
      "[CV] max_features=7, n_estimators=14 .................................\n",
      "[CV] .................. max_features=7, n_estimators=14, total=   0.1s\n",
      "[CV] max_features=7, n_estimators=14 .................................\n",
      "[CV] .................. max_features=7, n_estimators=14, total=   0.1s\n",
      "[CV] max_features=7, n_estimators=14 .................................\n",
      "[CV] .................. max_features=7, n_estimators=14, total=   0.1s\n",
      "[CV] max_features=7, n_estimators=14 .................................\n",
      "[CV] .................. max_features=7, n_estimators=14, total=   0.1s\n",
      "[CV] max_features=7, n_estimators=16 .................................\n",
      "[CV] .................. max_features=7, n_estimators=16, total=   0.1s\n",
      "[CV] max_features=7, n_estimators=16 .................................\n",
      "[CV] .................. max_features=7, n_estimators=16, total=   0.0s\n",
      "[CV] max_features=7, n_estimators=16 .................................\n",
      "[CV] .................. max_features=7, n_estimators=16, total=   0.0s\n",
      "[CV] max_features=7, n_estimators=16 .................................\n",
      "[CV] .................. max_features=7, n_estimators=16, total=   0.0s\n",
      "[CV] max_features=7, n_estimators=16 .................................\n",
      "[CV] .................. max_features=7, n_estimators=16, total=   0.0s\n",
      "[CV] max_features=7, n_estimators=20 .................................\n",
      "[CV] .................. max_features=7, n_estimators=20, total=   0.0s\n",
      "[CV] max_features=7, n_estimators=20 .................................\n",
      "[CV] .................. max_features=7, n_estimators=20, total=   0.0s\n",
      "[CV] max_features=7, n_estimators=20 .................................\n"
     ]
    },
    {
     "name": "stdout",
     "output_type": "stream",
     "text": [
      "[CV] .................. max_features=7, n_estimators=20, total=   0.0s\n",
      "[CV] max_features=7, n_estimators=20 .................................\n",
      "[CV] .................. max_features=7, n_estimators=20, total=   0.1s\n",
      "[CV] max_features=7, n_estimators=20 .................................\n",
      "[CV] .................. max_features=7, n_estimators=20, total=   0.0s\n",
      "[CV] max_features=8, n_estimators=2 ..................................\n",
      "[CV] ................... max_features=8, n_estimators=2, total=   0.0s\n",
      "[CV] max_features=8, n_estimators=2 ..................................\n",
      "[CV] ................... max_features=8, n_estimators=2, total=   0.0s\n",
      "[CV] max_features=8, n_estimators=2 ..................................\n",
      "[CV] ................... max_features=8, n_estimators=2, total=   0.0s\n",
      "[CV] max_features=8, n_estimators=2 ..................................\n",
      "[CV] ................... max_features=8, n_estimators=2, total=   0.0s\n",
      "[CV] max_features=8, n_estimators=2 ..................................\n",
      "[CV] ................... max_features=8, n_estimators=2, total=   0.0s\n",
      "[CV] max_features=8, n_estimators=4 ..................................\n",
      "[CV] ................... max_features=8, n_estimators=4, total=   0.0s\n",
      "[CV] max_features=8, n_estimators=4 ..................................\n",
      "[CV] ................... max_features=8, n_estimators=4, total=   0.0s\n",
      "[CV] max_features=8, n_estimators=4 ..................................\n",
      "[CV] ................... max_features=8, n_estimators=4, total=   0.0s\n",
      "[CV] max_features=8, n_estimators=4 ..................................\n",
      "[CV] ................... max_features=8, n_estimators=4, total=   0.0s\n",
      "[CV] max_features=8, n_estimators=4 ..................................\n",
      "[CV] ................... max_features=8, n_estimators=4, total=   0.0s\n",
      "[CV] max_features=8, n_estimators=6 ..................................\n",
      "[CV] ................... max_features=8, n_estimators=6, total=   0.0s\n",
      "[CV] max_features=8, n_estimators=6 ..................................\n",
      "[CV] ................... max_features=8, n_estimators=6, total=   0.0s\n",
      "[CV] max_features=8, n_estimators=6 ..................................\n",
      "[CV] ................... max_features=8, n_estimators=6, total=   0.0s\n",
      "[CV] max_features=8, n_estimators=6 ..................................\n",
      "[CV] ................... max_features=8, n_estimators=6, total=   0.0s\n",
      "[CV] max_features=8, n_estimators=6 ..................................\n",
      "[CV] ................... max_features=8, n_estimators=6, total=   0.0s\n",
      "[CV] max_features=8, n_estimators=8 ..................................\n",
      "[CV] ................... max_features=8, n_estimators=8, total=   0.0s\n",
      "[CV] max_features=8, n_estimators=8 ..................................\n",
      "[CV] ................... max_features=8, n_estimators=8, total=   0.0s\n",
      "[CV] max_features=8, n_estimators=8 ..................................\n",
      "[CV] ................... max_features=8, n_estimators=8, total=   0.0s\n",
      "[CV] max_features=8, n_estimators=8 ..................................\n",
      "[CV] ................... max_features=8, n_estimators=8, total=   0.0s\n",
      "[CV] max_features=8, n_estimators=8 ..................................\n",
      "[CV] ................... max_features=8, n_estimators=8, total=   0.0s\n",
      "[CV] max_features=8, n_estimators=10 .................................\n",
      "[CV] .................. max_features=8, n_estimators=10, total=   0.0s\n",
      "[CV] max_features=8, n_estimators=10 .................................\n",
      "[CV] .................. max_features=8, n_estimators=10, total=   0.0s\n",
      "[CV] max_features=8, n_estimators=10 .................................\n",
      "[CV] .................. max_features=8, n_estimators=10, total=   0.0s\n",
      "[CV] max_features=8, n_estimators=10 .................................\n",
      "[CV] .................. max_features=8, n_estimators=10, total=   0.0s\n",
      "[CV] max_features=8, n_estimators=10 .................................\n",
      "[CV] .................. max_features=8, n_estimators=10, total=   0.0s\n",
      "[CV] max_features=8, n_estimators=12 .................................\n",
      "[CV] .................. max_features=8, n_estimators=12, total=   0.0s\n",
      "[CV] max_features=8, n_estimators=12 .................................\n",
      "[CV] .................. max_features=8, n_estimators=12, total=   0.0s\n",
      "[CV] max_features=8, n_estimators=12 .................................\n",
      "[CV] .................. max_features=8, n_estimators=12, total=   0.0s\n",
      "[CV] max_features=8, n_estimators=12 .................................\n",
      "[CV] .................. max_features=8, n_estimators=12, total=   0.0s\n",
      "[CV] max_features=8, n_estimators=12 .................................\n",
      "[CV] .................. max_features=8, n_estimators=12, total=   0.0s\n",
      "[CV] max_features=8, n_estimators=14 .................................\n",
      "[CV] .................. max_features=8, n_estimators=14, total=   0.0s\n",
      "[CV] max_features=8, n_estimators=14 .................................\n",
      "[CV] .................. max_features=8, n_estimators=14, total=   0.0s\n",
      "[CV] max_features=8, n_estimators=14 .................................\n",
      "[CV] .................. max_features=8, n_estimators=14, total=   0.0s\n",
      "[CV] max_features=8, n_estimators=14 .................................\n",
      "[CV] .................. max_features=8, n_estimators=14, total=   0.0s\n",
      "[CV] max_features=8, n_estimators=14 .................................\n",
      "[CV] .................. max_features=8, n_estimators=14, total=   0.0s\n",
      "[CV] max_features=8, n_estimators=16 .................................\n",
      "[CV] .................. max_features=8, n_estimators=16, total=   0.0s\n",
      "[CV] max_features=8, n_estimators=16 .................................\n",
      "[CV] .................. max_features=8, n_estimators=16, total=   0.0s\n",
      "[CV] max_features=8, n_estimators=16 .................................\n",
      "[CV] .................. max_features=8, n_estimators=16, total=   0.0s\n",
      "[CV] max_features=8, n_estimators=16 .................................\n",
      "[CV] .................. max_features=8, n_estimators=16, total=   0.0s\n",
      "[CV] max_features=8, n_estimators=16 .................................\n",
      "[CV] .................. max_features=8, n_estimators=16, total=   0.0s\n",
      "[CV] max_features=8, n_estimators=20 .................................\n",
      "[CV] .................. max_features=8, n_estimators=20, total=   0.1s\n",
      "[CV] max_features=8, n_estimators=20 .................................\n",
      "[CV] .................. max_features=8, n_estimators=20, total=   0.0s\n",
      "[CV] max_features=8, n_estimators=20 .................................\n",
      "[CV] .................. max_features=8, n_estimators=20, total=   0.0s\n",
      "[CV] max_features=8, n_estimators=20 .................................\n",
      "[CV] .................. max_features=8, n_estimators=20, total=   0.1s\n",
      "[CV] max_features=8, n_estimators=20 .................................\n",
      "[CV] .................. max_features=8, n_estimators=20, total=   0.1s\n",
      "[CV] max_features=9, n_estimators=2 ..................................\n",
      "[CV] ................... max_features=9, n_estimators=2, total=   0.0s\n",
      "[CV] max_features=9, n_estimators=2 ..................................\n",
      "[CV] ................... max_features=9, n_estimators=2, total=   0.0s\n",
      "[CV] max_features=9, n_estimators=2 ..................................\n",
      "[CV] ................... max_features=9, n_estimators=2, total=   0.0s\n",
      "[CV] max_features=9, n_estimators=2 ..................................\n",
      "[CV] ................... max_features=9, n_estimators=2, total=   0.0s\n",
      "[CV] max_features=9, n_estimators=2 ..................................\n",
      "[CV] ................... max_features=9, n_estimators=2, total=   0.0s\n",
      "[CV] max_features=9, n_estimators=4 ..................................\n",
      "[CV] ................... max_features=9, n_estimators=4, total=   0.0s\n",
      "[CV] max_features=9, n_estimators=4 ..................................\n",
      "[CV] ................... max_features=9, n_estimators=4, total=   0.0s\n",
      "[CV] max_features=9, n_estimators=4 ..................................\n",
      "[CV] ................... max_features=9, n_estimators=4, total=   0.0s\n",
      "[CV] max_features=9, n_estimators=4 ..................................\n",
      "[CV] ................... max_features=9, n_estimators=4, total=   0.0s\n",
      "[CV] max_features=9, n_estimators=4 ..................................\n",
      "[CV] ................... max_features=9, n_estimators=4, total=   0.0s\n",
      "[CV] max_features=9, n_estimators=6 ..................................\n",
      "[CV] ................... max_features=9, n_estimators=6, total=   0.0s\n",
      "[CV] max_features=9, n_estimators=6 ..................................\n",
      "[CV] ................... max_features=9, n_estimators=6, total=   0.0s\n",
      "[CV] max_features=9, n_estimators=6 ..................................\n",
      "[CV] ................... max_features=9, n_estimators=6, total=   0.0s\n",
      "[CV] max_features=9, n_estimators=6 ..................................\n"
     ]
    },
    {
     "name": "stdout",
     "output_type": "stream",
     "text": [
      "[CV] ................... max_features=9, n_estimators=6, total=   0.0s\n",
      "[CV] max_features=9, n_estimators=6 ..................................\n",
      "[CV] ................... max_features=9, n_estimators=6, total=   0.0s\n",
      "[CV] max_features=9, n_estimators=8 ..................................\n",
      "[CV] ................... max_features=9, n_estimators=8, total=   0.0s\n",
      "[CV] max_features=9, n_estimators=8 ..................................\n",
      "[CV] ................... max_features=9, n_estimators=8, total=   0.0s\n",
      "[CV] max_features=9, n_estimators=8 ..................................\n",
      "[CV] ................... max_features=9, n_estimators=8, total=   0.0s\n",
      "[CV] max_features=9, n_estimators=8 ..................................\n",
      "[CV] ................... max_features=9, n_estimators=8, total=   0.0s\n",
      "[CV] max_features=9, n_estimators=8 ..................................\n",
      "[CV] ................... max_features=9, n_estimators=8, total=   0.0s\n",
      "[CV] max_features=9, n_estimators=10 .................................\n",
      "[CV] .................. max_features=9, n_estimators=10, total=   0.0s\n",
      "[CV] max_features=9, n_estimators=10 .................................\n",
      "[CV] .................. max_features=9, n_estimators=10, total=   0.0s\n",
      "[CV] max_features=9, n_estimators=10 .................................\n",
      "[CV] .................. max_features=9, n_estimators=10, total=   0.0s\n",
      "[CV] max_features=9, n_estimators=10 .................................\n",
      "[CV] .................. max_features=9, n_estimators=10, total=   0.0s\n",
      "[CV] max_features=9, n_estimators=10 .................................\n",
      "[CV] .................. max_features=9, n_estimators=10, total=   0.0s\n",
      "[CV] max_features=9, n_estimators=12 .................................\n",
      "[CV] .................. max_features=9, n_estimators=12, total=   0.0s\n",
      "[CV] max_features=9, n_estimators=12 .................................\n",
      "[CV] .................. max_features=9, n_estimators=12, total=   0.0s\n",
      "[CV] max_features=9, n_estimators=12 .................................\n",
      "[CV] .................. max_features=9, n_estimators=12, total=   0.0s\n",
      "[CV] max_features=9, n_estimators=12 .................................\n",
      "[CV] .................. max_features=9, n_estimators=12, total=   0.0s\n",
      "[CV] max_features=9, n_estimators=12 .................................\n",
      "[CV] .................. max_features=9, n_estimators=12, total=   0.0s\n",
      "[CV] max_features=9, n_estimators=14 .................................\n",
      "[CV] .................. max_features=9, n_estimators=14, total=   0.0s\n",
      "[CV] max_features=9, n_estimators=14 .................................\n",
      "[CV] .................. max_features=9, n_estimators=14, total=   0.0s\n",
      "[CV] max_features=9, n_estimators=14 .................................\n",
      "[CV] .................. max_features=9, n_estimators=14, total=   0.0s\n",
      "[CV] max_features=9, n_estimators=14 .................................\n",
      "[CV] .................. max_features=9, n_estimators=14, total=   0.0s\n",
      "[CV] max_features=9, n_estimators=14 .................................\n",
      "[CV] .................. max_features=9, n_estimators=14, total=   0.0s\n",
      "[CV] max_features=9, n_estimators=16 .................................\n",
      "[CV] .................. max_features=9, n_estimators=16, total=   0.0s\n",
      "[CV] max_features=9, n_estimators=16 .................................\n",
      "[CV] .................. max_features=9, n_estimators=16, total=   0.0s\n",
      "[CV] max_features=9, n_estimators=16 .................................\n",
      "[CV] .................. max_features=9, n_estimators=16, total=   0.0s\n",
      "[CV] max_features=9, n_estimators=16 .................................\n",
      "[CV] .................. max_features=9, n_estimators=16, total=   0.0s\n",
      "[CV] max_features=9, n_estimators=16 .................................\n",
      "[CV] .................. max_features=9, n_estimators=16, total=   0.0s\n",
      "[CV] max_features=9, n_estimators=20 .................................\n",
      "[CV] .................. max_features=9, n_estimators=20, total=   0.1s\n",
      "[CV] max_features=9, n_estimators=20 .................................\n",
      "[CV] .................. max_features=9, n_estimators=20, total=   0.1s\n",
      "[CV] max_features=9, n_estimators=20 .................................\n",
      "[CV] .................. max_features=9, n_estimators=20, total=   0.1s\n",
      "[CV] max_features=9, n_estimators=20 .................................\n",
      "[CV] .................. max_features=9, n_estimators=20, total=   0.1s\n",
      "[CV] max_features=9, n_estimators=20 .................................\n",
      "[CV] .................. max_features=9, n_estimators=20, total=   0.1s\n",
      "[CV] max_features=10, n_estimators=2 .................................\n",
      "[CV] .................. max_features=10, n_estimators=2, total=   0.0s\n",
      "[CV] max_features=10, n_estimators=2 .................................\n",
      "[CV] .................. max_features=10, n_estimators=2, total=   0.0s\n",
      "[CV] max_features=10, n_estimators=2 .................................\n",
      "[CV] .................. max_features=10, n_estimators=2, total=   0.0s\n",
      "[CV] max_features=10, n_estimators=2 .................................\n",
      "[CV] .................. max_features=10, n_estimators=2, total=   0.0s\n",
      "[CV] max_features=10, n_estimators=2 .................................\n",
      "[CV] .................. max_features=10, n_estimators=2, total=   0.0s\n",
      "[CV] max_features=10, n_estimators=4 .................................\n",
      "[CV] .................. max_features=10, n_estimators=4, total=   0.0s\n",
      "[CV] max_features=10, n_estimators=4 .................................\n",
      "[CV] .................. max_features=10, n_estimators=4, total=   0.0s\n",
      "[CV] max_features=10, n_estimators=4 .................................\n",
      "[CV] .................. max_features=10, n_estimators=4, total=   0.0s\n",
      "[CV] max_features=10, n_estimators=4 .................................\n",
      "[CV] .................. max_features=10, n_estimators=4, total=   0.0s\n",
      "[CV] max_features=10, n_estimators=4 .................................\n",
      "[CV] .................. max_features=10, n_estimators=4, total=   0.0s\n",
      "[CV] max_features=10, n_estimators=6 .................................\n",
      "[CV] .................. max_features=10, n_estimators=6, total=   0.0s\n",
      "[CV] max_features=10, n_estimators=6 .................................\n",
      "[CV] .................. max_features=10, n_estimators=6, total=   0.0s\n",
      "[CV] max_features=10, n_estimators=6 .................................\n",
      "[CV] .................. max_features=10, n_estimators=6, total=   0.0s\n",
      "[CV] max_features=10, n_estimators=6 .................................\n",
      "[CV] .................. max_features=10, n_estimators=6, total=   0.0s\n",
      "[CV] max_features=10, n_estimators=6 .................................\n",
      "[CV] .................. max_features=10, n_estimators=6, total=   0.0s\n",
      "[CV] max_features=10, n_estimators=8 .................................\n",
      "[CV] .................. max_features=10, n_estimators=8, total=   0.0s\n",
      "[CV] max_features=10, n_estimators=8 .................................\n",
      "[CV] .................. max_features=10, n_estimators=8, total=   0.0s\n",
      "[CV] max_features=10, n_estimators=8 .................................\n",
      "[CV] .................. max_features=10, n_estimators=8, total=   0.0s\n",
      "[CV] max_features=10, n_estimators=8 .................................\n",
      "[CV] .................. max_features=10, n_estimators=8, total=   0.0s\n",
      "[CV] max_features=10, n_estimators=8 .................................\n",
      "[CV] .................. max_features=10, n_estimators=8, total=   0.0s\n",
      "[CV] max_features=10, n_estimators=10 ................................\n",
      "[CV] ................. max_features=10, n_estimators=10, total=   0.0s\n",
      "[CV] max_features=10, n_estimators=10 ................................\n",
      "[CV] ................. max_features=10, n_estimators=10, total=   0.0s\n",
      "[CV] max_features=10, n_estimators=10 ................................\n",
      "[CV] ................. max_features=10, n_estimators=10, total=   0.0s\n",
      "[CV] max_features=10, n_estimators=10 ................................\n",
      "[CV] ................. max_features=10, n_estimators=10, total=   0.0s\n",
      "[CV] max_features=10, n_estimators=10 ................................\n",
      "[CV] ................. max_features=10, n_estimators=10, total=   0.0s\n",
      "[CV] max_features=10, n_estimators=12 ................................\n",
      "[CV] ................. max_features=10, n_estimators=12, total=   0.0s\n",
      "[CV] max_features=10, n_estimators=12 ................................\n",
      "[CV] ................. max_features=10, n_estimators=12, total=   0.0s\n",
      "[CV] max_features=10, n_estimators=12 ................................\n",
      "[CV] ................. max_features=10, n_estimators=12, total=   0.0s\n",
      "[CV] max_features=10, n_estimators=12 ................................\n",
      "[CV] ................. max_features=10, n_estimators=12, total=   0.0s\n"
     ]
    },
    {
     "name": "stdout",
     "output_type": "stream",
     "text": [
      "[CV] max_features=10, n_estimators=12 ................................\n",
      "[CV] ................. max_features=10, n_estimators=12, total=   0.0s\n",
      "[CV] max_features=10, n_estimators=14 ................................\n",
      "[CV] ................. max_features=10, n_estimators=14, total=   0.0s\n",
      "[CV] max_features=10, n_estimators=14 ................................\n",
      "[CV] ................. max_features=10, n_estimators=14, total=   0.0s\n",
      "[CV] max_features=10, n_estimators=14 ................................\n",
      "[CV] ................. max_features=10, n_estimators=14, total=   0.0s\n",
      "[CV] max_features=10, n_estimators=14 ................................\n",
      "[CV] ................. max_features=10, n_estimators=14, total=   0.0s\n",
      "[CV] max_features=10, n_estimators=14 ................................\n",
      "[CV] ................. max_features=10, n_estimators=14, total=   0.0s\n",
      "[CV] max_features=10, n_estimators=16 ................................\n",
      "[CV] ................. max_features=10, n_estimators=16, total=   0.0s\n",
      "[CV] max_features=10, n_estimators=16 ................................\n",
      "[CV] ................. max_features=10, n_estimators=16, total=   0.0s\n",
      "[CV] max_features=10, n_estimators=16 ................................\n",
      "[CV] ................. max_features=10, n_estimators=16, total=   0.0s\n",
      "[CV] max_features=10, n_estimators=16 ................................\n",
      "[CV] ................. max_features=10, n_estimators=16, total=   0.0s\n",
      "[CV] max_features=10, n_estimators=16 ................................\n",
      "[CV] ................. max_features=10, n_estimators=16, total=   0.0s\n",
      "[CV] max_features=10, n_estimators=20 ................................\n",
      "[CV] ................. max_features=10, n_estimators=20, total=   0.1s\n",
      "[CV] max_features=10, n_estimators=20 ................................\n",
      "[CV] ................. max_features=10, n_estimators=20, total=   0.1s\n",
      "[CV] max_features=10, n_estimators=20 ................................\n",
      "[CV] ................. max_features=10, n_estimators=20, total=   0.1s\n",
      "[CV] max_features=10, n_estimators=20 ................................\n",
      "[CV] ................. max_features=10, n_estimators=20, total=   0.1s\n",
      "[CV] max_features=10, n_estimators=20 ................................\n",
      "[CV] ................. max_features=10, n_estimators=20, total=   0.1s\n",
      "[CV] max_features=11, n_estimators=2 .................................\n",
      "[CV] .................. max_features=11, n_estimators=2, total=   0.0s\n",
      "[CV] max_features=11, n_estimators=2 .................................\n",
      "[CV] .................. max_features=11, n_estimators=2, total=   0.0s\n",
      "[CV] max_features=11, n_estimators=2 .................................\n",
      "[CV] .................. max_features=11, n_estimators=2, total=   0.0s\n",
      "[CV] max_features=11, n_estimators=2 .................................\n",
      "[CV] .................. max_features=11, n_estimators=2, total=   0.0s\n",
      "[CV] max_features=11, n_estimators=2 .................................\n",
      "[CV] .................. max_features=11, n_estimators=2, total=   0.0s\n",
      "[CV] max_features=11, n_estimators=4 .................................\n",
      "[CV] .................. max_features=11, n_estimators=4, total=   0.0s\n",
      "[CV] max_features=11, n_estimators=4 .................................\n",
      "[CV] .................. max_features=11, n_estimators=4, total=   0.0s\n",
      "[CV] max_features=11, n_estimators=4 .................................\n",
      "[CV] .................. max_features=11, n_estimators=4, total=   0.0s\n",
      "[CV] max_features=11, n_estimators=4 .................................\n",
      "[CV] .................. max_features=11, n_estimators=4, total=   0.0s\n",
      "[CV] max_features=11, n_estimators=4 .................................\n",
      "[CV] .................. max_features=11, n_estimators=4, total=   0.0s\n",
      "[CV] max_features=11, n_estimators=6 .................................\n",
      "[CV] .................. max_features=11, n_estimators=6, total=   0.0s\n",
      "[CV] max_features=11, n_estimators=6 .................................\n",
      "[CV] .................. max_features=11, n_estimators=6, total=   0.0s\n",
      "[CV] max_features=11, n_estimators=6 .................................\n",
      "[CV] .................. max_features=11, n_estimators=6, total=   0.0s\n",
      "[CV] max_features=11, n_estimators=6 .................................\n",
      "[CV] .................. max_features=11, n_estimators=6, total=   0.0s\n",
      "[CV] max_features=11, n_estimators=6 .................................\n",
      "[CV] .................. max_features=11, n_estimators=6, total=   0.0s\n",
      "[CV] max_features=11, n_estimators=8 .................................\n",
      "[CV] .................. max_features=11, n_estimators=8, total=   0.0s\n",
      "[CV] max_features=11, n_estimators=8 .................................\n",
      "[CV] .................. max_features=11, n_estimators=8, total=   0.0s\n",
      "[CV] max_features=11, n_estimators=8 .................................\n",
      "[CV] .................. max_features=11, n_estimators=8, total=   0.1s\n",
      "[CV] max_features=11, n_estimators=8 .................................\n",
      "[CV] .................. max_features=11, n_estimators=8, total=   0.0s\n",
      "[CV] max_features=11, n_estimators=8 .................................\n",
      "[CV] .................. max_features=11, n_estimators=8, total=   0.0s\n",
      "[CV] max_features=11, n_estimators=10 ................................\n",
      "[CV] ................. max_features=11, n_estimators=10, total=   0.0s\n",
      "[CV] max_features=11, n_estimators=10 ................................\n",
      "[CV] ................. max_features=11, n_estimators=10, total=   0.1s\n",
      "[CV] max_features=11, n_estimators=10 ................................\n",
      "[CV] ................. max_features=11, n_estimators=10, total=   0.0s\n",
      "[CV] max_features=11, n_estimators=10 ................................\n",
      "[CV] ................. max_features=11, n_estimators=10, total=   0.0s\n",
      "[CV] max_features=11, n_estimators=10 ................................\n",
      "[CV] ................. max_features=11, n_estimators=10, total=   0.1s\n",
      "[CV] max_features=11, n_estimators=12 ................................\n",
      "[CV] ................. max_features=11, n_estimators=12, total=   0.1s\n",
      "[CV] max_features=11, n_estimators=12 ................................\n",
      "[CV] ................. max_features=11, n_estimators=12, total=   0.0s\n",
      "[CV] max_features=11, n_estimators=12 ................................\n",
      "[CV] ................. max_features=11, n_estimators=12, total=   0.0s\n",
      "[CV] max_features=11, n_estimators=12 ................................\n",
      "[CV] ................. max_features=11, n_estimators=12, total=   0.0s\n",
      "[CV] max_features=11, n_estimators=12 ................................\n",
      "[CV] ................. max_features=11, n_estimators=12, total=   0.0s\n",
      "[CV] max_features=11, n_estimators=14 ................................\n",
      "[CV] ................. max_features=11, n_estimators=14, total=   0.0s\n",
      "[CV] max_features=11, n_estimators=14 ................................\n",
      "[CV] ................. max_features=11, n_estimators=14, total=   0.0s\n",
      "[CV] max_features=11, n_estimators=14 ................................\n",
      "[CV] ................. max_features=11, n_estimators=14, total=   0.0s\n",
      "[CV] max_features=11, n_estimators=14 ................................\n",
      "[CV] ................. max_features=11, n_estimators=14, total=   0.0s\n",
      "[CV] max_features=11, n_estimators=14 ................................\n",
      "[CV] ................. max_features=11, n_estimators=14, total=   0.0s\n",
      "[CV] max_features=11, n_estimators=16 ................................\n",
      "[CV] ................. max_features=11, n_estimators=16, total=   0.0s\n",
      "[CV] max_features=11, n_estimators=16 ................................\n",
      "[CV] ................. max_features=11, n_estimators=16, total=   0.0s\n",
      "[CV] max_features=11, n_estimators=16 ................................\n",
      "[CV] ................. max_features=11, n_estimators=16, total=   0.0s\n",
      "[CV] max_features=11, n_estimators=16 ................................\n",
      "[CV] ................. max_features=11, n_estimators=16, total=   0.0s\n",
      "[CV] max_features=11, n_estimators=16 ................................\n",
      "[CV] ................. max_features=11, n_estimators=16, total=   0.0s\n",
      "[CV] max_features=11, n_estimators=20 ................................\n",
      "[CV] ................. max_features=11, n_estimators=20, total=   0.1s\n",
      "[CV] max_features=11, n_estimators=20 ................................\n",
      "[CV] ................. max_features=11, n_estimators=20, total=   0.1s\n",
      "[CV] max_features=11, n_estimators=20 ................................\n"
     ]
    },
    {
     "name": "stdout",
     "output_type": "stream",
     "text": [
      "[CV] ................. max_features=11, n_estimators=20, total=   0.1s\n",
      "[CV] max_features=11, n_estimators=20 ................................\n",
      "[CV] ................. max_features=11, n_estimators=20, total=   0.1s\n",
      "[CV] max_features=11, n_estimators=20 ................................\n",
      "[CV] ................. max_features=11, n_estimators=20, total=   0.1s\n",
      "[CV] max_features=12, n_estimators=2 .................................\n",
      "[CV] .................. max_features=12, n_estimators=2, total=   0.0s\n",
      "[CV] max_features=12, n_estimators=2 .................................\n",
      "[CV] .................. max_features=12, n_estimators=2, total=   0.0s\n",
      "[CV] max_features=12, n_estimators=2 .................................\n",
      "[CV] .................. max_features=12, n_estimators=2, total=   0.0s\n",
      "[CV] max_features=12, n_estimators=2 .................................\n",
      "[CV] .................. max_features=12, n_estimators=2, total=   0.0s\n",
      "[CV] max_features=12, n_estimators=2 .................................\n",
      "[CV] .................. max_features=12, n_estimators=2, total=   0.0s\n",
      "[CV] max_features=12, n_estimators=4 .................................\n",
      "[CV] .................. max_features=12, n_estimators=4, total=   0.0s\n",
      "[CV] max_features=12, n_estimators=4 .................................\n",
      "[CV] .................. max_features=12, n_estimators=4, total=   0.0s\n",
      "[CV] max_features=12, n_estimators=4 .................................\n",
      "[CV] .................. max_features=12, n_estimators=4, total=   0.0s\n",
      "[CV] max_features=12, n_estimators=4 .................................\n",
      "[CV] .................. max_features=12, n_estimators=4, total=   0.0s\n",
      "[CV] max_features=12, n_estimators=4 .................................\n",
      "[CV] .................. max_features=12, n_estimators=4, total=   0.0s\n",
      "[CV] max_features=12, n_estimators=6 .................................\n",
      "[CV] .................. max_features=12, n_estimators=6, total=   0.0s\n",
      "[CV] max_features=12, n_estimators=6 .................................\n",
      "[CV] .................. max_features=12, n_estimators=6, total=   0.0s\n",
      "[CV] max_features=12, n_estimators=6 .................................\n",
      "[CV] .................. max_features=12, n_estimators=6, total=   0.0s\n",
      "[CV] max_features=12, n_estimators=6 .................................\n",
      "[CV] .................. max_features=12, n_estimators=6, total=   0.0s\n",
      "[CV] max_features=12, n_estimators=6 .................................\n",
      "[CV] .................. max_features=12, n_estimators=6, total=   0.0s\n",
      "[CV] max_features=12, n_estimators=8 .................................\n",
      "[CV] .................. max_features=12, n_estimators=8, total=   0.0s\n",
      "[CV] max_features=12, n_estimators=8 .................................\n",
      "[CV] .................. max_features=12, n_estimators=8, total=   0.0s\n",
      "[CV] max_features=12, n_estimators=8 .................................\n",
      "[CV] .................. max_features=12, n_estimators=8, total=   0.0s\n",
      "[CV] max_features=12, n_estimators=8 .................................\n",
      "[CV] .................. max_features=12, n_estimators=8, total=   0.0s\n",
      "[CV] max_features=12, n_estimators=8 .................................\n",
      "[CV] .................. max_features=12, n_estimators=8, total=   0.0s\n",
      "[CV] max_features=12, n_estimators=10 ................................\n",
      "[CV] ................. max_features=12, n_estimators=10, total=   0.0s\n",
      "[CV] max_features=12, n_estimators=10 ................................\n",
      "[CV] ................. max_features=12, n_estimators=10, total=   0.0s\n",
      "[CV] max_features=12, n_estimators=10 ................................\n",
      "[CV] ................. max_features=12, n_estimators=10, total=   0.0s\n",
      "[CV] max_features=12, n_estimators=10 ................................\n",
      "[CV] ................. max_features=12, n_estimators=10, total=   0.0s\n",
      "[CV] max_features=12, n_estimators=10 ................................\n",
      "[CV] ................. max_features=12, n_estimators=10, total=   0.0s\n",
      "[CV] max_features=12, n_estimators=12 ................................\n",
      "[CV] ................. max_features=12, n_estimators=12, total=   0.0s\n",
      "[CV] max_features=12, n_estimators=12 ................................\n",
      "[CV] ................. max_features=12, n_estimators=12, total=   0.0s\n",
      "[CV] max_features=12, n_estimators=12 ................................\n",
      "[CV] ................. max_features=12, n_estimators=12, total=   0.0s\n",
      "[CV] max_features=12, n_estimators=12 ................................\n",
      "[CV] ................. max_features=12, n_estimators=12, total=   0.0s\n",
      "[CV] max_features=12, n_estimators=12 ................................\n",
      "[CV] ................. max_features=12, n_estimators=12, total=   0.0s\n",
      "[CV] max_features=12, n_estimators=14 ................................\n",
      "[CV] ................. max_features=12, n_estimators=14, total=   0.0s\n",
      "[CV] max_features=12, n_estimators=14 ................................\n",
      "[CV] ................. max_features=12, n_estimators=14, total=   0.0s\n",
      "[CV] max_features=12, n_estimators=14 ................................\n",
      "[CV] ................. max_features=12, n_estimators=14, total=   0.0s\n",
      "[CV] max_features=12, n_estimators=14 ................................\n",
      "[CV] ................. max_features=12, n_estimators=14, total=   0.0s\n",
      "[CV] max_features=12, n_estimators=14 ................................\n",
      "[CV] ................. max_features=12, n_estimators=14, total=   0.0s\n",
      "[CV] max_features=12, n_estimators=16 ................................\n",
      "[CV] ................. max_features=12, n_estimators=16, total=   0.0s\n",
      "[CV] max_features=12, n_estimators=16 ................................\n",
      "[CV] ................. max_features=12, n_estimators=16, total=   0.0s\n",
      "[CV] max_features=12, n_estimators=16 ................................\n",
      "[CV] ................. max_features=12, n_estimators=16, total=   0.1s\n",
      "[CV] max_features=12, n_estimators=16 ................................\n",
      "[CV] ................. max_features=12, n_estimators=16, total=   0.0s\n",
      "[CV] max_features=12, n_estimators=16 ................................\n",
      "[CV] ................. max_features=12, n_estimators=16, total=   0.0s\n",
      "[CV] max_features=12, n_estimators=20 ................................\n",
      "[CV] ................. max_features=12, n_estimators=20, total=   0.1s\n",
      "[CV] max_features=12, n_estimators=20 ................................\n",
      "[CV] ................. max_features=12, n_estimators=20, total=   0.1s\n",
      "[CV] max_features=12, n_estimators=20 ................................\n",
      "[CV] ................. max_features=12, n_estimators=20, total=   0.1s\n",
      "[CV] max_features=12, n_estimators=20 ................................\n",
      "[CV] ................. max_features=12, n_estimators=20, total=   0.1s\n",
      "[CV] max_features=12, n_estimators=20 ................................\n",
      "[CV] ................. max_features=12, n_estimators=20, total=   0.1s\n",
      "[CV] max_features=13, n_estimators=2 .................................\n",
      "[CV] .................. max_features=13, n_estimators=2, total=   0.0s\n",
      "[CV] max_features=13, n_estimators=2 .................................\n",
      "[CV] .................. max_features=13, n_estimators=2, total=   0.0s\n",
      "[CV] max_features=13, n_estimators=2 .................................\n",
      "[CV] .................. max_features=13, n_estimators=2, total=   0.0s\n",
      "[CV] max_features=13, n_estimators=2 .................................\n",
      "[CV] .................. max_features=13, n_estimators=2, total=   0.0s\n",
      "[CV] max_features=13, n_estimators=2 .................................\n",
      "[CV] .................. max_features=13, n_estimators=2, total=   0.0s\n",
      "[CV] max_features=13, n_estimators=4 .................................\n",
      "[CV] .................. max_features=13, n_estimators=4, total=   0.0s\n",
      "[CV] max_features=13, n_estimators=4 .................................\n",
      "[CV] .................. max_features=13, n_estimators=4, total=   0.0s\n",
      "[CV] max_features=13, n_estimators=4 .................................\n",
      "[CV] .................. max_features=13, n_estimators=4, total=   0.0s\n",
      "[CV] max_features=13, n_estimators=4 .................................\n",
      "[CV] .................. max_features=13, n_estimators=4, total=   0.0s\n",
      "[CV] max_features=13, n_estimators=4 .................................\n",
      "[CV] .................. max_features=13, n_estimators=4, total=   0.0s\n",
      "[CV] max_features=13, n_estimators=6 .................................\n",
      "[CV] .................. max_features=13, n_estimators=6, total=   0.0s\n",
      "[CV] max_features=13, n_estimators=6 .................................\n",
      "[CV] .................. max_features=13, n_estimators=6, total=   0.0s\n",
      "[CV] max_features=13, n_estimators=6 .................................\n"
     ]
    },
    {
     "name": "stdout",
     "output_type": "stream",
     "text": [
      "[CV] .................. max_features=13, n_estimators=6, total=   0.0s\n",
      "[CV] max_features=13, n_estimators=6 .................................\n",
      "[CV] .................. max_features=13, n_estimators=6, total=   0.0s\n",
      "[CV] max_features=13, n_estimators=6 .................................\n",
      "[CV] .................. max_features=13, n_estimators=6, total=   0.0s\n",
      "[CV] max_features=13, n_estimators=8 .................................\n",
      "[CV] .................. max_features=13, n_estimators=8, total=   0.0s\n",
      "[CV] max_features=13, n_estimators=8 .................................\n",
      "[CV] .................. max_features=13, n_estimators=8, total=   0.0s\n",
      "[CV] max_features=13, n_estimators=8 .................................\n",
      "[CV] .................. max_features=13, n_estimators=8, total=   0.0s\n",
      "[CV] max_features=13, n_estimators=8 .................................\n",
      "[CV] .................. max_features=13, n_estimators=8, total=   0.0s\n",
      "[CV] max_features=13, n_estimators=8 .................................\n",
      "[CV] .................. max_features=13, n_estimators=8, total=   0.0s\n",
      "[CV] max_features=13, n_estimators=10 ................................\n",
      "[CV] ................. max_features=13, n_estimators=10, total=   0.0s\n",
      "[CV] max_features=13, n_estimators=10 ................................\n",
      "[CV] ................. max_features=13, n_estimators=10, total=   0.0s\n",
      "[CV] max_features=13, n_estimators=10 ................................\n",
      "[CV] ................. max_features=13, n_estimators=10, total=   0.0s\n",
      "[CV] max_features=13, n_estimators=10 ................................\n",
      "[CV] ................. max_features=13, n_estimators=10, total=   0.0s\n",
      "[CV] max_features=13, n_estimators=10 ................................\n",
      "[CV] ................. max_features=13, n_estimators=10, total=   0.0s\n",
      "[CV] max_features=13, n_estimators=12 ................................\n",
      "[CV] ................. max_features=13, n_estimators=12, total=   0.0s\n",
      "[CV] max_features=13, n_estimators=12 ................................\n",
      "[CV] ................. max_features=13, n_estimators=12, total=   0.1s\n",
      "[CV] max_features=13, n_estimators=12 ................................\n",
      "[CV] ................. max_features=13, n_estimators=12, total=   0.1s\n",
      "[CV] max_features=13, n_estimators=12 ................................\n",
      "[CV] ................. max_features=13, n_estimators=12, total=   0.0s\n",
      "[CV] max_features=13, n_estimators=12 ................................\n",
      "[CV] ................. max_features=13, n_estimators=12, total=   0.0s\n",
      "[CV] max_features=13, n_estimators=14 ................................\n",
      "[CV] ................. max_features=13, n_estimators=14, total=   0.0s\n",
      "[CV] max_features=13, n_estimators=14 ................................\n",
      "[CV] ................. max_features=13, n_estimators=14, total=   0.0s\n",
      "[CV] max_features=13, n_estimators=14 ................................\n",
      "[CV] ................. max_features=13, n_estimators=14, total=   0.0s\n",
      "[CV] max_features=13, n_estimators=14 ................................\n",
      "[CV] ................. max_features=13, n_estimators=14, total=   0.0s\n",
      "[CV] max_features=13, n_estimators=14 ................................\n",
      "[CV] ................. max_features=13, n_estimators=14, total=   0.0s\n",
      "[CV] max_features=13, n_estimators=16 ................................\n",
      "[CV] ................. max_features=13, n_estimators=16, total=   0.0s\n",
      "[CV] max_features=13, n_estimators=16 ................................\n",
      "[CV] ................. max_features=13, n_estimators=16, total=   0.1s\n",
      "[CV] max_features=13, n_estimators=16 ................................\n",
      "[CV] ................. max_features=13, n_estimators=16, total=   0.0s\n",
      "[CV] max_features=13, n_estimators=16 ................................\n",
      "[CV] ................. max_features=13, n_estimators=16, total=   0.0s\n",
      "[CV] max_features=13, n_estimators=16 ................................\n",
      "[CV] ................. max_features=13, n_estimators=16, total=   0.0s\n",
      "[CV] max_features=13, n_estimators=20 ................................\n",
      "[CV] ................. max_features=13, n_estimators=20, total=   0.1s\n",
      "[CV] max_features=13, n_estimators=20 ................................\n",
      "[CV] ................. max_features=13, n_estimators=20, total=   0.1s\n",
      "[CV] max_features=13, n_estimators=20 ................................\n",
      "[CV] ................. max_features=13, n_estimators=20, total=   0.1s\n",
      "[CV] max_features=13, n_estimators=20 ................................\n",
      "[CV] ................. max_features=13, n_estimators=20, total=   0.1s\n",
      "[CV] max_features=13, n_estimators=20 ................................\n",
      "[CV] ................. max_features=13, n_estimators=20, total=   0.1s\n"
     ]
    },
    {
     "name": "stderr",
     "output_type": "stream",
     "text": [
      "[Parallel(n_jobs=1)]: Done 405 out of 405 | elapsed:   13.3s finished\n"
     ]
    },
    {
     "data": {
      "text/plain": [
       "GridSearchCV(cv=5, estimator=RandomForestRegressor(),\n",
       "             param_grid=[{'max_features': [5, 6, 7, 8, 9, 10, 11, 12, 13],\n",
       "                          'n_estimators': [2, 4, 6, 8, 10, 12, 14, 16, 20]}],\n",
       "             return_train_score=True, scoring='neg_mean_squared_error',\n",
       "             verbose=2)"
      ]
     },
     "execution_count": 528,
     "metadata": {},
     "output_type": "execute_result"
    }
   ],
   "source": [
    "grid_cv.fit(X_train, y_train)"
   ]
  },
  {
   "cell_type": "code",
   "execution_count": 530,
   "metadata": {},
   "outputs": [
    {
     "data": {
      "text/plain": [
       "({'max_features': 9, 'n_estimators': 8}, 3.370102266154014)"
      ]
     },
     "execution_count": 530,
     "metadata": {},
     "output_type": "execute_result"
    }
   ],
   "source": [
    "grid_cv.best_params_, np.sqrt(-grid_cv.best_score_) # Great Job!"
   ]
  },
  {
   "cell_type": "markdown",
   "metadata": {},
   "source": [
    "### Let's try the random search cross validation fine-tuning for our RFR"
   ]
  },
  {
   "cell_type": "code",
   "execution_count": 614,
   "metadata": {},
   "outputs": [],
   "source": [
    "from scipy.stats import randint"
   ]
  },
  {
   "cell_type": "code",
   "execution_count": 619,
   "metadata": {},
   "outputs": [],
   "source": [
    "from sklearn.model_selection import RandomizedSearchCV\n",
    "\n",
    "model_RFR_ = RandomForestRegressor()\n",
    "random_dist = [\n",
    "    {'n_estimators':randint(low=1, high=200), 'max_features':randint(low=1, high=13)}\n",
    "]\n",
    "    "
   ]
  },
  {
   "cell_type": "code",
   "execution_count": 620,
   "metadata": {},
   "outputs": [],
   "source": [
    "rand_cv = RandomizedSearchCV(model_RFR_, grid_param, cv=5, verbose=2, scoring='neg_mean_squared_error', return_train_score=True)"
   ]
  },
  {
   "cell_type": "code",
   "execution_count": 626,
   "metadata": {},
   "outputs": [
    {
     "name": "stdout",
     "output_type": "stream",
     "text": [
      "Fitting 5 folds for each of 10 candidates, totalling 50 fits\n",
      "[CV] n_estimators=2, max_features=8 ..................................\n",
      "[CV] ................... n_estimators=2, max_features=8, total=   0.0s\n",
      "[CV] n_estimators=2, max_features=8 ..................................\n",
      "[CV] ................... n_estimators=2, max_features=8, total=   0.0s\n",
      "[CV] n_estimators=2, max_features=8 ..................................\n",
      "[CV] ................... n_estimators=2, max_features=8, total=   0.0s\n",
      "[CV] n_estimators=2, max_features=8 ..................................\n",
      "[CV] ................... n_estimators=2, max_features=8, total=   0.0s\n",
      "[CV] n_estimators=2, max_features=8 ..................................\n",
      "[CV] ................... n_estimators=2, max_features=8, total=   0.0s\n",
      "[CV] n_estimators=20, max_features=13 ................................\n",
      "[CV] ................. n_estimators=20, max_features=13, total=   0.1s\n",
      "[CV] n_estimators=20, max_features=13 ................................\n"
     ]
    },
    {
     "name": "stderr",
     "output_type": "stream",
     "text": [
      "[Parallel(n_jobs=1)]: Using backend SequentialBackend with 1 concurrent workers.\n",
      "[Parallel(n_jobs=1)]: Done   1 out of   1 | elapsed:    0.0s remaining:    0.0s\n"
     ]
    },
    {
     "name": "stdout",
     "output_type": "stream",
     "text": [
      "[CV] ................. n_estimators=20, max_features=13, total=   0.1s\n",
      "[CV] n_estimators=20, max_features=13 ................................\n",
      "[CV] ................. n_estimators=20, max_features=13, total=   0.1s\n",
      "[CV] n_estimators=20, max_features=13 ................................\n",
      "[CV] ................. n_estimators=20, max_features=13, total=   0.1s\n",
      "[CV] n_estimators=20, max_features=13 ................................\n",
      "[CV] ................. n_estimators=20, max_features=13, total=   0.1s\n",
      "[CV] n_estimators=4, max_features=8 ..................................\n",
      "[CV] ................... n_estimators=4, max_features=8, total=   0.0s\n",
      "[CV] n_estimators=4, max_features=8 ..................................\n",
      "[CV] ................... n_estimators=4, max_features=8, total=   0.0s\n",
      "[CV] n_estimators=4, max_features=8 ..................................\n",
      "[CV] ................... n_estimators=4, max_features=8, total=   0.0s\n",
      "[CV] n_estimators=4, max_features=8 ..................................\n",
      "[CV] ................... n_estimators=4, max_features=8, total=   0.0s\n",
      "[CV] n_estimators=4, max_features=8 ..................................\n",
      "[CV] ................... n_estimators=4, max_features=8, total=   0.0s\n",
      "[CV] n_estimators=6, max_features=13 .................................\n",
      "[CV] .................. n_estimators=6, max_features=13, total=   0.0s\n",
      "[CV] n_estimators=6, max_features=13 .................................\n",
      "[CV] .................. n_estimators=6, max_features=13, total=   0.0s\n",
      "[CV] n_estimators=6, max_features=13 .................................\n",
      "[CV] .................. n_estimators=6, max_features=13, total=   0.0s\n",
      "[CV] n_estimators=6, max_features=13 .................................\n",
      "[CV] .................. n_estimators=6, max_features=13, total=   0.0s\n",
      "[CV] n_estimators=6, max_features=13 .................................\n",
      "[CV] .................. n_estimators=6, max_features=13, total=   0.0s\n",
      "[CV] n_estimators=16, max_features=12 ................................\n",
      "[CV] ................. n_estimators=16, max_features=12, total=   0.1s\n",
      "[CV] n_estimators=16, max_features=12 ................................\n",
      "[CV] ................. n_estimators=16, max_features=12, total=   0.0s\n",
      "[CV] n_estimators=16, max_features=12 ................................\n",
      "[CV] ................. n_estimators=16, max_features=12, total=   0.0s\n",
      "[CV] n_estimators=16, max_features=12 ................................\n",
      "[CV] ................. n_estimators=16, max_features=12, total=   0.0s\n",
      "[CV] n_estimators=16, max_features=12 ................................\n",
      "[CV] ................. n_estimators=16, max_features=12, total=   0.0s\n",
      "[CV] n_estimators=20, max_features=10 ................................\n",
      "[CV] ................. n_estimators=20, max_features=10, total=   0.1s\n",
      "[CV] n_estimators=20, max_features=10 ................................\n",
      "[CV] ................. n_estimators=20, max_features=10, total=   0.1s\n",
      "[CV] n_estimators=20, max_features=10 ................................\n",
      "[CV] ................. n_estimators=20, max_features=10, total=   0.1s\n",
      "[CV] n_estimators=20, max_features=10 ................................\n",
      "[CV] ................. n_estimators=20, max_features=10, total=   0.1s\n",
      "[CV] n_estimators=20, max_features=10 ................................\n",
      "[CV] ................. n_estimators=20, max_features=10, total=   0.1s\n",
      "[CV] n_estimators=12, max_features=9 .................................\n",
      "[CV] .................. n_estimators=12, max_features=9, total=   0.0s\n",
      "[CV] n_estimators=12, max_features=9 .................................\n",
      "[CV] .................. n_estimators=12, max_features=9, total=   0.0s\n",
      "[CV] n_estimators=12, max_features=9 .................................\n",
      "[CV] .................. n_estimators=12, max_features=9, total=   0.0s\n",
      "[CV] n_estimators=12, max_features=9 .................................\n",
      "[CV] .................. n_estimators=12, max_features=9, total=   0.0s\n",
      "[CV] n_estimators=12, max_features=9 .................................\n",
      "[CV] .................. n_estimators=12, max_features=9, total=   0.0s\n",
      "[CV] n_estimators=10, max_features=6 .................................\n",
      "[CV] .................. n_estimators=10, max_features=6, total=   0.0s\n",
      "[CV] n_estimators=10, max_features=6 .................................\n",
      "[CV] .................. n_estimators=10, max_features=6, total=   0.0s\n",
      "[CV] n_estimators=10, max_features=6 .................................\n",
      "[CV] .................. n_estimators=10, max_features=6, total=   0.0s\n",
      "[CV] n_estimators=10, max_features=6 .................................\n",
      "[CV] .................. n_estimators=10, max_features=6, total=   0.0s\n",
      "[CV] n_estimators=10, max_features=6 .................................\n",
      "[CV] .................. n_estimators=10, max_features=6, total=   0.0s\n",
      "[CV] n_estimators=6, max_features=9 ..................................\n",
      "[CV] ................... n_estimators=6, max_features=9, total=   0.0s\n",
      "[CV] n_estimators=6, max_features=9 ..................................\n",
      "[CV] ................... n_estimators=6, max_features=9, total=   0.0s\n",
      "[CV] n_estimators=6, max_features=9 ..................................\n",
      "[CV] ................... n_estimators=6, max_features=9, total=   0.0s\n",
      "[CV] n_estimators=6, max_features=9 ..................................\n",
      "[CV] ................... n_estimators=6, max_features=9, total=   0.0s\n",
      "[CV] n_estimators=6, max_features=9 ..................................\n",
      "[CV] ................... n_estimators=6, max_features=9, total=   0.0s\n",
      "[CV] n_estimators=10, max_features=13 ................................\n",
      "[CV] ................. n_estimators=10, max_features=13, total=   0.0s\n",
      "[CV] n_estimators=10, max_features=13 ................................\n",
      "[CV] ................. n_estimators=10, max_features=13, total=   0.0s\n",
      "[CV] n_estimators=10, max_features=13 ................................\n",
      "[CV] ................. n_estimators=10, max_features=13, total=   0.0s\n",
      "[CV] n_estimators=10, max_features=13 ................................\n",
      "[CV] ................. n_estimators=10, max_features=13, total=   0.0s\n",
      "[CV] n_estimators=10, max_features=13 ................................\n",
      "[CV] ................. n_estimators=10, max_features=13, total=   0.0s\n"
     ]
    },
    {
     "name": "stderr",
     "output_type": "stream",
     "text": [
      "[Parallel(n_jobs=1)]: Done  50 out of  50 | elapsed:    1.8s finished\n"
     ]
    },
    {
     "data": {
      "text/plain": [
       "RandomizedSearchCV(cv=5, estimator=RandomForestRegressor(),\n",
       "                   param_distributions=[{'max_features': [5, 6, 7, 8, 9, 10, 11,\n",
       "                                                          12, 13],\n",
       "                                         'n_estimators': [2, 4, 6, 8, 10, 12,\n",
       "                                                          14, 16, 20]}],\n",
       "                   return_train_score=True, scoring='neg_mean_squared_error',\n",
       "                   verbose=2)"
      ]
     },
     "execution_count": 626,
     "metadata": {},
     "output_type": "execute_result"
    }
   ],
   "source": [
    "rand_cv.fit(X_train, y_train)"
   ]
  },
  {
   "cell_type": "code",
   "execution_count": 628,
   "metadata": {
    "scrolled": false
   },
   "outputs": [
    {
     "data": {
      "text/plain": [
       "({'n_estimators': 12, 'max_features': 9}, 3.3152472063065197)"
      ]
     },
     "execution_count": 628,
     "metadata": {},
     "output_type": "execute_result"
    }
   ],
   "source": [
    "rand_cv.best_params_, np.sqrt(-rand_cv.best_score_)"
   ]
  },
  {
   "cell_type": "code",
   "execution_count": 630,
   "metadata": {
    "scrolled": true
   },
   "outputs": [
    {
     "data": {
      "text/plain": [
       "RandomForestRegressor(max_features=9, n_estimators=8)"
      ]
     },
     "execution_count": 630,
     "metadata": {},
     "output_type": "execute_result"
    }
   ],
   "source": [
    "grid_cv.best_estimator_"
   ]
  },
  {
   "cell_type": "code",
   "execution_count": 633,
   "metadata": {
    "scrolled": true
   },
   "outputs": [
    {
     "data": {
      "text/plain": [
       "array([19.6   , 31.025 , 14.7125, 17.35  , 33.4125, 18.85  , 20.1   ,\n",
       "       14.1   , 21.7   , 34.5625])"
      ]
     },
     "execution_count": 633,
     "metadata": {},
     "output_type": "execute_result"
    }
   ],
   "source": [
    "grid_cv.best_estimator_.predict(X_train)[-10:]"
   ]
  },
  {
   "cell_type": "code",
   "execution_count": 634,
   "metadata": {},
   "outputs": [
    {
     "data": {
      "text/plain": [
       "array([19.6, 33.2, 13.9, 17.4, 34.9, 18.7, 19.9, 13.8, 21.7, 35.2])"
      ]
     },
     "execution_count": 634,
     "metadata": {},
     "output_type": "execute_result"
    }
   ],
   "source": [
    "y_train.values[-10:]"
   ]
  },
  {
   "cell_type": "code",
   "execution_count": 635,
   "metadata": {},
   "outputs": [
    {
     "data": {
      "text/plain": [
       "array([19.55833333, 32.14166667, 14.625     , 18.28333333, 33.88333333,\n",
       "       18.975     , 18.99166667, 14.14166667, 22.15833333, 34.45      ])"
      ]
     },
     "execution_count": 635,
     "metadata": {},
     "output_type": "execute_result"
    }
   ],
   "source": [
    "rand_cv.best_estimator_.predict(X_train)[-10:]"
   ]
  },
  {
   "cell_type": "markdown",
   "metadata": {},
   "source": [
    "### I feel that the randomized cross validation model best parameters are much flexible and effiecient on multiple training rounds"
   ]
  },
  {
   "cell_type": "markdown",
   "metadata": {},
   "source": [
    "### Let's compute the 95% confidence interval for the squared error"
   ]
  },
  {
   "cell_type": "code",
   "execution_count": 592,
   "metadata": {},
   "outputs": [],
   "source": [
    "from scipy import stats"
   ]
  },
  {
   "cell_type": "code",
   "execution_count": 596,
   "metadata": {},
   "outputs": [
    {
     "data": {
      "text/plain": [
       "(1.14088313279931, 3.88806024591356)"
      ]
     },
     "execution_count": 596,
     "metadata": {},
     "output_type": "execute_result"
    }
   ],
   "source": [
    "conf = 0.95\n",
    "grid_cv_pred = grid_cv.best_estimator_.predict(X_train)\n",
    "squared_error =  (y_train.values-grid_cv_pred)**2\n",
    "mean = squared_error.mean()\n",
    "deg_f = len(squared_error)-1\n",
    "t_val = stats.t.ppf((1+conf)/2, deg_f)\n",
    "# 95% confidence interval of the squared error for our RFR model\n",
    "mean-(t_val*(squared_error.std(ddof=1))/np.sqrt(len(squared_error))), mean+(t_val*(squared_error.std(ddof=1))/np.sqrt(len(squared_error)))"
   ]
  },
  {
   "cell_type": "markdown",
   "metadata": {},
   "source": [
    "**grid search cross validation RFR model** : mean error: 3.37 max_features=9, n_estimators=8<br>\n",
    "**randomized search cross validation RFR model** : mean error: 3.31 max_features=9, n_estimators=12<br>\n",
    "**stochastic gradient descent regressor model** : mean error: 3.94 **out of the 95% confiedence**"
   ]
  },
  {
   "cell_type": "markdown",
   "metadata": {},
   "source": [
    "### Now, we want to test our RFR model on the testing dataset."
   ]
  },
  {
   "cell_type": "code",
   "execution_count": 654,
   "metadata": {},
   "outputs": [
    {
     "data": {
      "text/html": [
       "<div>\n",
       "<style scoped>\n",
       "    .dataframe tbody tr th:only-of-type {\n",
       "        vertical-align: middle;\n",
       "    }\n",
       "\n",
       "    .dataframe tbody tr th {\n",
       "        vertical-align: top;\n",
       "    }\n",
       "\n",
       "    .dataframe thead th {\n",
       "        text-align: right;\n",
       "    }\n",
       "</style>\n",
       "<table border=\"1\" class=\"dataframe\">\n",
       "  <thead>\n",
       "    <tr style=\"text-align: right;\">\n",
       "      <th></th>\n",
       "      <th>CRIM</th>\n",
       "      <th>ZN</th>\n",
       "      <th>INDUS</th>\n",
       "      <th>CHAS</th>\n",
       "      <th>NOX</th>\n",
       "      <th>RM</th>\n",
       "      <th>AGE</th>\n",
       "      <th>DIS</th>\n",
       "      <th>RAD</th>\n",
       "      <th>TAX</th>\n",
       "      <th>PTRATIO</th>\n",
       "      <th>B</th>\n",
       "      <th>LSTAT</th>\n",
       "      <th>MEDV</th>\n",
       "      <th>LSTAT_cut</th>\n",
       "    </tr>\n",
       "  </thead>\n",
       "  <tbody>\n",
       "    <tr>\n",
       "      <th>266</th>\n",
       "      <td>0.78570</td>\n",
       "      <td>20.0</td>\n",
       "      <td>3.97</td>\n",
       "      <td>0</td>\n",
       "      <td>0.647</td>\n",
       "      <td>7.014</td>\n",
       "      <td>84.6</td>\n",
       "      <td>2.1329</td>\n",
       "      <td>5</td>\n",
       "      <td>264.0</td>\n",
       "      <td>13.0</td>\n",
       "      <td>384.07</td>\n",
       "      <td>14.79</td>\n",
       "      <td>30.7</td>\n",
       "      <td>3</td>\n",
       "    </tr>\n",
       "    <tr>\n",
       "      <th>263</th>\n",
       "      <td>0.82526</td>\n",
       "      <td>20.0</td>\n",
       "      <td>3.97</td>\n",
       "      <td>0</td>\n",
       "      <td>0.647</td>\n",
       "      <td>7.327</td>\n",
       "      <td>94.5</td>\n",
       "      <td>2.0788</td>\n",
       "      <td>5</td>\n",
       "      <td>264.0</td>\n",
       "      <td>13.0</td>\n",
       "      <td>393.42</td>\n",
       "      <td>11.25</td>\n",
       "      <td>31.0</td>\n",
       "      <td>3</td>\n",
       "    </tr>\n",
       "    <tr>\n",
       "      <th>192</th>\n",
       "      <td>0.08664</td>\n",
       "      <td>45.0</td>\n",
       "      <td>3.44</td>\n",
       "      <td>0</td>\n",
       "      <td>0.437</td>\n",
       "      <td>7.178</td>\n",
       "      <td>26.3</td>\n",
       "      <td>6.4798</td>\n",
       "      <td>5</td>\n",
       "      <td>398.0</td>\n",
       "      <td>15.2</td>\n",
       "      <td>390.49</td>\n",
       "      <td>2.87</td>\n",
       "      <td>36.4</td>\n",
       "      <td>1</td>\n",
       "    </tr>\n",
       "    <tr>\n",
       "      <th>53</th>\n",
       "      <td>0.04981</td>\n",
       "      <td>21.0</td>\n",
       "      <td>5.64</td>\n",
       "      <td>0</td>\n",
       "      <td>0.439</td>\n",
       "      <td>5.998</td>\n",
       "      <td>21.4</td>\n",
       "      <td>6.8147</td>\n",
       "      <td>4</td>\n",
       "      <td>243.0</td>\n",
       "      <td>16.8</td>\n",
       "      <td>396.90</td>\n",
       "      <td>8.43</td>\n",
       "      <td>23.4</td>\n",
       "      <td>2</td>\n",
       "    </tr>\n",
       "    <tr>\n",
       "      <th>42</th>\n",
       "      <td>0.14150</td>\n",
       "      <td>0.0</td>\n",
       "      <td>6.91</td>\n",
       "      <td>0</td>\n",
       "      <td>0.448</td>\n",
       "      <td>6.169</td>\n",
       "      <td>6.6</td>\n",
       "      <td>5.7209</td>\n",
       "      <td>3</td>\n",
       "      <td>233.0</td>\n",
       "      <td>17.9</td>\n",
       "      <td>383.37</td>\n",
       "      <td>5.81</td>\n",
       "      <td>25.3</td>\n",
       "      <td>2</td>\n",
       "    </tr>\n",
       "  </tbody>\n",
       "</table>\n",
       "</div>"
      ],
      "text/plain": [
       "        CRIM    ZN  INDUS  CHAS    NOX     RM   AGE     DIS  RAD    TAX  \\\n",
       "266  0.78570  20.0   3.97     0  0.647  7.014  84.6  2.1329    5  264.0   \n",
       "263  0.82526  20.0   3.97     0  0.647  7.327  94.5  2.0788    5  264.0   \n",
       "192  0.08664  45.0   3.44     0  0.437  7.178  26.3  6.4798    5  398.0   \n",
       "53   0.04981  21.0   5.64     0  0.439  5.998  21.4  6.8147    4  243.0   \n",
       "42   0.14150   0.0   6.91     0  0.448  6.169   6.6  5.7209    3  233.0   \n",
       "\n",
       "     PTRATIO       B  LSTAT  MEDV LSTAT_cut  \n",
       "266     13.0  384.07  14.79  30.7         3  \n",
       "263     13.0  393.42  11.25  31.0         3  \n",
       "192     15.2  390.49   2.87  36.4         1  \n",
       "53      16.8  396.90   8.43  23.4         2  \n",
       "42      17.9  383.37   5.81  25.3         2  "
      ]
     },
     "execution_count": 654,
     "metadata": {},
     "output_type": "execute_result"
    }
   ],
   "source": [
    "test_df.head()"
   ]
  },
  {
   "cell_type": "code",
   "execution_count": 658,
   "metadata": {},
   "outputs": [],
   "source": [
    "# Preparing our testting dataset.\n",
    "test_df.drop(['LSTAT_cut'], axis=1, inplace=True)\n",
    "X_test = test_df.drop(['MEDV'], axis=1)\n",
    "y_test = test_df.MEDV.copy()"
   ]
  },
  {
   "cell_type": "code",
   "execution_count": 659,
   "metadata": {},
   "outputs": [
    {
     "data": {
      "text/plain": [
       "array([30.7, 31. , 36.4, 23.4, 25.3, 15.7, 18.9, 20.6, 10.4, 14.2, 24.7,\n",
       "       13.8, 23.3, 20.3, 20.1, 26.2, 22. , 29.4, 18.7, 25. , 21.7, 13.3,\n",
       "        8.8, 33.8, 18.2, 14.5, 50. , 20.8, 29.8, 13.8, 12.7, 30.1,  9.7,\n",
       "       23. , 27.5, 14.1, 20.6, 17.4, 23.9, 18.4, 11. , 50. , 22. , 19.3,\n",
       "       19.7, 50. , 18.3, 20.5, 14.1, 25. , 29.6, 15.6, 50. , 27.1, 24.6,\n",
       "       21.6, 13.1, 33.3, 20.3, 37.3, 22.3, 22.6, 13.4, 27.5, 34.6, 17.8,\n",
       "       29.8, 24.5, 26.6, 13.1, 28.4, 31.6, 12.6, 21.2, 11.3, 23.1, 14.3,\n",
       "       12.7, 13.3, 15. , 50. ,  7. , 20.4, 36.2, 24.4, 43.8, 32.4, 22.7,\n",
       "       21.7,  8.4, 16.2, 13.1, 50. , 11.9, 16.5, 22.9, 22.9, 23.2, 33.2,\n",
       "       18.5, 19.4, 16. ])"
      ]
     },
     "execution_count": 659,
     "metadata": {},
     "output_type": "execute_result"
    }
   ],
   "source": [
    "y_test.values"
   ]
  },
  {
   "cell_type": "code",
   "execution_count": 661,
   "metadata": {},
   "outputs": [
    {
     "data": {
      "text/html": [
       "<div>\n",
       "<style scoped>\n",
       "    .dataframe tbody tr th:only-of-type {\n",
       "        vertical-align: middle;\n",
       "    }\n",
       "\n",
       "    .dataframe tbody tr th {\n",
       "        vertical-align: top;\n",
       "    }\n",
       "\n",
       "    .dataframe thead th {\n",
       "        text-align: right;\n",
       "    }\n",
       "</style>\n",
       "<table border=\"1\" class=\"dataframe\">\n",
       "  <thead>\n",
       "    <tr style=\"text-align: right;\">\n",
       "      <th></th>\n",
       "      <th>CRIM</th>\n",
       "      <th>ZN</th>\n",
       "      <th>INDUS</th>\n",
       "      <th>CHAS</th>\n",
       "      <th>NOX</th>\n",
       "      <th>RM</th>\n",
       "      <th>AGE</th>\n",
       "      <th>DIS</th>\n",
       "      <th>RAD</th>\n",
       "      <th>TAX</th>\n",
       "      <th>PTRATIO</th>\n",
       "      <th>B</th>\n",
       "      <th>LSTAT</th>\n",
       "    </tr>\n",
       "  </thead>\n",
       "  <tbody>\n",
       "    <tr>\n",
       "      <th>266</th>\n",
       "      <td>0.78570</td>\n",
       "      <td>20.0</td>\n",
       "      <td>3.97</td>\n",
       "      <td>0</td>\n",
       "      <td>0.647</td>\n",
       "      <td>7.014</td>\n",
       "      <td>84.6</td>\n",
       "      <td>2.1329</td>\n",
       "      <td>5</td>\n",
       "      <td>264.0</td>\n",
       "      <td>13.0</td>\n",
       "      <td>384.07</td>\n",
       "      <td>14.79</td>\n",
       "    </tr>\n",
       "    <tr>\n",
       "      <th>263</th>\n",
       "      <td>0.82526</td>\n",
       "      <td>20.0</td>\n",
       "      <td>3.97</td>\n",
       "      <td>0</td>\n",
       "      <td>0.647</td>\n",
       "      <td>7.327</td>\n",
       "      <td>94.5</td>\n",
       "      <td>2.0788</td>\n",
       "      <td>5</td>\n",
       "      <td>264.0</td>\n",
       "      <td>13.0</td>\n",
       "      <td>393.42</td>\n",
       "      <td>11.25</td>\n",
       "    </tr>\n",
       "    <tr>\n",
       "      <th>192</th>\n",
       "      <td>0.08664</td>\n",
       "      <td>45.0</td>\n",
       "      <td>3.44</td>\n",
       "      <td>0</td>\n",
       "      <td>0.437</td>\n",
       "      <td>7.178</td>\n",
       "      <td>26.3</td>\n",
       "      <td>6.4798</td>\n",
       "      <td>5</td>\n",
       "      <td>398.0</td>\n",
       "      <td>15.2</td>\n",
       "      <td>390.49</td>\n",
       "      <td>2.87</td>\n",
       "    </tr>\n",
       "    <tr>\n",
       "      <th>53</th>\n",
       "      <td>0.04981</td>\n",
       "      <td>21.0</td>\n",
       "      <td>5.64</td>\n",
       "      <td>0</td>\n",
       "      <td>0.439</td>\n",
       "      <td>5.998</td>\n",
       "      <td>21.4</td>\n",
       "      <td>6.8147</td>\n",
       "      <td>4</td>\n",
       "      <td>243.0</td>\n",
       "      <td>16.8</td>\n",
       "      <td>396.90</td>\n",
       "      <td>8.43</td>\n",
       "    </tr>\n",
       "    <tr>\n",
       "      <th>42</th>\n",
       "      <td>0.14150</td>\n",
       "      <td>0.0</td>\n",
       "      <td>6.91</td>\n",
       "      <td>0</td>\n",
       "      <td>0.448</td>\n",
       "      <td>6.169</td>\n",
       "      <td>6.6</td>\n",
       "      <td>5.7209</td>\n",
       "      <td>3</td>\n",
       "      <td>233.0</td>\n",
       "      <td>17.9</td>\n",
       "      <td>383.37</td>\n",
       "      <td>5.81</td>\n",
       "    </tr>\n",
       "  </tbody>\n",
       "</table>\n",
       "</div>"
      ],
      "text/plain": [
       "        CRIM    ZN  INDUS  CHAS    NOX     RM   AGE     DIS  RAD    TAX  \\\n",
       "266  0.78570  20.0   3.97     0  0.647  7.014  84.6  2.1329    5  264.0   \n",
       "263  0.82526  20.0   3.97     0  0.647  7.327  94.5  2.0788    5  264.0   \n",
       "192  0.08664  45.0   3.44     0  0.437  7.178  26.3  6.4798    5  398.0   \n",
       "53   0.04981  21.0   5.64     0  0.439  5.998  21.4  6.8147    4  243.0   \n",
       "42   0.14150   0.0   6.91     0  0.448  6.169   6.6  5.7209    3  233.0   \n",
       "\n",
       "     PTRATIO       B  LSTAT  \n",
       "266     13.0  384.07  14.79  \n",
       "263     13.0  393.42  11.25  \n",
       "192     15.2  390.49   2.87  \n",
       "53      16.8  396.90   8.43  \n",
       "42      17.9  383.37   5.81  "
      ]
     },
     "execution_count": 661,
     "metadata": {},
     "output_type": "execute_result"
    }
   ],
   "source": [
    "X_test.head()"
   ]
  },
  {
   "cell_type": "code",
   "execution_count": 662,
   "metadata": {},
   "outputs": [],
   "source": [
    "X_test = full_pipeline.transform(X_test)"
   ]
  },
  {
   "cell_type": "code",
   "execution_count": 663,
   "metadata": {},
   "outputs": [
    {
     "data": {
      "text/plain": [
       "array([[-0.33604777,  0.38081144, -1.04280766, ..., -1.31749286,\n",
       "        -0.63979563, -0.26658658],\n",
       "       [-0.33127603,  0.38081144, -1.04280766, ..., -1.31749286,\n",
       "        -0.62875563, -0.24193114],\n",
       "       [-0.42036865,  1.46394168, -1.12166299, ..., -1.1363074 ,\n",
       "        -0.94301599, -0.7438472 ],\n",
       "       ...,\n",
       "       [-0.42715113, -0.48569276, -0.86129161, ..., -0.90606638,\n",
       "        -0.85334925, -0.90862879],\n",
       "       [-0.42553723,  2.98032403, -1.13207785, ..., -1.07415144,\n",
       "        -0.94783919, -0.82383158],\n",
       "       [-0.41010748,  0.59743749, -0.87021863, ..., -0.77592309,\n",
       "        -0.89253735, -0.89517098]])"
      ]
     },
     "execution_count": 663,
     "metadata": {},
     "output_type": "execute_result"
    }
   ],
   "source": [
    "X_test"
   ]
  },
  {
   "cell_type": "code",
   "execution_count": 664,
   "metadata": {},
   "outputs": [],
   "source": [
    "grid_test_pred = grid_cv.best_estimator_.predict(X_test)"
   ]
  },
  {
   "cell_type": "code",
   "execution_count": 668,
   "metadata": {},
   "outputs": [
    {
     "data": {
      "text/plain": [
       "(3.1971686309767833, {'max_features': 9, 'n_estimators': 8})"
      ]
     },
     "execution_count": 668,
     "metadata": {},
     "output_type": "execute_result"
    }
   ],
   "source": [
    "np.sqrt(mean_squared_error(y_test, grid_test_pred)), grid_cv.best_params_ # Great Job! we reached average error of 3.19"
   ]
  },
  {
   "cell_type": "code",
   "execution_count": 669,
   "metadata": {},
   "outputs": [],
   "source": [
    "random_test_pred = rand_cv.best_estimator_.predict(X_test)"
   ]
  },
  {
   "cell_type": "code",
   "execution_count": 671,
   "metadata": {},
   "outputs": [
    {
     "data": {
      "text/plain": [
       "(4.143952631194771, {'n_estimators': 12, 'max_features': 9})"
      ]
     },
     "execution_count": 671,
     "metadata": {},
     "output_type": "execute_result"
    }
   ],
   "source": [
    "np.sqrt(mean_squared_error(y_test, random_test_pred)), rand_cv.best_params_ # Oobs! very bad performance on the testing for the randomized search cv model."
   ]
  },
  {
   "cell_type": "markdown",
   "metadata": {},
   "source": [
    "### We concluded that the grid search cross valid model is better than the random search cv model of average error 3.197 on test data set"
   ]
  },
  {
   "cell_type": "code",
   "execution_count": 678,
   "metadata": {},
   "outputs": [
    {
     "data": {
      "text/plain": [
       "['model_RFR_final.pkl']"
      ]
     },
     "execution_count": 678,
     "metadata": {},
     "output_type": "execute_result"
    }
   ],
   "source": [
    "# saving our final model\n",
    "import joblib\n",
    "joblib.dump(grid_cv.best_estimator_, 'model_RFR_final.pkl')"
   ]
  },
  {
   "cell_type": "code",
   "execution_count": 679,
   "metadata": {},
   "outputs": [],
   "source": [
    "# Done!"
   ]
  },
  {
   "cell_type": "code",
   "execution_count": null,
   "metadata": {},
   "outputs": [],
   "source": []
  }
 ],
 "metadata": {
  "kernelspec": {
   "display_name": "Python 3",
   "language": "python",
   "name": "python3"
  },
  "language_info": {
   "codemirror_mode": {
    "name": "ipython",
    "version": 3
   },
   "file_extension": ".py",
   "mimetype": "text/x-python",
   "name": "python",
   "nbconvert_exporter": "python",
   "pygments_lexer": "ipython3",
   "version": "3.8.3"
  }
 },
 "nbformat": 4,
 "nbformat_minor": 4
}
